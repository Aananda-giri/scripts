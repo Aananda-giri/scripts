{
  "nbformat": 4,
  "nbformat_minor": 0,
  "metadata": {
    "colab": {
      "provenance": []
    },
    "kernelspec": {
      "name": "python3",
      "display_name": "Python 3"
    },
    "language_info": {
      "name": "python"
    }
  },
  "cells": [
    {
      "cell_type": "markdown",
      "source": [
        "# Using TFIDF and cosine similarity"
      ],
      "metadata": {
        "id": "9FJXKMgPz2_T"
      }
    },
    {
      "cell_type": "code",
      "source": [
        "!pip install scikit-learn --quiet"
      ],
      "metadata": {
        "id": "0_fF3R6wz9Q1"
      },
      "execution_count": null,
      "outputs": []
    },
    {
      "cell_type": "code",
      "source": [
        "import numpy as np\n",
        "from sklearn.feature_extraction.text import TfidfVectorizer\n",
        "from sklearn.metrics.pairwise import cosine_similarity\n",
        "\n",
        "# Step 1: Prepare the dummy dataset\n",
        "file_names = [\n",
        "    \"report1.txt\", \"report2.txt\", \"data_summary.csv\", \"analysis_results.xlsx\",\n",
        "    \"presentation.pptx\", \"meeting_notes.docx\", \"budget.xlsx\", \"project_plan.pdf\"\n",
        "]\n",
        "\n",
        "# Step 2: Compute TF-IDF vectors for the dataset\n",
        "vectorizer = TfidfVectorizer()\n",
        "tfidf_matrix = vectorizer.fit_transform(file_names)\n",
        "\n",
        "# Step 3: Implement a function to perform a search query using cosine similarity\n",
        "def search(query, tfidf_matrix, vectorizer, top_k=5):\n",
        "    # Returns the\n",
        "    query_vec = vectorizer.transform([query])\n",
        "    '''\n",
        "    returns data in form of (0, 12)\t0.6423280258820045\n",
        "    0: This represents the row index in the TF-IDF matrix. In this case, it indicates the first document in your query (or the first element in the list of queries you are transforming).\n",
        "    12: This represents the column index, which corresponds to the position of a specific token in the vocabulary.\n",
        "    0.6423280258820045: This is the TF-IDF value for the token at the given row and column indices.\n",
        "    '''\n",
        "    print(f'-------------\\nquery_vec: {query_vec}', end=\"\\n-------------\\n\")\n",
        "    cosine_similarities = cosine_similarity(query_vec, tfidf_matrix).flatten()\n",
        "    # Sort based on similarity score\n",
        "    related_docs_indices = cosine_similarities.argsort()[-top_k:][::-1]\n",
        "    return [(file_names[idx], cosine_similarities[idx]) for idx in related_docs_indices]\n",
        "\n",
        "# Test the search function with a sample query\n",
        "query = \"pptx csv\"\n",
        "results = search(query, tfidf_matrix, vectorizer)\n",
        "for filename, score in results:\n",
        "    print(f\"Filename: {filename}, Similarity Score: {score}\")\n",
        "\n",
        "# Output the TF-IDF matrix for reference\n",
        "print(\"\\nTF-IDF Matrix:\")\n",
        "print(list(vectorizer.get_feature_names_out()))\n",
        "print(tfidf_matrix.toarray())\n"
      ],
      "metadata": {
        "colab": {
          "base_uri": "https://localhost:8080/"
        },
        "id": "hqh0_cwjz6EV",
        "outputId": "16688b86-c10a-40ac-c5f0-f12c0390c089"
      },
      "execution_count": 33,
      "outputs": [
        {
          "output_type": "stream",
          "name": "stdout",
          "text": [
            "-------------\n",
            "query_vec:   (0, 7)\t0.7071067811865475\n",
            "  (0, 2)\t0.7071067811865475\n",
            "-------------\n",
            "Filename: presentation.pptx, Similarity Score: 0.5000000000000001\n",
            "Filename: data_summary.csv, Similarity Score: 0.5000000000000001\n",
            "Filename: project_plan.pdf, Similarity Score: 0.0\n",
            "Filename: budget.xlsx, Similarity Score: 0.0\n",
            "Filename: meeting_notes.docx, Similarity Score: 0.0\n",
            "\n",
            "TF-IDF Matrix:\n",
            "['analysis_results', 'budget', 'csv', 'data_summary', 'docx', 'meeting_notes', 'pdf', 'pptx', 'presentation', 'project_plan', 'report1', 'report2', 'txt', 'xlsx']\n",
            "[[0.         0.         0.         0.         0.         0.\n",
            "  0.         0.         0.         0.         0.76642984 0.\n",
            "  0.64232803 0.        ]\n",
            " [0.         0.         0.         0.         0.         0.\n",
            "  0.         0.         0.         0.         0.         0.76642984\n",
            "  0.64232803 0.        ]\n",
            " [0.         0.         0.70710678 0.70710678 0.         0.\n",
            "  0.         0.         0.         0.         0.         0.\n",
            "  0.         0.        ]\n",
            " [0.76642984 0.         0.         0.         0.         0.\n",
            "  0.         0.         0.         0.         0.         0.\n",
            "  0.         0.64232803]\n",
            " [0.         0.         0.         0.         0.         0.\n",
            "  0.         0.70710678 0.70710678 0.         0.         0.\n",
            "  0.         0.        ]\n",
            " [0.         0.         0.         0.         0.70710678 0.70710678\n",
            "  0.         0.         0.         0.         0.         0.\n",
            "  0.         0.        ]\n",
            " [0.         0.76642984 0.         0.         0.         0.\n",
            "  0.         0.         0.         0.         0.         0.\n",
            "  0.         0.64232803]\n",
            " [0.         0.         0.         0.         0.         0.\n",
            "  0.70710678 0.         0.         0.70710678 0.         0.\n",
            "  0.         0.        ]]\n"
          ]
        }
      ]
    },
    {
      "cell_type": "code",
      "source": [
        "query=\"txt\"\n",
        "# def search(query, tfidf_matrix, vectorizer, top_k=5):\n",
        "query_vec = vectorizer.transform([query])\n",
        "cosine_similarities = cosine_similarity(query_vec, tfidf_matrix).flatten()\n",
        "cosine_similarities\n",
        "# related_docs_indices = cosine_similarities.argsort()[-top_k:][::-1]\n",
        "# return [(file_names[idx], cosine_similarities[idx]) for idx in related_docs_indices]"
      ],
      "metadata": {
        "colab": {
          "base_uri": "https://localhost:8080/"
        },
        "id": "RcAQ8yrwi3kD",
        "outputId": "a5a11f5c-f30f-44e6-8dac-6bb1b7903ad0"
      },
      "execution_count": 20,
      "outputs": [
        {
          "output_type": "execute_result",
          "data": {
            "text/plain": [
              "array([0.64232803, 0.64232803, 0.        , 0.        , 0.        ,\n",
              "       0.        , 0.        , 0.        ])"
            ]
          },
          "metadata": {},
          "execution_count": 20
        }
      ]
    }
  ]
}