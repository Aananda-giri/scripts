{
 "cells": [
  {
   "cell_type": "code",
   "execution_count": 1,
   "metadata": {},
   "outputs": [
    {
     "name": "stdout",
     "output_type": "stream",
     "text": [
      "\n",
      " file_size: 0.2539510726928711\n",
      "PDF downloaded successfully to Spot-Speed-Study.pdf\n"
     ]
    },
    {
     "data": {
      "text/plain": [
       "True"
      ]
     },
     "execution_count": 1,
     "metadata": {},
     "output_type": "execute_result"
    }
   ],
   "source": [
    "# Download normal pdf if size is lesss than 5MB\n",
    "import requests\n",
    "import os\n",
    "\n",
    "def download_pdf(url, save_path):\n",
    "    # Send a HEAD request to get the file size without downloading the entire file\n",
    "    response = requests.head(url)\n",
    "    file_size = int(response.headers.get('Content-Length', 0))\n",
    "    \n",
    "    # Convert 5 MB to bytes\n",
    "    max_size = 5 * 1024 * 1024  # 5 MB in bytes\n",
    "    print(f'\\n file_size: {file_size / (1024**2)}')\n",
    "    if file_size > max_size:\n",
    "        print(f\"File size ({file_size} bytes) exceeds 5 MB. Download canceled.\")\n",
    "        return False\n",
    "    \n",
    "    # If file size is acceptable, proceed with download\n",
    "    response = requests.get(url)\n",
    "    \n",
    "    if response.status_code == 200:\n",
    "        with open(save_path, 'wb') as file:\n",
    "            file.write(response.content)\n",
    "        print(f\"PDF downloaded successfully to {save_path}\")\n",
    "        return True\n",
    "    else:\n",
    "        print(f\"Failed to download PDF. Status code: {response.status_code}\")\n",
    "        return False\n",
    "    \n",
    "# Example usage\n",
    "url = \"https://abhashacharya.com.np/wp-content/uploads/2017/12/Spot-Speed-Study.pdf\"\n",
    "save_path = \"Spot-Speed-Study.pdf\"\n",
    "\n",
    "download_pdf(url, save_path)"
   ]
  },
  {
   "cell_type": "code",
   "execution_count": 10,
   "metadata": {},
   "outputs": [
    {
     "name": "stderr",
     "output_type": "stream",
     "text": [
      "Downloading...\n",
      "From: https://drive.google.com/file/1d/1CvR4EunDLNqakb9rvYuN5hR2kkMSfG7A/view\n",
      "To: /mnt/resources2/weekly-projects/arxiv/scripts/chat-with-pdf/tests/of_studies.pdf\n",
      "3.79kB [00:00, 418kB/s]"
     ]
    },
    {
     "name": "stdout",
     "output_type": "stream",
     "text": [
      "File downloaded successfully to of_studies.pdf\n"
     ]
    },
    {
     "name": "stderr",
     "output_type": "stream",
     "text": [
      "\n"
     ]
    },
    {
     "data": {
      "text/plain": [
       "True"
      ]
     },
     "execution_count": 10,
     "metadata": {},
     "output_type": "execute_result"
    }
   ],
   "source": [
    "# Download google drive link\n",
    "import gdown\n",
    "import os\n",
    "\n",
    "def download_google_drive_file(url, output_path, max_size_mb=5):\n",
    "    # Download the file\n",
    "    output = gdown.download(url, output=output_path, quiet=False)\n",
    "    if output:\n",
    "        print(f\"File downloaded successfully to {output_path}\")\n",
    "        return True\n",
    "    else:\n",
    "        print(\"Failed to download the file\")\n",
    "        return False\n",
    "\n",
    "# Example usage\n",
    "url = \"https://drive.google.com/file/1d/1CvR4EunDLNqakb9rvYuN5hR2kkMSfG7A/view\"\n",
    "output_path = \"of_studies.pdf\"\n",
    "\n",
    "download_google_drive_file(url, output_path)"
   ]
  },
  {
   "cell_type": "code",
   "execution_count": null,
   "metadata": {},
   "outputs": [],
   "source": [
    "\n",
    "[ ] (drive crawled) convert file size to file size in MB\n",
    "[ ] (scrapy crawled) get file_size and mimetype while crawling\n",
    "\n"
   ]
  }
 ],
 "metadata": {
  "kernelspec": {
   "display_name": "machine_env",
   "language": "python",
   "name": "python3"
  },
  "language_info": {
   "codemirror_mode": {
    "name": "ipython",
    "version": 3
   },
   "file_extension": ".py",
   "mimetype": "text/x-python",
   "name": "python",
   "nbconvert_exporter": "python",
   "pygments_lexer": "ipython3",
   "version": "3.10.12"
  }
 },
 "nbformat": 4,
 "nbformat_minor": 2
}
