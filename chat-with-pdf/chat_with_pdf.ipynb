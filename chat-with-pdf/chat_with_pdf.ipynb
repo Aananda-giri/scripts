{
  "cells": [
    {
      "cell_type": "markdown",
      "metadata": {
        "id": "7ynJtxR7wwIX"
      },
      "source": [
        "# Part-1: pinecone"
      ]
    },
    {
      "cell_type": "code",
      "execution_count": null,
      "metadata": {
        "id": "RG2EjSn1v0dh"
      },
      "outputs": [],
      "source": [
        "!pip install langchain-community langchain-core langchain\n",
        "!pip install pinecone-client\n",
        "!pip install pypdf\n",
        "!pip install openai\n",
        "!pip install tiktoken"
      ]
    },
    {
      "cell_type": "code",
      "execution_count": null,
      "metadata": {
        "id": "Iqu1CDAawAqc"
      },
      "outputs": [],
      "source": [
        "from langchain.document_loaders import PyPDFLoader\n",
        "from langchain.text_splitter import RecursiveCharacterTextSplitter\n",
        "from langchain.embeddings.openai import OpenAIEmbeddings\n",
        "from langchain.llms import OpenAI\n",
        "from langchain.chains import RetrievalQA\n",
        "from langchain.prompts import PromptTemplate\n",
        "import os"
      ]
    },
    {
      "cell_type": "code",
      "execution_count": null,
      "metadata": {
        "id": "LQWFZB1kwcmX"
      },
      "outputs": [],
      "source": [
        "!mkdir pdfs"
      ]
    },
    {
      "cell_type": "code",
      "execution_count": null,
      "metadata": {
        "colab": {
          "base_uri": "https://localhost:8080/"
        },
        "id": "FLmH2Biz2k6F",
        "outputId": "71605b62-ccd9-48ff-d157-de6d2b212153"
      },
      "outputs": [
        {
          "data": {
            "text/plain": [
              "258"
            ]
          },
          "execution_count": 16,
          "metadata": {},
          "output_type": "execute_result"
        }
      ],
      "source": [
        "loader = PyPDFLoader(\"/content/pdfs/art of war -Sant tuz.pdf\")\n",
        "data = loader.load()\n",
        "len(data)"
      ]
    },
    {
      "cell_type": "code",
      "execution_count": null,
      "metadata": {
        "colab": {
          "base_uri": "https://localhost:8080/"
        },
        "id": "EcFloT4-2-_H",
        "outputId": "bbd88dff-f038-4d38-8d9e-ab066f68f942"
      },
      "outputs": [
        {
          "name": "stdout",
          "output_type": "stream",
          "text": [
            "BILINGUAL  CHINESE   AND  ENGLISH  TEXT SUN TZU’S\n",
            "Art of war_part1.indd   i 28/4/16   1:33 pm\n",
            "1265\n"
          ]
        }
      ],
      "source": [
        "# Tokenization\n",
        "text_splitter = RecursiveCharacterTextSplitter(chunk_size=500, chunk_overlap=20)\n",
        "text_chunks = text_splitter.split_documents(data)\n",
        "print(text_chunks[0].page_content)\n",
        "print(len(text_chunks))"
      ]
    },
    {
      "cell_type": "code",
      "execution_count": null,
      "metadata": {
        "id": "nh1EtQgD21FV"
      },
      "outputs": [],
      "source": [
        "import os\n",
        "# Set the key\n",
        "os.getenv['OPENAI_API_KEY'] = 'some_key'\n",
        "\n",
        "embeddings = OpenAIEmbeddings()\n",
        "embeddings.embed(\"how are you\") # Generates a list of embeddings"
      ]
    },
    {
      "cell_type": "code",
      "execution_count": null,
      "metadata": {
        "id": "lcbQF07S4g5C"
      },
      "outputs": [],
      "source": [
        "PINECONE_API_KEY = os.environ.get('PINECONE_API_KEY', \"the key\")\n",
        "PINECONE_API_ENV = os.environ.get('PINECONE_API_ENV', \"gcp-starter\")"
      ]
    },
    {
      "cell_type": "code",
      "execution_count": null,
      "metadata": {
        "id": "fEQ49L6M5aWL"
      },
      "outputs": [],
      "source": [
        "import pinecone\n",
        "pinecone.init(api_key=PINECONE_API_KEY, environment=PINECONE_API_ENV)\n",
        "index_name = \"art-of-war\""
      ]
    },
    {
      "cell_type": "code",
      "execution_count": null,
      "metadata": {
        "id": "HLozKr065pNC"
      },
      "outputs": [],
      "source": [
        "# Name of your pinecone index\n",
        "index_name=\"testing\"\n",
        "index = pinecone.Index('testing')\n"
      ]
    },
    {
      "cell_type": "markdown",
      "metadata": {
        "id": "ajcjJkSq6ehY"
      },
      "source": [
        "# Create Embeddings for each of the Text Chunk"
      ]
    },
    {
      "cell_type": "code",
      "execution_count": null,
      "metadata": {
        "id": "6B32KbF86icj"
      },
      "outputs": [],
      "source": [
        "docsearch = Pinecone.from_texts([t.page for t in text_chunks], embeddings, index_name=index_name)"
      ]
    },
    {
      "cell_type": "code",
      "execution_count": null,
      "metadata": {
        "id": "wgmFRUUX6wnr"
      },
      "outputs": [],
      "source": [
        "query = \"what are the five ways of attacking with fire?\"\n",
        "\n",
        "# Similarity search\n",
        "docs = docsearch.similarity_search(query)\n",
        "docs  # Embeddings"
      ]
    },
    {
      "cell_type": "code",
      "execution_count": null,
      "metadata": {
        "id": "9b26IUD67BiJ"
      },
      "outputs": [],
      "source": [
        "llm = OpenAI(temperature=0.9)\n",
        "qa = RetrievalQA.from_chain_type(llm=llm, chain_type=\"stuff\", retriever=docsearch.as_retriever())\n",
        "qa.run(query)"
      ]
    },
    {
      "cell_type": "code",
      "execution_count": null,
      "metadata": {
        "id": "WSpzvq5Z7g8C"
      },
      "outputs": [],
      "source": [
        "import sys\n",
        "while True:\n",
        "  user_input = input(\"Enter a query: \")\n",
        "  if user_input == \"exit\":\n",
        "    break\n",
        "  elif user_input == '':\n",
        "    continue\n",
        "  try:\n",
        "    result = qa.run({'query':user_input})\n",
        "    print(f'{result[\"result\"]}')\n",
        "  except Exception as e:\n",
        "    print(f\"Error: {e}\")"
      ]
    },
    {
      "cell_type": "code",
      "execution_count": null,
      "metadata": {
        "colab": {
          "base_uri": "https://localhost:8080/"
        },
        "collapsed": true,
        "id": "FE4ywMjk9LwR",
        "outputId": "3aa63dd5-ff42-44ad-96a6-f1a78a6e5c7b"
      },
      "outputs": [
        {
          "name": "stdout",
          "output_type": "stream",
          "text": [
            "Collecting sentence-transformers\n",
            "  Downloading sentence_transformers-3.0.1-py3-none-any.whl (227 kB)\n",
            "\u001b[2K     \u001b[90m━━━━━━━━━━━━━━━━━━━━━━━━━━━━━━━━━━━━━━━━\u001b[0m \u001b[32m227.1/227.1 kB\u001b[0m \u001b[31m4.9 MB/s\u001b[0m eta \u001b[36m0:00:00\u001b[0m\n",
            "\u001b[?25hCollecting faiss-cpu\n",
            "  Downloading faiss_cpu-1.8.0.post1-cp310-cp310-manylinux_2_17_x86_64.manylinux2014_x86_64.whl (27.0 MB)\n",
            "\u001b[2K     \u001b[90m━━━━━━━━━━━━━━━━━━━━━━━━━━━━━━━━━━━━━━━━\u001b[0m \u001b[32m27.0/27.0 MB\u001b[0m \u001b[31m30.9 MB/s\u001b[0m eta \u001b[36m0:00:00\u001b[0m\n",
            "\u001b[?25hRequirement already satisfied: transformers<5.0.0,>=4.34.0 in /usr/local/lib/python3.10/dist-packages (from sentence-transformers) (4.41.2)\n",
            "Requirement already satisfied: tqdm in /usr/local/lib/python3.10/dist-packages (from sentence-transformers) (4.66.4)\n",
            "Requirement already satisfied: torch>=1.11.0 in /usr/local/lib/python3.10/dist-packages (from sentence-transformers) (2.3.0+cu121)\n",
            "Requirement already satisfied: numpy in /usr/local/lib/python3.10/dist-packages (from sentence-transformers) (1.25.2)\n",
            "Requirement already satisfied: scikit-learn in /usr/local/lib/python3.10/dist-packages (from sentence-transformers) (1.2.2)\n",
            "Requirement already satisfied: scipy in /usr/local/lib/python3.10/dist-packages (from sentence-transformers) (1.11.4)\n",
            "Requirement already satisfied: huggingface-hub>=0.15.1 in /usr/local/lib/python3.10/dist-packages (from sentence-transformers) (0.23.4)\n",
            "Requirement already satisfied: Pillow in /usr/local/lib/python3.10/dist-packages (from sentence-transformers) (9.4.0)\n",
            "Requirement already satisfied: packaging in /usr/local/lib/python3.10/dist-packages (from faiss-cpu) (24.1)\n",
            "Requirement already satisfied: filelock in /usr/local/lib/python3.10/dist-packages (from huggingface-hub>=0.15.1->sentence-transformers) (3.15.3)\n",
            "Requirement already satisfied: fsspec>=2023.5.0 in /usr/local/lib/python3.10/dist-packages (from huggingface-hub>=0.15.1->sentence-transformers) (2023.6.0)\n",
            "Requirement already satisfied: pyyaml>=5.1 in /usr/local/lib/python3.10/dist-packages (from huggingface-hub>=0.15.1->sentence-transformers) (6.0.1)\n",
            "Requirement already satisfied: requests in /usr/local/lib/python3.10/dist-packages (from huggingface-hub>=0.15.1->sentence-transformers) (2.31.0)\n",
            "Requirement already satisfied: typing-extensions>=3.7.4.3 in /usr/local/lib/python3.10/dist-packages (from huggingface-hub>=0.15.1->sentence-transformers) (4.12.2)\n",
            "Requirement already satisfied: sympy in /usr/local/lib/python3.10/dist-packages (from torch>=1.11.0->sentence-transformers) (1.12.1)\n",
            "Requirement already satisfied: networkx in /usr/local/lib/python3.10/dist-packages (from torch>=1.11.0->sentence-transformers) (3.3)\n",
            "Requirement already satisfied: jinja2 in /usr/local/lib/python3.10/dist-packages (from torch>=1.11.0->sentence-transformers) (3.1.4)\n",
            "Collecting nvidia-cuda-nvrtc-cu12==12.1.105 (from torch>=1.11.0->sentence-transformers)\n",
            "  Using cached nvidia_cuda_nvrtc_cu12-12.1.105-py3-none-manylinux1_x86_64.whl (23.7 MB)\n",
            "Collecting nvidia-cuda-runtime-cu12==12.1.105 (from torch>=1.11.0->sentence-transformers)\n",
            "  Using cached nvidia_cuda_runtime_cu12-12.1.105-py3-none-manylinux1_x86_64.whl (823 kB)\n",
            "Collecting nvidia-cuda-cupti-cu12==12.1.105 (from torch>=1.11.0->sentence-transformers)\n",
            "  Using cached nvidia_cuda_cupti_cu12-12.1.105-py3-none-manylinux1_x86_64.whl (14.1 MB)\n",
            "Collecting nvidia-cudnn-cu12==8.9.2.26 (from torch>=1.11.0->sentence-transformers)\n",
            "  Using cached nvidia_cudnn_cu12-8.9.2.26-py3-none-manylinux1_x86_64.whl (731.7 MB)\n",
            "Collecting nvidia-cublas-cu12==12.1.3.1 (from torch>=1.11.0->sentence-transformers)\n",
            "  Using cached nvidia_cublas_cu12-12.1.3.1-py3-none-manylinux1_x86_64.whl (410.6 MB)\n",
            "Collecting nvidia-cufft-cu12==11.0.2.54 (from torch>=1.11.0->sentence-transformers)\n",
            "  Using cached nvidia_cufft_cu12-11.0.2.54-py3-none-manylinux1_x86_64.whl (121.6 MB)\n",
            "Collecting nvidia-curand-cu12==10.3.2.106 (from torch>=1.11.0->sentence-transformers)\n",
            "  Using cached nvidia_curand_cu12-10.3.2.106-py3-none-manylinux1_x86_64.whl (56.5 MB)\n",
            "Collecting nvidia-cusolver-cu12==11.4.5.107 (from torch>=1.11.0->sentence-transformers)\n",
            "  Using cached nvidia_cusolver_cu12-11.4.5.107-py3-none-manylinux1_x86_64.whl (124.2 MB)\n",
            "Collecting nvidia-cusparse-cu12==12.1.0.106 (from torch>=1.11.0->sentence-transformers)\n",
            "  Using cached nvidia_cusparse_cu12-12.1.0.106-py3-none-manylinux1_x86_64.whl (196.0 MB)\n",
            "Collecting nvidia-nccl-cu12==2.20.5 (from torch>=1.11.0->sentence-transformers)\n",
            "  Using cached nvidia_nccl_cu12-2.20.5-py3-none-manylinux2014_x86_64.whl (176.2 MB)\n",
            "Collecting nvidia-nvtx-cu12==12.1.105 (from torch>=1.11.0->sentence-transformers)\n",
            "  Using cached nvidia_nvtx_cu12-12.1.105-py3-none-manylinux1_x86_64.whl (99 kB)\n",
            "Requirement already satisfied: triton==2.3.0 in /usr/local/lib/python3.10/dist-packages (from torch>=1.11.0->sentence-transformers) (2.3.0)\n",
            "Collecting nvidia-nvjitlink-cu12 (from nvidia-cusolver-cu12==11.4.5.107->torch>=1.11.0->sentence-transformers)\n",
            "  Downloading nvidia_nvjitlink_cu12-12.5.40-py3-none-manylinux2014_x86_64.whl (21.3 MB)\n",
            "\u001b[2K     \u001b[90m━━━━━━━━━━━━━━━━━━━━━━━━━━━━━━━━━━━━━━━━\u001b[0m \u001b[32m21.3/21.3 MB\u001b[0m \u001b[31m25.9 MB/s\u001b[0m eta \u001b[36m0:00:00\u001b[0m\n",
            "\u001b[?25hRequirement already satisfied: regex!=2019.12.17 in /usr/local/lib/python3.10/dist-packages (from transformers<5.0.0,>=4.34.0->sentence-transformers) (2024.5.15)\n",
            "Requirement already satisfied: tokenizers<0.20,>=0.19 in /usr/local/lib/python3.10/dist-packages (from transformers<5.0.0,>=4.34.0->sentence-transformers) (0.19.1)\n",
            "Requirement already satisfied: safetensors>=0.4.1 in /usr/local/lib/python3.10/dist-packages (from transformers<5.0.0,>=4.34.0->sentence-transformers) (0.4.3)\n",
            "Requirement already satisfied: joblib>=1.1.1 in /usr/local/lib/python3.10/dist-packages (from scikit-learn->sentence-transformers) (1.4.2)\n",
            "Requirement already satisfied: threadpoolctl>=2.0.0 in /usr/local/lib/python3.10/dist-packages (from scikit-learn->sentence-transformers) (3.5.0)\n",
            "Requirement already satisfied: MarkupSafe>=2.0 in /usr/local/lib/python3.10/dist-packages (from jinja2->torch>=1.11.0->sentence-transformers) (2.1.5)\n",
            "Requirement already satisfied: charset-normalizer<4,>=2 in /usr/local/lib/python3.10/dist-packages (from requests->huggingface-hub>=0.15.1->sentence-transformers) (3.3.2)\n",
            "Requirement already satisfied: idna<4,>=2.5 in /usr/local/lib/python3.10/dist-packages (from requests->huggingface-hub>=0.15.1->sentence-transformers) (3.7)\n",
            "Requirement already satisfied: urllib3<3,>=1.21.1 in /usr/local/lib/python3.10/dist-packages (from requests->huggingface-hub>=0.15.1->sentence-transformers) (2.0.7)\n",
            "Requirement already satisfied: certifi>=2017.4.17 in /usr/local/lib/python3.10/dist-packages (from requests->huggingface-hub>=0.15.1->sentence-transformers) (2024.6.2)\n",
            "Requirement already satisfied: mpmath<1.4.0,>=1.1.0 in /usr/local/lib/python3.10/dist-packages (from sympy->torch>=1.11.0->sentence-transformers) (1.3.0)\n",
            "Installing collected packages: nvidia-nvtx-cu12, nvidia-nvjitlink-cu12, nvidia-nccl-cu12, nvidia-curand-cu12, nvidia-cufft-cu12, nvidia-cuda-runtime-cu12, nvidia-cuda-nvrtc-cu12, nvidia-cuda-cupti-cu12, nvidia-cublas-cu12, faiss-cpu, nvidia-cusparse-cu12, nvidia-cudnn-cu12, nvidia-cusolver-cu12, sentence-transformers\n",
            "Successfully installed faiss-cpu-1.8.0.post1 nvidia-cublas-cu12-12.1.3.1 nvidia-cuda-cupti-cu12-12.1.105 nvidia-cuda-nvrtc-cu12-12.1.105 nvidia-cuda-runtime-cu12-12.1.105 nvidia-cudnn-cu12-8.9.2.26 nvidia-cufft-cu12-11.0.2.54 nvidia-curand-cu12-10.3.2.106 nvidia-cusolver-cu12-11.4.5.107 nvidia-cusparse-cu12-12.1.0.106 nvidia-nccl-cu12-2.20.5 nvidia-nvjitlink-cu12-12.5.40 nvidia-nvtx-cu12-12.1.105 sentence-transformers-3.0.1\n"
          ]
        }
      ],
      "source": [
        "!pip install sentence-transformers faiss-cpu"
      ]
    },
    {
      "cell_type": "code",
      "execution_count": null,
      "metadata": {
        "colab": {
          "base_uri": "https://localhost:8080/",
          "height": 1000,
          "referenced_widgets": [
            "068d43d9eaf84d48b238eb9a84642707",
            "2341d9e4e4684f55b4e24e89a7b809eb",
            "a5785008079c4f2b8c90af1ff8666ea0",
            "a75a04c5f7634ea1882ffd46a953ed89",
            "1c6830434bd64d768642f2e42e8bc6f7",
            "6e921d5261724df19d1e97ddb0bcc234",
            "ccbb06d373364745a9dd661b80440f75",
            "5dd6ff131f234ce587e8a73f4cde3988",
            "c898a3a8143d417a8856805d21ccc853",
            "f782c39d592644db95916cdf825fafed",
            "fa8fca4345694b49bc59266dface5308",
            "612e8ad578d541988d6471729415aeec",
            "04ef8fb0d5c4477daaa445d1f9bdc4a8",
            "38d7b87b21324fd39f23226d8895d43d",
            "ba6dbc280fee4da3a89ca6201bdd1d69",
            "42bae274c4a84f539d444164077ed60a",
            "ef5764ef8b694af29bc4896e89c2f717",
            "5529af23e82e4c5fbc1af250e12d43e4",
            "a794fb9528d34568a0d125864028baa0",
            "7f1ac2ccaa78494a8937bbe1b4e99cbb",
            "f0e98e6f61674fab9315b6f8c82ea81d",
            "5195395573914c50bef6dadae38b0568",
            "93593b3cb98f4bf4aa6e84032ccf6ff7",
            "29e9abc374f9439788053a7cee76473a",
            "bc29d3eb4c3e4a88b0c2d6c533083f95",
            "665448bef16b42909ffa8c8f2170f1dc",
            "837befefb3564081ac37fb7e174aa6c9",
            "b131f641c21d49f7a6d0b38efe6f09e9",
            "c903f217942541c68311a9514de084c0",
            "77a3382e45194a8e9d9a65df374adf2e",
            "bb0d4c83476f44de96f0faecf94767a4",
            "2dad084df0c74a7396aefc5ecb91a527",
            "b2f73aa5627e448fbed61f1a248fb3a1",
            "e3a87fbcd8794179b69f9160bb1b7f01",
            "65c24149e62f403c928b8912045e545c",
            "a6aed4b0a2e54809b3218a232464eacc",
            "65a03eb7408542789f5aec88fa7452a1",
            "18feb0f00bd54e499fe42cb8fd3b7a1b",
            "a91c32e00ab64dec8ce03fec8ebfcd19",
            "bf4abe14b6834087a638434c63965542",
            "453c2c1885974cbf81d30cdbdd0bbff5",
            "a6f5b7d018fb44488d537eb0a29134f8",
            "7c13698837bb4708a9e93a3f4e97ddd2",
            "2be7b1bd67814fb484f9ec976958ae8a",
            "746635ab72bf4ad5a69f26106aa54127",
            "ad8ded29e84546bc8105bb9250687687",
            "245bce30bf5a47579c84c81eca6c1d62",
            "a20473756a754af9be75284e64af1da8",
            "1deeb280276f4020a39c35a9e8851671",
            "4f57cb39207c4849a42f09cd24b4b43b",
            "9fbd4502b774403185f8d8a10fdee076",
            "8dcb6e658f9140e3943327380c4d38da",
            "bb7dc061efbe4efd87cabc67b07b477c",
            "846b9460337748bbb58d29f8a59ab46f",
            "81ba1ff263c64d0b8515a81d2ed8af9c",
            "df5996edee534b3aacfba4586cf07b88",
            "4fb49ebe3ee94193aed64f26a5b08536",
            "7aa142973e31407c82f58d8655427f57",
            "adf03e446b084513832b53b521681e65",
            "7f21a9f3bb774fa4b8f5ef6e85e456d1",
            "c8fbdacb88e842d7a96a668db808800a",
            "2b363f846dfe4dbc963acc163f4472d4",
            "a76111bd77264e5e98a4d48d50323221",
            "e2c5f8a6b5dc43f5a9b4924de7bf4648",
            "721f08a313744f50b4f25eaa77780e5d",
            "e26d9ec26eba4a1493007a1bd46b446c",
            "8edbfa77020c496596df0fad9b4a912f",
            "383f949f45984752b0f023cacf22efaf",
            "184b8916aedb423e9e63a18698fc6339",
            "2098531cde27408795065d83b51dd547",
            "e854dd62f95e4aa2bf6be6e1b43a29d5",
            "eb2fced7e58440fa97dd710c4cd42c3f",
            "62b387ad26224f01851a97db9017ccbe",
            "a9289eebcac446b18f3a4827284c9dc1",
            "2bef34011c0a4bf09247f39b045d228c",
            "25516b0183bb42bab5c7e5b6680649d0",
            "d74e417ad9ad4acc9c374e5f35fc8fb0",
            "9a1eeb8104ec4cc589328e708997df3d",
            "e00644c643c64a14873784c427b16110",
            "d8af7df07679461c9f02b18c13fb2d03",
            "3fbe7557b9674f879b5f28e97de87f73",
            "13e8f093262e4d9abb8d04e0d9754291",
            "34af75d5000743eaae651d2c966d9ffb",
            "d4e45738eb1747dc9cadfd02e011d0bc",
            "dbd1777d1d2c4cbfbfb120d31c3fbc4e",
            "64d66550d74243a0a69ab8aa40dace80",
            "bf1ebbbf5a254573898175637eaa10f2",
            "bd05fcab58c94abfbbe4973354d5d092",
            "21b938337e394ea2b50bb6afd3566836",
            "3458fb8b2675469c8c6001e8e2b46bb2",
            "527a98202538441181e47961dd7ceeb4",
            "5af8c8b1d1ce40dbb720d9e1930cd800",
            "50393354a61e45a7a8508c1174eb652a",
            "83897523e9ee4ea38308b1183b3afbc0",
            "f0b051baf9964ab99ea82dea0f0dd4f8",
            "13cff46a290345d9bb69e60ee31660bf",
            "c208c7ff48164dfba351f8e4a5ba6c62",
            "95e387dee8574f7380a3cf48942115b3",
            "f94818403bf740088165ebe86a406cc9",
            "f3b09f3c52314167896b31609c2bf0ed",
            "e0a5290396f44c41911214230ce2c3d2",
            "731afa7dca6d49df9800806b26dcb2bc",
            "33b56dbc866e4b9ab1959341f20aa3e5",
            "e66a8e4d21c145c8947c4c743a4fc62a",
            "9a526819553e4272903119821d1d34a5",
            "57b974765c0340dca6a9b0eb7809f02a",
            "631122464d3441198ad1408c51f387c4",
            "4dc569307f1e40f2b937712c14eb52da",
            "85e667a7b9db41aaaa20288f83239e0f",
            "a5a0810cba7445adba41547f5a25747a",
            "541148dfcf594e37928254370a98f9b8",
            "0ff5550f94644b4a9845cbfbf1abdc73",
            "58623069096544698802e7151a92767a",
            "83de697c98a343469800763b3fd859b7",
            "9738e1e001f84ceba680f282bdc5902f",
            "3f9c18452fe141e6b997043054ae4fc5",
            "8f19fc8d086645d284f84ffd67bcb07f",
            "10eff86d892741e0b661e149d14eb3d8",
            "66a285698f7e42a88a0080697f201c77",
            "aec9d27b81924f7ea5f879e164978e0a",
            "13b662f1a2de44a6a4ddd9ee33a8fd63"
          ]
        },
        "id": "Onr7vBPO9D3R",
        "outputId": "7aaf8ed6-6817-4354-c503-c3cfb60f7041"
      },
      "outputs": [
        {
          "name": "stderr",
          "output_type": "stream",
          "text": [
            "/usr/local/lib/python3.10/dist-packages/sentence_transformers/cross_encoder/CrossEncoder.py:11: TqdmExperimentalWarning: Using `tqdm.autonotebook.tqdm` in notebook mode. Use `tqdm.tqdm` instead to force console mode (e.g. in jupyter console)\n",
            "  from tqdm.autonotebook import tqdm, trange\n",
            "/usr/local/lib/python3.10/dist-packages/huggingface_hub/utils/_token.py:89: UserWarning: \n",
            "The secret `HF_TOKEN` does not exist in your Colab secrets.\n",
            "To authenticate with the Hugging Face Hub, create a token in your settings tab (https://huggingface.co/settings/tokens), set it as secret in your Google Colab and restart your session.\n",
            "You will be able to reuse this secret in all of your notebooks.\n",
            "Please note that authentication is recommended but still optional to access public models or datasets.\n",
            "  warnings.warn(\n"
          ]
        },
        {
          "data": {
            "application/vnd.jupyter.widget-view+json": {
              "model_id": "068d43d9eaf84d48b238eb9a84642707",
              "version_major": 2,
              "version_minor": 0
            },
            "text/plain": [
              "modules.json:   0%|          | 0.00/349 [00:00<?, ?B/s]"
            ]
          },
          "metadata": {},
          "output_type": "display_data"
        },
        {
          "data": {
            "application/vnd.jupyter.widget-view+json": {
              "model_id": "612e8ad578d541988d6471729415aeec",
              "version_major": 2,
              "version_minor": 0
            },
            "text/plain": [
              "config_sentence_transformers.json:   0%|          | 0.00/116 [00:00<?, ?B/s]"
            ]
          },
          "metadata": {},
          "output_type": "display_data"
        },
        {
          "data": {
            "application/vnd.jupyter.widget-view+json": {
              "model_id": "93593b3cb98f4bf4aa6e84032ccf6ff7",
              "version_major": 2,
              "version_minor": 0
            },
            "text/plain": [
              "README.md:   0%|          | 0.00/10.6k [00:00<?, ?B/s]"
            ]
          },
          "metadata": {},
          "output_type": "display_data"
        },
        {
          "data": {
            "application/vnd.jupyter.widget-view+json": {
              "model_id": "e3a87fbcd8794179b69f9160bb1b7f01",
              "version_major": 2,
              "version_minor": 0
            },
            "text/plain": [
              "sentence_bert_config.json:   0%|          | 0.00/53.0 [00:00<?, ?B/s]"
            ]
          },
          "metadata": {},
          "output_type": "display_data"
        },
        {
          "name": "stderr",
          "output_type": "stream",
          "text": [
            "/usr/local/lib/python3.10/dist-packages/huggingface_hub/file_download.py:1132: FutureWarning: `resume_download` is deprecated and will be removed in version 1.0.0. Downloads always resume when possible. If you want to force a new download, use `force_download=True`.\n",
            "  warnings.warn(\n"
          ]
        },
        {
          "data": {
            "application/vnd.jupyter.widget-view+json": {
              "model_id": "746635ab72bf4ad5a69f26106aa54127",
              "version_major": 2,
              "version_minor": 0
            },
            "text/plain": [
              "config.json:   0%|          | 0.00/571 [00:00<?, ?B/s]"
            ]
          },
          "metadata": {},
          "output_type": "display_data"
        },
        {
          "data": {
            "application/vnd.jupyter.widget-view+json": {
              "model_id": "df5996edee534b3aacfba4586cf07b88",
              "version_major": 2,
              "version_minor": 0
            },
            "text/plain": [
              "model.safetensors:   0%|          | 0.00/438M [00:00<?, ?B/s]"
            ]
          },
          "metadata": {},
          "output_type": "display_data"
        },
        {
          "data": {
            "application/vnd.jupyter.widget-view+json": {
              "model_id": "8edbfa77020c496596df0fad9b4a912f",
              "version_major": 2,
              "version_minor": 0
            },
            "text/plain": [
              "tokenizer_config.json:   0%|          | 0.00/363 [00:00<?, ?B/s]"
            ]
          },
          "metadata": {},
          "output_type": "display_data"
        },
        {
          "data": {
            "application/vnd.jupyter.widget-view+json": {
              "model_id": "9a1eeb8104ec4cc589328e708997df3d",
              "version_major": 2,
              "version_minor": 0
            },
            "text/plain": [
              "vocab.txt:   0%|          | 0.00/232k [00:00<?, ?B/s]"
            ]
          },
          "metadata": {},
          "output_type": "display_data"
        },
        {
          "data": {
            "application/vnd.jupyter.widget-view+json": {
              "model_id": "21b938337e394ea2b50bb6afd3566836",
              "version_major": 2,
              "version_minor": 0
            },
            "text/plain": [
              "tokenizer.json:   0%|          | 0.00/466k [00:00<?, ?B/s]"
            ]
          },
          "metadata": {},
          "output_type": "display_data"
        },
        {
          "data": {
            "application/vnd.jupyter.widget-view+json": {
              "model_id": "f3b09f3c52314167896b31609c2bf0ed",
              "version_major": 2,
              "version_minor": 0
            },
            "text/plain": [
              "special_tokens_map.json:   0%|          | 0.00/239 [00:00<?, ?B/s]"
            ]
          },
          "metadata": {},
          "output_type": "display_data"
        },
        {
          "data": {
            "application/vnd.jupyter.widget-view+json": {
              "model_id": "541148dfcf594e37928254370a98f9b8",
              "version_major": 2,
              "version_minor": 0
            },
            "text/plain": [
              "1_Pooling/config.json:   0%|          | 0.00/190 [00:00<?, ?B/s]"
            ]
          },
          "metadata": {},
          "output_type": "display_data"
        },
        {
          "name": "stdout",
          "output_type": "stream",
          "text": [
            "Ask a question about your PDF (or type 'quit' to exit): \"what are the five ways of attacking with fire?\"\n",
            "The first is to burn soldiers in their camp;2 the second is to burn stores;3 the third is to burn baggage-trains;4 the fourth is to burn arsenals and magazines;5 the fifth is to hurl dropping fire amongst the enemy\n",
            "Ask a question about your PDF (or type 'quit' to exit): who wrote the document you read? and what kind of document is it?\n",
            "Neither of these questions is easy to answer. Indeed they may be the wrong questions. In many ways it is hardly a book at all.\n"
          ]
        },
        {
          "ename": "KeyboardInterrupt",
          "evalue": "Interrupted by user",
          "output_type": "error",
          "traceback": [
            "\u001b[0;31m---------------------------------------------------------------------------\u001b[0m",
            "\u001b[0;31mKeyboardInterrupt\u001b[0m                         Traceback (most recent call last)",
            "\u001b[0;32m<ipython-input-22-6be25d12ffb5>\u001b[0m in \u001b[0;36m<cell line: 32>\u001b[0;34m()\u001b[0m\n\u001b[1;32m     31\u001b[0m \u001b[0;31m# Chat loop\u001b[0m\u001b[0;34m\u001b[0m\u001b[0;34m\u001b[0m\u001b[0m\n\u001b[1;32m     32\u001b[0m \u001b[0;32mwhile\u001b[0m \u001b[0;32mTrue\u001b[0m\u001b[0;34m:\u001b[0m\u001b[0;34m\u001b[0m\u001b[0;34m\u001b[0m\u001b[0m\n\u001b[0;32m---> 33\u001b[0;31m     \u001b[0mquery\u001b[0m \u001b[0;34m=\u001b[0m \u001b[0minput\u001b[0m\u001b[0;34m(\u001b[0m\u001b[0;34m\"Ask a question about your PDF (or type 'quit' to exit): \"\u001b[0m\u001b[0;34m)\u001b[0m\u001b[0;34m\u001b[0m\u001b[0;34m\u001b[0m\u001b[0m\n\u001b[0m\u001b[1;32m     34\u001b[0m     \u001b[0;32mif\u001b[0m \u001b[0mquery\u001b[0m\u001b[0;34m.\u001b[0m\u001b[0mlower\u001b[0m\u001b[0;34m(\u001b[0m\u001b[0;34m)\u001b[0m \u001b[0;34m==\u001b[0m \u001b[0;34m'quit'\u001b[0m\u001b[0;34m:\u001b[0m\u001b[0;34m\u001b[0m\u001b[0;34m\u001b[0m\u001b[0m\n\u001b[1;32m     35\u001b[0m         \u001b[0;32mbreak\u001b[0m\u001b[0;34m\u001b[0m\u001b[0;34m\u001b[0m\u001b[0m\n",
            "\u001b[0;32m/usr/local/lib/python3.10/dist-packages/ipykernel/kernelbase.py\u001b[0m in \u001b[0;36mraw_input\u001b[0;34m(self, prompt)\u001b[0m\n\u001b[1;32m    849\u001b[0m                 \u001b[0;34m\"raw_input was called, but this frontend does not support input requests.\"\u001b[0m\u001b[0;34m\u001b[0m\u001b[0;34m\u001b[0m\u001b[0m\n\u001b[1;32m    850\u001b[0m             )\n\u001b[0;32m--> 851\u001b[0;31m         return self._input_request(str(prompt),\n\u001b[0m\u001b[1;32m    852\u001b[0m             \u001b[0mself\u001b[0m\u001b[0;34m.\u001b[0m\u001b[0m_parent_ident\u001b[0m\u001b[0;34m,\u001b[0m\u001b[0;34m\u001b[0m\u001b[0;34m\u001b[0m\u001b[0m\n\u001b[1;32m    853\u001b[0m             \u001b[0mself\u001b[0m\u001b[0;34m.\u001b[0m\u001b[0m_parent_header\u001b[0m\u001b[0;34m,\u001b[0m\u001b[0;34m\u001b[0m\u001b[0;34m\u001b[0m\u001b[0m\n",
            "\u001b[0;32m/usr/local/lib/python3.10/dist-packages/ipykernel/kernelbase.py\u001b[0m in \u001b[0;36m_input_request\u001b[0;34m(self, prompt, ident, parent, password)\u001b[0m\n\u001b[1;32m    893\u001b[0m             \u001b[0;32mexcept\u001b[0m \u001b[0mKeyboardInterrupt\u001b[0m\u001b[0;34m:\u001b[0m\u001b[0;34m\u001b[0m\u001b[0;34m\u001b[0m\u001b[0m\n\u001b[1;32m    894\u001b[0m                 \u001b[0;31m# re-raise KeyboardInterrupt, to truncate traceback\u001b[0m\u001b[0;34m\u001b[0m\u001b[0;34m\u001b[0m\u001b[0m\n\u001b[0;32m--> 895\u001b[0;31m                 \u001b[0;32mraise\u001b[0m \u001b[0mKeyboardInterrupt\u001b[0m\u001b[0;34m(\u001b[0m\u001b[0;34m\"Interrupted by user\"\u001b[0m\u001b[0;34m)\u001b[0m \u001b[0;32mfrom\u001b[0m \u001b[0;32mNone\u001b[0m\u001b[0;34m\u001b[0m\u001b[0;34m\u001b[0m\u001b[0m\n\u001b[0m\u001b[1;32m    896\u001b[0m             \u001b[0;32mexcept\u001b[0m \u001b[0mException\u001b[0m \u001b[0;32mas\u001b[0m \u001b[0me\u001b[0m\u001b[0;34m:\u001b[0m\u001b[0;34m\u001b[0m\u001b[0;34m\u001b[0m\u001b[0m\n\u001b[1;32m    897\u001b[0m                 \u001b[0mself\u001b[0m\u001b[0;34m.\u001b[0m\u001b[0mlog\u001b[0m\u001b[0;34m.\u001b[0m\u001b[0mwarning\u001b[0m\u001b[0;34m(\u001b[0m\u001b[0;34m\"Invalid Message:\"\u001b[0m\u001b[0;34m,\u001b[0m \u001b[0mexc_info\u001b[0m\u001b[0;34m=\u001b[0m\u001b[0;32mTrue\u001b[0m\u001b[0;34m)\u001b[0m\u001b[0;34m\u001b[0m\u001b[0;34m\u001b[0m\u001b[0m\n",
            "\u001b[0;31mKeyboardInterrupt\u001b[0m: Interrupted by user"
          ]
        }
      ],
      "source": [
        "import os\n",
        "from langchain.document_loaders import PyPDFLoader\n",
        "from langchain.text_splitter import RecursiveCharacterTextSplitter\n",
        "from langchain.embeddings import HuggingFaceEmbeddings\n",
        "from langchain.vectorstores import FAISS\n",
        "from langchain.chains import RetrievalQA\n",
        "from langchain.llms import HuggingFaceHub\n",
        "from google.colab import userdata\n",
        "\n",
        "# Load PDF\n",
        "loader = PyPDFLoader(\"/content/pdfs/art of war -Sant tuz.pdf\")\n",
        "documents = loader.load()\n",
        "\n",
        "# Split text into chunks\n",
        "text_splitter = RecursiveCharacterTextSplitter(chunk_size=1000, chunk_overlap=200)\n",
        "texts = text_splitter.split_documents(documents)\n",
        "\n",
        "# Create embeddings\n",
        "embeddings = HuggingFaceEmbeddings()\n",
        "\n",
        "# Create vector store\n",
        "db = FAISS.from_documents(texts, embeddings)\n",
        "\n",
        "# Initialize Hugging Face model\n",
        "os.environ[\"HUGGINGFACEHUB_API_TOKEN\"] = userdata.get('HUGGING_FACE_BEARER')\n",
        "os.environ[\"HF_TOKEN\"] = userdata.get('HUGGING_FACE_BEARER')\n",
        "llm = HuggingFaceHub(repo_id=\"google/flan-t5-large\", model_kwargs={\"temperature\":0.5, \"max_length\":512})\n",
        "\n",
        "# Create retrieval-based QA chain\n",
        "qa_chain = RetrievalQA.from_chain_type(llm=llm, chain_type=\"stuff\", retriever=db.as_retriever())\n",
        "\n",
        "# Chat loop\n",
        "while True:\n",
        "    query = input(\"Ask a question about your PDF (or type 'quit' to exit): \")\n",
        "    if query.lower() == 'quit':\n",
        "        break\n",
        "    response = qa_chain.run(query)\n",
        "    print(response)"
      ]
    },
    {
      "cell_type": "code",
      "execution_count": null,
      "metadata": {
        "colab": {
          "base_uri": "https://localhost:8080/",
          "height": 1000
        },
        "collapsed": true,
        "id": "BOkVbAcoFgeT",
        "outputId": "34c723e8-ed59-4dee-b61c-7b92cabcb641"
      },
      "outputs": [
        {
          "name": "stdout",
          "output_type": "stream",
          "text": [
            "Collecting langchain-google-genai\n",
            "  Downloading langchain_google_genai-1.0.7-py3-none-any.whl (36 kB)\n",
            "Collecting google-generativeai<0.8.0,>=0.7.0 (from langchain-google-genai)\n",
            "  Downloading google_generativeai-0.7.1-py3-none-any.whl (163 kB)\n",
            "\u001b[2K     \u001b[90m━━━━━━━━━━━━━━━━━━━━━━━━━━━━━━━━━━━━━━━━\u001b[0m \u001b[32m163.9/163.9 kB\u001b[0m \u001b[31m6.7 MB/s\u001b[0m eta \u001b[36m0:00:00\u001b[0m\n",
            "\u001b[?25hRequirement already satisfied: langchain-core<0.3,>=0.2.9 in /usr/local/lib/python3.10/dist-packages (from langchain-google-genai) (0.2.10)\n",
            "Collecting google-ai-generativelanguage==0.6.6 (from google-generativeai<0.8.0,>=0.7.0->langchain-google-genai)\n",
            "  Downloading google_ai_generativelanguage-0.6.6-py3-none-any.whl (718 kB)\n",
            "\u001b[2K     \u001b[90m━━━━━━━━━━━━━━━━━━━━━━━━━━━━━━━━━━━━━━━━\u001b[0m \u001b[32m718.3/718.3 kB\u001b[0m \u001b[31m28.0 MB/s\u001b[0m eta \u001b[36m0:00:00\u001b[0m\n",
            "\u001b[?25hRequirement already satisfied: google-api-core in /usr/local/lib/python3.10/dist-packages (from google-generativeai<0.8.0,>=0.7.0->langchain-google-genai) (2.11.1)\n",
            "Requirement already satisfied: google-api-python-client in /usr/local/lib/python3.10/dist-packages (from google-generativeai<0.8.0,>=0.7.0->langchain-google-genai) (2.84.0)\n",
            "Requirement already satisfied: google-auth>=2.15.0 in /usr/local/lib/python3.10/dist-packages (from google-generativeai<0.8.0,>=0.7.0->langchain-google-genai) (2.27.0)\n",
            "Requirement already satisfied: protobuf in /usr/local/lib/python3.10/dist-packages (from google-generativeai<0.8.0,>=0.7.0->langchain-google-genai) (3.20.3)\n",
            "Requirement already satisfied: pydantic in /usr/local/lib/python3.10/dist-packages (from google-generativeai<0.8.0,>=0.7.0->langchain-google-genai) (2.7.4)\n",
            "Requirement already satisfied: tqdm in /usr/local/lib/python3.10/dist-packages (from google-generativeai<0.8.0,>=0.7.0->langchain-google-genai) (4.66.4)\n",
            "Requirement already satisfied: typing-extensions in /usr/local/lib/python3.10/dist-packages (from google-generativeai<0.8.0,>=0.7.0->langchain-google-genai) (4.12.2)\n",
            "Requirement already satisfied: proto-plus<2.0.0dev,>=1.22.3 in /usr/local/lib/python3.10/dist-packages (from google-ai-generativelanguage==0.6.6->google-generativeai<0.8.0,>=0.7.0->langchain-google-genai) (1.24.0)\n",
            "Requirement already satisfied: PyYAML>=5.3 in /usr/local/lib/python3.10/dist-packages (from langchain-core<0.3,>=0.2.9->langchain-google-genai) (6.0.1)\n",
            "Requirement already satisfied: jsonpatch<2.0,>=1.33 in /usr/local/lib/python3.10/dist-packages (from langchain-core<0.3,>=0.2.9->langchain-google-genai) (1.33)\n",
            "Requirement already satisfied: langsmith<0.2.0,>=0.1.75 in /usr/local/lib/python3.10/dist-packages (from langchain-core<0.3,>=0.2.9->langchain-google-genai) (0.1.82)\n",
            "Requirement already satisfied: packaging<25,>=23.2 in /usr/local/lib/python3.10/dist-packages (from langchain-core<0.3,>=0.2.9->langchain-google-genai) (24.1)\n",
            "Requirement already satisfied: tenacity!=8.4.0,<9.0.0,>=8.1.0 in /usr/local/lib/python3.10/dist-packages (from langchain-core<0.3,>=0.2.9->langchain-google-genai) (8.4.1)\n",
            "Requirement already satisfied: cachetools<6.0,>=2.0.0 in /usr/local/lib/python3.10/dist-packages (from google-auth>=2.15.0->google-generativeai<0.8.0,>=0.7.0->langchain-google-genai) (5.3.3)\n",
            "Requirement already satisfied: pyasn1-modules>=0.2.1 in /usr/local/lib/python3.10/dist-packages (from google-auth>=2.15.0->google-generativeai<0.8.0,>=0.7.0->langchain-google-genai) (0.4.0)\n",
            "Requirement already satisfied: rsa<5,>=3.1.4 in /usr/local/lib/python3.10/dist-packages (from google-auth>=2.15.0->google-generativeai<0.8.0,>=0.7.0->langchain-google-genai) (4.9)\n",
            "Requirement already satisfied: jsonpointer>=1.9 in /usr/local/lib/python3.10/dist-packages (from jsonpatch<2.0,>=1.33->langchain-core<0.3,>=0.2.9->langchain-google-genai) (3.0.0)\n",
            "Requirement already satisfied: orjson<4.0.0,>=3.9.14 in /usr/local/lib/python3.10/dist-packages (from langsmith<0.2.0,>=0.1.75->langchain-core<0.3,>=0.2.9->langchain-google-genai) (3.10.5)\n",
            "Requirement already satisfied: requests<3,>=2 in /usr/local/lib/python3.10/dist-packages (from langsmith<0.2.0,>=0.1.75->langchain-core<0.3,>=0.2.9->langchain-google-genai) (2.31.0)\n",
            "Requirement already satisfied: annotated-types>=0.4.0 in /usr/local/lib/python3.10/dist-packages (from pydantic->google-generativeai<0.8.0,>=0.7.0->langchain-google-genai) (0.7.0)\n",
            "Requirement already satisfied: pydantic-core==2.18.4 in /usr/local/lib/python3.10/dist-packages (from pydantic->google-generativeai<0.8.0,>=0.7.0->langchain-google-genai) (2.18.4)\n",
            "Requirement already satisfied: googleapis-common-protos<2.0.dev0,>=1.56.2 in /usr/local/lib/python3.10/dist-packages (from google-api-core->google-generativeai<0.8.0,>=0.7.0->langchain-google-genai) (1.63.1)\n",
            "Requirement already satisfied: httplib2<1dev,>=0.15.0 in /usr/local/lib/python3.10/dist-packages (from google-api-python-client->google-generativeai<0.8.0,>=0.7.0->langchain-google-genai) (0.22.0)\n",
            "Requirement already satisfied: google-auth-httplib2>=0.1.0 in /usr/local/lib/python3.10/dist-packages (from google-api-python-client->google-generativeai<0.8.0,>=0.7.0->langchain-google-genai) (0.1.1)\n",
            "Requirement already satisfied: uritemplate<5,>=3.0.1 in /usr/local/lib/python3.10/dist-packages (from google-api-python-client->google-generativeai<0.8.0,>=0.7.0->langchain-google-genai) (4.1.1)\n",
            "Requirement already satisfied: grpcio<2.0dev,>=1.33.2 in /usr/local/lib/python3.10/dist-packages (from google-api-core->google-generativeai<0.8.0,>=0.7.0->langchain-google-genai) (1.64.1)\n",
            "Requirement already satisfied: grpcio-status<2.0.dev0,>=1.33.2 in /usr/local/lib/python3.10/dist-packages (from google-api-core->google-generativeai<0.8.0,>=0.7.0->langchain-google-genai) (1.48.2)\n",
            "Requirement already satisfied: pyparsing!=3.0.0,!=3.0.1,!=3.0.2,!=3.0.3,<4,>=2.4.2 in /usr/local/lib/python3.10/dist-packages (from httplib2<1dev,>=0.15.0->google-api-python-client->google-generativeai<0.8.0,>=0.7.0->langchain-google-genai) (3.1.2)\n",
            "Requirement already satisfied: pyasn1<0.7.0,>=0.4.6 in /usr/local/lib/python3.10/dist-packages (from pyasn1-modules>=0.2.1->google-auth>=2.15.0->google-generativeai<0.8.0,>=0.7.0->langchain-google-genai) (0.6.0)\n",
            "Requirement already satisfied: charset-normalizer<4,>=2 in /usr/local/lib/python3.10/dist-packages (from requests<3,>=2->langsmith<0.2.0,>=0.1.75->langchain-core<0.3,>=0.2.9->langchain-google-genai) (3.3.2)\n",
            "Requirement already satisfied: idna<4,>=2.5 in /usr/local/lib/python3.10/dist-packages (from requests<3,>=2->langsmith<0.2.0,>=0.1.75->langchain-core<0.3,>=0.2.9->langchain-google-genai) (3.7)\n",
            "Requirement already satisfied: urllib3<3,>=1.21.1 in /usr/local/lib/python3.10/dist-packages (from requests<3,>=2->langsmith<0.2.0,>=0.1.75->langchain-core<0.3,>=0.2.9->langchain-google-genai) (2.0.7)\n",
            "Requirement already satisfied: certifi>=2017.4.17 in /usr/local/lib/python3.10/dist-packages (from requests<3,>=2->langsmith<0.2.0,>=0.1.75->langchain-core<0.3,>=0.2.9->langchain-google-genai) (2024.6.2)\n",
            "Installing collected packages: google-ai-generativelanguage, google-generativeai, langchain-google-genai\n",
            "  Attempting uninstall: google-ai-generativelanguage\n",
            "    Found existing installation: google-ai-generativelanguage 0.6.4\n",
            "    Uninstalling google-ai-generativelanguage-0.6.4:\n",
            "      Successfully uninstalled google-ai-generativelanguage-0.6.4\n",
            "  Attempting uninstall: google-generativeai\n",
            "    Found existing installation: google-generativeai 0.5.4\n",
            "    Uninstalling google-generativeai-0.5.4:\n",
            "      Successfully uninstalled google-generativeai-0.5.4\n",
            "Successfully installed google-ai-generativelanguage-0.6.6 google-generativeai-0.7.1 langchain-google-genai-1.0.7\n"
          ]
        },
        {
          "data": {
            "application/vnd.colab-display-data+json": {
              "id": "c7e3534432604f79a1fc1d3d7c053164",
              "pip_warning": {
                "packages": [
                  "google"
                ]
              }
            }
          },
          "metadata": {},
          "output_type": "display_data"
        }
      ],
      "source": [
        "!pip install langchain-google-genai"
      ]
    },
    {
      "cell_type": "code",
      "execution_count": null,
      "metadata": {
        "colab": {
          "background_save": true,
          "base_uri": "https://localhost:8080/"
        },
        "id": "PUxaJAW19dDJ",
        "outputId": "052b68a7-9f67-4416-dfe5-b029ae7c56b5"
      },
      "outputs": [
        {
          "name": "stderr",
          "output_type": "stream",
          "text": [
            "/usr/local/lib/python3.10/dist-packages/langchain_core/_api/deprecation.py:139: LangChainDeprecationWarning: The class `HuggingFaceEmbeddings` was deprecated in LangChain 0.2.2 and will be removed in 0.3.0. An updated version of the class exists in the langchain-huggingface package and should be used instead. To use it run `pip install -U langchain-huggingface` and import as `from langchain_huggingface import HuggingFaceEmbeddings`.\n",
            "  warn_deprecated(\n",
            "/usr/local/lib/python3.10/dist-packages/huggingface_hub/utils/_token.py:89: UserWarning: \n",
            "The secret `HF_TOKEN` does not exist in your Colab secrets.\n",
            "To authenticate with the Hugging Face Hub, create a token in your settings tab (https://huggingface.co/settings/tokens), set it as secret in your Google Colab and restart your session.\n",
            "You will be able to reuse this secret in all of your notebooks.\n",
            "Please note that authentication is recommended but still optional to access public models or datasets.\n",
            "  warnings.warn(\n",
            "/usr/local/lib/python3.10/dist-packages/huggingface_hub/file_download.py:1132: FutureWarning: `resume_download` is deprecated and will be removed in version 1.0.0. Downloads always resume when possible. If you want to force a new download, use `force_download=True`.\n",
            "  warnings.warn(\n"
          ]
        }
      ],
      "source": [
        "# Gemini\n",
        "import os\n",
        "from langchain.document_loaders import PyPDFLoader\n",
        "from langchain.text_splitter import RecursiveCharacterTextSplitter\n",
        "from langchain.embeddings import HuggingFaceEmbeddings\n",
        "from langchain.vectorstores import FAISS\n",
        "from langchain.chains import RetrievalQA\n",
        "from langchain_google_genai import ChatGoogleGenerativeAI\n",
        "from google.colab import userdata\n",
        "\n",
        "# Load PDF\n",
        "loader = PyPDFLoader(\"/content/pdfs/art of war -Sant tuz.pdf\")\n",
        "documents = loader.load()\n",
        "\n",
        "# Split text into chunks\n",
        "text_splitter = RecursiveCharacterTextSplitter(chunk_size=1000, chunk_overlap=200)\n",
        "texts = text_splitter.split_documents(documents)\n",
        "\n",
        "# Create embeddings\n",
        "embeddings = HuggingFaceEmbeddings()\n",
        "\n",
        "# Create vector store\n",
        "db = FAISS.from_documents(texts, embeddings)\n",
        "\n",
        "# Initialize Gemini model\n",
        "os.environ[\"GOOGLE_API_KEY\"] = userdata.get('GEMINI_API_KEY')\n",
        "llm = ChatGoogleGenerativeAI(model=\"gemini-pro\")\n",
        "\n",
        "# Create retrieval-based QA chain\n",
        "qa_chain = RetrievalQA.from_chain_type(llm=llm, chain_type=\"stuff\", retriever=db.as_retriever())\n",
        "\n",
        "# Chat loop\n",
        "while True:\n",
        "    query = input(\"Ask a question about your PDF (or type 'quit' to exit): \")\n",
        "    if query.lower() == 'quit':\n",
        "        break\n",
        "    response = qa_chain.run(query)\n",
        "    print(response)"
      ]
    },
    {
      "cell_type": "markdown",
      "metadata": {
        "id": "UTp63ElCg0ux"
      },
      "source": [
        "# Tutorial\n",
        "* [source: langchain quickstart](https://python.langchain.com/v0.1/docs/get_started/quickstart/)"
      ]
    },
    {
      "cell_type": "code",
      "execution_count": null,
      "metadata": {
        "colab": {
          "base_uri": "https://localhost:8080/"
        },
        "id": "IbgL1SDWhK5l",
        "outputId": "1127c228-f816-481b-8b16-4083261d74bc"
      },
      "outputs": [
        {
          "name": "stdout",
          "output_type": "stream",
          "text": [
            "\u001b[2K     \u001b[90m━━━━━━━━━━━━━━━━━━━━━━━━━━━━━━━━━━━━━━━━\u001b[0m \u001b[32m27.0/27.0 MB\u001b[0m \u001b[31m35.8 MB/s\u001b[0m eta \u001b[36m0:00:00\u001b[0m\n",
            "\u001b[?25h"
          ]
        }
      ],
      "source": [
        "!pip install langchain-cohere -q\n",
        "!pip install langchain-community langchain-core langchain -q\n",
        "!pip install beautifulsoup4 -q\n",
        "!pip install faiss-cpu -q"
      ]
    },
    {
      "cell_type": "code",
      "execution_count": null,
      "metadata": {
        "id": "pv7xh7T_g1q3"
      },
      "outputs": [],
      "source": [
        "from google.colab import userdata\n",
        "from langchain_cohere import ChatCohere\n",
        "\n",
        "import os\n",
        "os.environ[\"COHERE_API_KEY\"] = str(userdata.get('COHERE_API_KEY'))\n",
        "# llm = ChatCohere(cohere_api_key=userdata.get('COHERE_API_KEY'))  # userdata.get('COHERE_API_KEY')\n",
        "llm = ChatCohere()"
      ]
    },
    {
      "cell_type": "code",
      "execution_count": null,
      "metadata": {
        "colab": {
          "base_uri": "https://localhost:8080/"
        },
        "id": "QpnOvi9Vhl8L",
        "outputId": "27802afa-b27f-475c-fdb5-cebc84780f08"
      },
      "outputs": [
        {
          "data": {
            "text/plain": [
              "AIMessage(content=\"Langsmith can help with testing in a number of ways:\\n\\n1. **Automated Testing**: Langsmith can be used to automate the testing process. You can use Langsmith to generate test cases, execute tests, and verify results. This can save a significant amount of time and effort in the testing process.\\n\\n2. **Natural Language Processing**: Langsmith's natural language processing (NLP) capabilities can be leveraged to test natural language user interfaces, such as chatbots or voice-activated systems. You can use Langsmith to generate a variety of test inputs in natural language and validate the system's responses.\\n\\n3. **Translation Testing**: If your product or service involves multiple languages, Langsmith can help with translation testing. You can use Langsmith to translate your test cases into different languages and verify that your product or service performs correctly in each language.\\n\\n4. **User Interface Testing**: Langsmith can be used to test user interfaces by generating a variety of input combinations and scenarios. This can help identify issues with the user interface, such as incorrect input handling or display problems.\\n\\n5. **Performance Testing**: Langsmith can generate a large volume of test data and simulate multiple users accessing the system simultaneously. This can help identify performance bottlenecks and ensure that the system performs efficiently under load.\\n\\n6. **Error Handling Testing**: Langsmith can be used to test error handling and recovery by generating inputs that trigger error conditions. This can help verify that the system handles errors gracefully and provides appropriate feedback to the user.\\n\\n7. **Report Generation**: Langsmith can generate comprehensive reports on the testing process, including test coverage, results, and metrics. This can help provide insights into the quality and effectiveness of the testing process.\\n\\nOverall, Langsmith's language generation and manipulation capabilities can be leveraged to enhance the testing process, making it more efficient, comprehensive, and effective.\", additional_kwargs={'documents': None, 'citations': None, 'search_results': None, 'search_queries': None, 'is_search_required': None, 'generation_id': '2f02c441-ede1-40fb-9812-ddfd22f94ff1', 'token_count': {'input_tokens': 74, 'output_tokens': 377}}, response_metadata={'documents': None, 'citations': None, 'search_results': None, 'search_queries': None, 'is_search_required': None, 'generation_id': '2f02c441-ede1-40fb-9812-ddfd22f94ff1', 'token_count': {'input_tokens': 74, 'output_tokens': 377}}, id='run-e3302f92-adb9-494f-b1b4-61fec3e929db-0')"
            ]
          },
          "execution_count": 10,
          "metadata": {},
          "output_type": "execute_result"
        }
      ],
      "source": [
        "llm.invoke(\"how can langsmith help with testing?\")"
      ]
    },
    {
      "cell_type": "code",
      "execution_count": null,
      "metadata": {
        "colab": {
          "base_uri": "https://localhost:8080/"
        },
        "id": "wDmlwbQKhXjH",
        "outputId": "268d0d7d-83f6-4398-e983-7f035e3216b6"
      },
      "outputs": [
        {
          "data": {
            "text/plain": [
              "AIMessage(content=\"Langsmith is a powerful tool that can greatly assist with testing and quality assurance processes. Here's how Langsmith can help:\\n\\n1. **Generate Test Cases**: Langsmith can be used to generate a variety of test cases by providing different inputs and scenarios. By using Langsmith to describe test cases in natural language, you can quickly create a diverse set of test inputs, covering a wide range of scenarios, including edge cases and negative tests. This helps improve test coverage and identify potential issues early in the development cycle.\\n\\n2. **Create Test Data**: Langsmith is capable of generating large volumes of realistic and diverse test data. By using Langsmith's advanced data generation capabilities, you can create test datasets that mimic real-world data, including personal information, financial data, or any custom data structures. This helps ensure that your tests are executed against meaningful and representative data, increasing the effectiveness of testing.\\n\\n3. **Automate Test Scripts**: Langsmith can be used to automate test scripts, enabling faster and more efficient testing. By using Langsmith's scripting capabilities, you can create reusable test scripts that can be executed automatically, reducing the time and effort required for manual testing. This allows testers to focus on more complex and strategic tasks, improving overall test efficiency.\\n\\n4. **Natural Language Understanding**: Langsmith's advanced natural language understanding capabilities can be leveraged to create intuitive and user-friendly test oracles. By using Langsmith's understanding of natural language, you can define expected outcomes and success criteria in plain English, making it easier for both technical and non-technical stakeholders to understand and validate test results.\\n\\n5. **Internationalization and Localization Testing**: Langsmith supports multiple languages, making it a valuable tool for internationalization and localization testing. You can use Langsmith to generate test cases and data in different languages, helping you identify and address language-specific issues, such as text truncation, character encoding problems, or layout inconsistencies across different languages.\\n\\n6. **Regression Testing**: Langsmith can be used to automate regression testing by maintaining a repository of test cases. By using Langsmith to store and manage test cases, you can easily rerun them against new versions of the software to identify and fix regressions early in the development cycle. This helps ensure that changes or new features do not introduce unintended side effects.\\n\\n7. **Documentation and Reporting**: Langsmith can assist in generating comprehensive test documentation and reports. By using Langsmith to document test plans, test cases, and test results, you can create clear and concise test artifacts that are easy to understand and share with stakeholders. This improves collaboration, facilitates knowledge transfer, and ensures that testing processes are well-documented for future reference.\\n\\nBy leveraging Langsmith's capabilities in testing, you can streamline your testing processes, improve test coverage, and enhance the overall quality of your software products. Its natural language processing capabilities bring efficiency, effectiveness, and intuitiveness to your testing efforts, resulting in more robust and reliable software.\", additional_kwargs={'documents': None, 'citations': None, 'search_results': None, 'search_queries': None, 'is_search_required': None, 'generation_id': 'e89f3fdf-1978-48b3-92e4-43449cd3e759', 'token_count': {'input_tokens': 86, 'output_tokens': 601}}, response_metadata={'documents': None, 'citations': None, 'search_results': None, 'search_queries': None, 'is_search_required': None, 'generation_id': 'e89f3fdf-1978-48b3-92e4-43449cd3e759', 'token_count': {'input_tokens': 86, 'output_tokens': 601}}, id='run-1ca27b1a-9b02-4005-943e-32e188f95606-0')"
            ]
          },
          "execution_count": 12,
          "metadata": {},
          "output_type": "execute_result"
        }
      ],
      "source": [
        "from langchain_core.prompts import ChatPromptTemplate\n",
        "prompt = ChatPromptTemplate.from_messages([\n",
        "    (\"system\", \"You are a world class technical documentation writer.\"),\n",
        "    (\"user\", \"{input}\")\n",
        "])\n",
        "\n",
        "chain = prompt | llm\n",
        "\n",
        "chain.invoke({\"input\": \"how can langsmith help with testing?\"})"
      ]
    },
    {
      "cell_type": "markdown",
      "metadata": {
        "id": "xqHJpXSoiDw8"
      },
      "source": [
        "# Retrieval Chain"
      ]
    },
    {
      "cell_type": "code",
      "execution_count": null,
      "metadata": {
        "colab": {
          "base_uri": "https://localhost:8080/"
        },
        "id": "1enNDhVPiCmT",
        "outputId": "d7969f5c-e61c-4e04-ab54-98b5d226801a"
      },
      "outputs": [
        {
          "name": "stderr",
          "output_type": "stream",
          "text": [
            "WARNING:langchain_community.utils.user_agent:USER_AGENT environment variable not set, consider setting it to identify your requests.\n"
          ]
        }
      ],
      "source": [
        "from langchain_community.document_loaders import WebBaseLoader\n",
        "loader = WebBaseLoader(\"https://docs.smith.langchain.com/user_guide\")\n",
        "\n",
        "docs = loader.load()"
      ]
    },
    {
      "cell_type": "code",
      "execution_count": null,
      "metadata": {
        "id": "50Ysxm2GiksV"
      },
      "outputs": [],
      "source": [
        "from langchain_cohere.embeddings import CohereEmbeddings\n",
        "\n",
        "embeddings = CohereEmbeddings()"
      ]
    },
    {
      "cell_type": "code",
      "execution_count": null,
      "metadata": {
        "id": "LDcTcL9ajuig"
      },
      "outputs": [],
      "source": [
        "from langchain_community.vectorstores import FAISS\n",
        "from langchain_text_splitters import RecursiveCharacterTextSplitter\n",
        "\n",
        "text_splitter = RecursiveCharacterTextSplitter()\n",
        "documents = text_splitter.split_documents(docs)\n",
        "vector = FAISS.from_documents(documents, embeddings)"
      ]
    },
    {
      "cell_type": "code",
      "execution_count": null,
      "metadata": {
        "id": "iY-FOsb-j6_s"
      },
      "outputs": [],
      "source": [
        "from langchain.chains.combine_documents import create_stuff_documents_chain\n",
        "\n",
        "prompt = ChatPromptTemplate.from_template(\"\"\"Answer the following question based only on the provided context:\n",
        "\n",
        "<context>\n",
        "{context}\n",
        "</context>\n",
        "\n",
        "Question: {input}\"\"\")\n",
        "\n",
        "document_chain = create_stuff_documents_chain(llm, prompt)"
      ]
    },
    {
      "cell_type": "code",
      "execution_count": null,
      "metadata": {
        "colab": {
          "base_uri": "https://localhost:8080/",
          "height": 35
        },
        "id": "EQDvU0uCj-E9",
        "outputId": "2abeba2a-ac9a-4b20-9532-8264fb66ea99"
      },
      "outputs": [
        {
          "data": {
            "application/vnd.google.colaboratory.intrinsic+json": {
              "type": "string"
            },
            "text/plain": [
              "'Langsmith can help with testing by visualizing test results.'"
            ]
          },
          "execution_count": 34,
          "metadata": {},
          "output_type": "execute_result"
        }
      ],
      "source": [
        "# passing document directly\n",
        "from langchain_core.documents import Document\n",
        "\n",
        "document_chain.invoke({\n",
        "    \"input\": \"how can langsmith help with testing?\",\n",
        "    \"context\": [Document(page_content=\"langsmith can let you visualize test results\")]\n",
        "})"
      ]
    },
    {
      "cell_type": "markdown",
      "metadata": {
        "id": "xfmBmR69kbwL"
      },
      "source": [
        "# Cohere with pypdf"
      ]
    },
    {
      "cell_type": "code",
      "execution_count": null,
      "metadata": {
        "colab": {
          "base_uri": "https://localhost:8080/"
        },
        "id": "KqoOpmlel7Jp",
        "outputId": "e4539518-1173-4cd1-cf75-6f851edab959"
      },
      "outputs": [
        {
          "name": "stdout",
          "output_type": "stream",
          "text": [
            "Collecting pypdf\n",
            "  Downloading pypdf-4.2.0-py3-none-any.whl (290 kB)\n",
            "\u001b[2K     \u001b[90m━━━━━━━━━━━━━━━━━━━━━━━━━━━━━━━━━━━━━━━━\u001b[0m \u001b[32m290.4/290.4 kB\u001b[0m \u001b[31m5.0 MB/s\u001b[0m eta \u001b[36m0:00:00\u001b[0m\n",
            "\u001b[?25hRequirement already satisfied: typing_extensions>=4.0 in /usr/local/lib/python3.10/dist-packages (from pypdf) (4.12.2)\n",
            "Installing collected packages: pypdf\n",
            "Successfully installed pypdf-4.2.0\n"
          ]
        }
      ],
      "source": [
        "!pip install pypdf -q"
      ]
    },
    {
      "cell_type": "code",
      "execution_count": null,
      "metadata": {
        "id": "1UyDX3IDkn83"
      },
      "outputs": [],
      "source": [
        "import os\n",
        "from langchain.document_loaders import PyPDFLoader\n",
        "from langchain.text_splitter import RecursiveCharacterTextSplitter\n",
        "from langchain.embeddings import CohereEmbeddings\n",
        "from langchain.vectorstores import FAISS\n",
        "from langchain.chains import RetrievalQA\n",
        "from langchain_community.llms import Cohere\n",
        "\n",
        "from google.colab import userdata\n",
        "\n",
        "# Load PDF\n",
        "print('loading PDF...')\n",
        "loader = PyPDFLoader(\"/content/power-of-your-subconscious-mind-epdf.pub.pdf\")\n",
        "documents = loader.load() # Each document is seperate page of pdf\n",
        "print(f\"Number of documents: {len(documents)}\")\n",
        "\n",
        "# Split text into chunks\n",
        "print('splitting text...')\n",
        "text_splitter = RecursiveCharacterTextSplitter(chunk_size=1000, chunk_overlap=200)\n",
        "texts = text_splitter.split_documents(documents)\n",
        "\n",
        "# Set Cohere API key\n",
        "os.environ[\"COHERE_API_KEY\"] = userdata.get('COHERE_API_KEY')\n",
        "\n",
        "# Create embeddings using Cohere\n",
        "print('creating embedding...')\n",
        "embeddings = CohereEmbeddings()\n",
        "\n",
        "# Create vector store\n",
        "print('creating vector store...')\n",
        "db = FAISS.from_documents(texts, embeddings)\n",
        "\n",
        "# Initialize Cohere model\n",
        "print('initializing Cohere model...')\n",
        "llm = Cohere(model=\"command\")  # You can also use \"command-light\" for a smaller model\n",
        "\n",
        "# Create retrieval-based QA chain\n",
        "print('creating retrieval-based QA chain...')\n",
        "qa_chain = RetrievalQA.from_chain_type(llm=llm, chain_type=\"stuff\", retriever=db.as_retriever())\n",
        "\n",
        "# Chat loop\n",
        "while True:\n",
        "    query = input(\"Ask a question about your PDF (or type 'quit' to exit): \")\n",
        "    if query.lower() == 'quit':\n",
        "        break\n",
        "    response = qa_chain.run(query)\n",
        "    print(response)"
      ]
    },
    {
      "cell_type": "markdown",
      "metadata": {
        "id": "NAO0D7a5v6JE"
      },
      "source": [
        "# Gemini"
      ]
    },
    {
      "cell_type": "code",
      "execution_count": null,
      "metadata": {
        "colab": {
          "base_uri": "https://localhost:8080/"
        },
        "id": "eN_LDWqVv9Ey",
        "outputId": "c495baa9-01c1-4be2-fc8a-65a8e2d25872"
      },
      "outputs": [
        {
          "name": "stdout",
          "output_type": "stream",
          "text": [
            "\u001b[2K     \u001b[90m━━━━━━━━━━━━━━━━━━━━━━━━━━━━━━━━━━━━━━━━\u001b[0m \u001b[32m4.5/4.5 MB\u001b[0m \u001b[31m12.7 MB/s\u001b[0m eta \u001b[36m0:00:00\u001b[0m\n",
            "\u001b[2K     \u001b[90m━━━━━━━━━━━━━━━━━━━━━━━━━━━━━━━━━━━━━━━━\u001b[0m \u001b[32m163.9/163.9 kB\u001b[0m \u001b[31m14.3 MB/s\u001b[0m eta \u001b[36m0:00:00\u001b[0m\n",
            "\u001b[2K     \u001b[90m━━━━━━━━━━━━━━━━━━━━━━━━━━━━━━━━━━━━━━━━\u001b[0m \u001b[32m718.3/718.3 kB\u001b[0m \u001b[31m25.2 MB/s\u001b[0m eta \u001b[36m0:00:00\u001b[0m\n",
            "\u001b[?25h\u001b[31mERROR: pip's dependency resolver does not currently take into account all the packages that are installed. This behaviour is the source of the following dependency conflicts.\n",
            "imageio 2.31.6 requires pillow<10.1.0,>=8.3.2, but you have pillow 10.3.0 which is incompatible.\u001b[0m\u001b[31m\n",
            "\u001b[0m"
          ]
        }
      ],
      "source": [
        "!pip install --upgrade --quiet  langchain-google-genai pillow"
      ]
    },
    {
      "cell_type": "code",
      "execution_count": null,
      "metadata": {
        "colab": {
          "base_uri": "https://localhost:8080/"
        },
        "id": "C9OwJlqHxhsO",
        "outputId": "5b8550e6-43d9-4517-be16-ccc770ff9d0e"
      },
      "outputs": [
        {
          "name": "stdout",
          "output_type": "stream",
          "text": [
            "loading models...\n",
            "initializing embedding...\n",
            "loading PDF...\n",
            "Number of documents: 247\n",
            "splitting text...\n",
            "creating vector store...\n",
            "initializing Cohere model...\n",
            "creating retrieval-based QA chain...\n",
            "Ask a question about your PDF (or type 'quit' to exit): list some amazing things about our sub conscious mind?\n",
            " The subconscious mind is an amazing entity that governs myriad vital processes and functions in the body, such as heartbeat, blood circulation, digestion, and elimination. It works tirelessly, never resting or sleeping, and can be harnessed to solve problems and effect miraculous changes in your life. \n",
            "\n",
            "One of the most remarkable aspects of the subconscious is its propensity to bring about tangible, material changes in the world through the power of belief and suggestion. Experiments have shown that by confidently suggesting to your subconscious mind that a specific goal has been achieved or an objective fulfilled, you can manifest that goal or objective in reality. \n",
            "\n",
            "For instance, if you affirm that you have acquired a particular quality or achieved a desired objective, your subconscious mind will oblige by eliciting corresponding experiences and circumstances in the outer world. This underscores the imperative of nurturing positive, constructive thoughts and beliefs, as the subconscious does not engage in adjudicating the truth or falsity of beliefs, nor does it possess the capacity for reasoning like the conscious mind. \n",
            "\n",
            " rather, it simply adopts the beliefs and suggestions relayed to it and thereafter orchestrates corresponding experiences and events in accordance with those beliefs. This is a profound and empowering insight for those who grasp the mechanics of the subconscious mind and leverage its miraculous workings for personal growth\n",
            "Ask a question about your PDF (or type 'quit' to exit): quit\n"
          ]
        }
      ],
      "source": [
        "import os\n",
        "from langchain.document_loaders import PyPDFLoader\n",
        "from langchain.text_splitter import RecursiveCharacterTextSplitter\n",
        "from langchain_google_genai import GoogleGenerativeAIEmbeddings\n",
        "from langchain.vectorstores import FAISS\n",
        "from langchain.chains import RetrievalQA\n",
        "from langchain_google_genai import ChatGoogleGenerativeAI\n",
        "from google.colab import userdata\n",
        "\n",
        "# Set Gemini API key\n",
        "os.environ['GOOGLE_API_KEY']=userdata.get('GEMINI_API_KEY')\n",
        "\n",
        "# load the models\n",
        "print('loading models...')\n",
        "llm = ChatGoogleGenerativeAI(model=\"gemini-pro\")\n",
        "\n",
        "# Create embeddings using Cohere\n",
        "print('initializing embedding...')\n",
        "embeddings = GoogleGenerativeAIEmbeddings(model=\"models/embedding-001\")\n",
        "\n",
        "# Load PDF\n",
        "print('loading PDF...')\n",
        "loader = PyPDFLoader(\"/content/power-of-your-subconscious-mind-epdf.pub.pdf\")\n",
        "documents = loader.load() # Each document is seperate page of pdf\n",
        "print(f\"Number of documents: {len(documents)}\")\n",
        "\n",
        "# Split text into chunks\n",
        "print('splitting text...')\n",
        "text_splitter = RecursiveCharacterTextSplitter(chunk_size=1000, chunk_overlap=200)\n",
        "texts = text_splitter.split_documents(documents)\n",
        "\n",
        "# Create vector store\n",
        "print('creating vector store...')\n",
        "db = FAISS.from_documents(texts, embeddings)\n",
        "\n",
        "# Initialize Cohere model\n",
        "print('initializing Cohere model...')\n",
        "llm = Cohere(model=\"command\")  # You can also use \"command-light\" for a smaller model\n",
        "\n",
        "# Create retrieval-based QA chain\n",
        "print('creating retrieval-based QA chain...')\n",
        "qa_chain = RetrievalQA.from_chain_type(llm=llm, chain_type=\"stuff\", retriever=db.as_retriever())\n",
        "\n",
        "# Chat loop\n",
        "while True:\n",
        "    query = input(\"Ask a question about your PDF (or type 'quit' to exit): \")\n",
        "    if query.lower() == 'quit':\n",
        "        break\n",
        "    response = qa_chain.run(query)\n",
        "    print(response)"
      ]
    },
    {
      "cell_type": "markdown",
      "metadata": {
        "id": "5xGDVu05zJsS"
      },
      "source": [
        "# Chromadb and gemini\n",
        "* [reference](https://gist.github.com/janakiramm/6546d9734c7872f111b139cda1a8e0de)"
      ]
    },
    {
      "cell_type": "code",
      "execution_count": null,
      "metadata": {
        "colab": {
          "base_uri": "https://localhost:8080/"
        },
        "id": "NyZ-H_kizzeA",
        "outputId": "641d5ec8-473a-41b2-cbe1-e8a1f6178836"
      },
      "outputs": [
        {
          "name": "stdout",
          "output_type": "stream",
          "text": [
            "\u001b[2K     \u001b[90m━━━━━━━━━━━━━━━━━━━━━━━━━━━━━━━━━━━━━━━━\u001b[0m \u001b[32m232.6/232.6 kB\u001b[0m \u001b[31m1.8 MB/s\u001b[0m eta \u001b[36m0:00:00\u001b[0m\n",
            "\u001b[2K     \u001b[90m━━━━━━━━━━━━━━━━━━━━━━━━━━━━━━━━━━━━━━━━\u001b[0m \u001b[32m559.5/559.5 kB\u001b[0m \u001b[31m3.2 MB/s\u001b[0m eta \u001b[36m0:00:00\u001b[0m\n",
            "\u001b[2K     \u001b[90m━━━━━━━━━━━━━━━━━━━━━━━━━━━━━━━━━━━━━━━━\u001b[0m \u001b[32m2.4/2.4 MB\u001b[0m \u001b[31m18.1 MB/s\u001b[0m eta \u001b[36m0:00:00\u001b[0m\n",
            "\u001b[2K     \u001b[90m━━━━━━━━━━━━━━━━━━━━━━━━━━━━━━━━━━━━━━━━\u001b[0m \u001b[32m92.0/92.0 kB\u001b[0m \u001b[31m7.1 MB/s\u001b[0m eta \u001b[36m0:00:00\u001b[0m\n",
            "\u001b[2K     \u001b[90m━━━━━━━━━━━━━━━━━━━━━━━━━━━━━━━━━━━━━━━━\u001b[0m \u001b[32m62.4/62.4 kB\u001b[0m \u001b[31m3.7 MB/s\u001b[0m eta \u001b[36m0:00:00\u001b[0m\n",
            "\u001b[2K     \u001b[90m━━━━━━━━━━━━━━━━━━━━━━━━━━━━━━━━━━━━━━━━\u001b[0m \u001b[32m41.3/41.3 kB\u001b[0m \u001b[31m3.1 MB/s\u001b[0m eta \u001b[36m0:00:00\u001b[0m\n",
            "\u001b[2K     \u001b[90m━━━━━━━━━━━━━━━━━━━━━━━━━━━━━━━━━━━━━━━━\u001b[0m \u001b[32m6.8/6.8 MB\u001b[0m \u001b[31m50.7 MB/s\u001b[0m eta \u001b[36m0:00:00\u001b[0m\n",
            "\u001b[2K     \u001b[90m━━━━━━━━━━━━━━━━━━━━━━━━━━━━━━━━━━━━━━━━\u001b[0m \u001b[32m59.9/59.9 kB\u001b[0m \u001b[31m5.9 MB/s\u001b[0m eta \u001b[36m0:00:00\u001b[0m\n",
            "\u001b[2K     \u001b[90m━━━━━━━━━━━━━━━━━━━━━━━━━━━━━━━━━━━━━━━━\u001b[0m \u001b[32m107.0/107.0 kB\u001b[0m \u001b[31m8.2 MB/s\u001b[0m eta \u001b[36m0:00:00\u001b[0m\n",
            "\u001b[2K     \u001b[90m━━━━━━━━━━━━━━━━━━━━━━━━━━━━━━━━━━━━━━━━\u001b[0m \u001b[32m67.3/67.3 kB\u001b[0m \u001b[31m7.2 MB/s\u001b[0m eta \u001b[36m0:00:00\u001b[0m\n",
            "\u001b[?25h  Installing build dependencies ... \u001b[?25l\u001b[?25hdone\n",
            "  Getting requirements to build wheel ... \u001b[?25l\u001b[?25hdone\n",
            "  Preparing metadata (pyproject.toml) ... \u001b[?25l\u001b[?25hdone\n",
            "\u001b[2K     \u001b[90m━━━━━━━━━━━━━━━━━━━━━━━━━━━━━━━━━━━━━━━━\u001b[0m \u001b[32m283.7/283.7 kB\u001b[0m \u001b[31m17.4 MB/s\u001b[0m eta \u001b[36m0:00:00\u001b[0m\n",
            "\u001b[2K     \u001b[90m━━━━━━━━━━━━━━━━━━━━━━━━━━━━━━━━━━━━━━━━\u001b[0m \u001b[32m1.7/1.7 MB\u001b[0m \u001b[31m35.8 MB/s\u001b[0m eta \u001b[36m0:00:00\u001b[0m\n",
            "\u001b[2K     \u001b[90m━━━━━━━━━━━━━━━━━━━━━━━━━━━━━━━━━━━━━━━━\u001b[0m \u001b[32m67.6/67.6 kB\u001b[0m \u001b[31m5.4 MB/s\u001b[0m eta \u001b[36m0:00:00\u001b[0m\n",
            "\u001b[2K     \u001b[90m━━━━━━━━━━━━━━━━━━━━━━━━━━━━━━━━━━━━━━━━\u001b[0m \u001b[32m145.0/145.0 kB\u001b[0m \u001b[31m934.2 kB/s\u001b[0m eta \u001b[36m0:00:00\u001b[0m\n",
            "\u001b[2K     \u001b[90m━━━━━━━━━━━━━━━━━━━━━━━━━━━━━━━━━━━━━━━━\u001b[0m \u001b[32m75.6/75.6 kB\u001b[0m \u001b[31m6.1 MB/s\u001b[0m eta \u001b[36m0:00:00\u001b[0m\n",
            "\u001b[2K     \u001b[90m━━━━━━━━━━━━━━━━━━━━━━━━━━━━━━━━━━━━━━━━\u001b[0m \u001b[32m71.9/71.9 kB\u001b[0m \u001b[31m5.1 MB/s\u001b[0m eta \u001b[36m0:00:00\u001b[0m\n",
            "\u001b[2K     \u001b[90m━━━━━━━━━━━━━━━━━━━━━━━━━━━━━━━━━━━━━━━━\u001b[0m \u001b[32m53.6/53.6 kB\u001b[0m \u001b[31m2.5 MB/s\u001b[0m eta \u001b[36m0:00:00\u001b[0m\n",
            "\u001b[2K     \u001b[90m━━━━━━━━━━━━━━━━━━━━━━━━━━━━━━━━━━━━━━━━\u001b[0m \u001b[32m77.9/77.9 kB\u001b[0m \u001b[31m7.5 MB/s\u001b[0m eta \u001b[36m0:00:00\u001b[0m\n",
            "\u001b[2K     \u001b[90m━━━━━━━━━━━━━━━━━━━━━━━━━━━━━━━━━━━━━━━━\u001b[0m \u001b[32m58.3/58.3 kB\u001b[0m \u001b[31m7.1 MB/s\u001b[0m eta \u001b[36m0:00:00\u001b[0m\n",
            "\u001b[2K     \u001b[90m━━━━━━━━━━━━━━━━━━━━━━━━━━━━━━━━━━━━━━━━\u001b[0m \u001b[32m46.0/46.0 kB\u001b[0m \u001b[31m4.4 MB/s\u001b[0m eta \u001b[36m0:00:00\u001b[0m\n",
            "\u001b[2K     \u001b[90m━━━━━━━━━━━━━━━━━━━━━━━━━━━━━━━━━━━━━━━━\u001b[0m \u001b[32m52.5/52.5 kB\u001b[0m \u001b[31m5.7 MB/s\u001b[0m eta \u001b[36m0:00:00\u001b[0m\n",
            "\u001b[2K     \u001b[90m━━━━━━━━━━━━━━━━━━━━━━━━━━━━━━━━━━━━━━━━\u001b[0m \u001b[32m130.5/130.5 kB\u001b[0m \u001b[31m11.8 MB/s\u001b[0m eta \u001b[36m0:00:00\u001b[0m\n",
            "\u001b[2K     \u001b[90m━━━━━━━━━━━━━━━━━━━━━━━━━━━━━━━━━━━━━━━━\u001b[0m \u001b[32m341.4/341.4 kB\u001b[0m \u001b[31m25.7 MB/s\u001b[0m eta \u001b[36m0:00:00\u001b[0m\n",
            "\u001b[2K     \u001b[90m━━━━━━━━━━━━━━━━━━━━━━━━━━━━━━━━━━━━━━━━\u001b[0m \u001b[32m3.4/3.4 MB\u001b[0m \u001b[31m49.4 MB/s\u001b[0m eta \u001b[36m0:00:00\u001b[0m\n",
            "\u001b[2K     \u001b[90m━━━━━━━━━━━━━━━━━━━━━━━━━━━━━━━━━━━━━━━━\u001b[0m \u001b[32m1.2/1.2 MB\u001b[0m \u001b[31m40.0 MB/s\u001b[0m eta \u001b[36m0:00:00\u001b[0m\n",
            "\u001b[2K     \u001b[90m━━━━━━━━━━━━━━━━━━━━━━━━━━━━━━━━━━━━━━━━\u001b[0m \u001b[32m130.2/130.2 kB\u001b[0m \u001b[31m9.8 MB/s\u001b[0m eta \u001b[36m0:00:00\u001b[0m\n",
            "\u001b[2K     \u001b[90m━━━━━━━━━━━━━━━━━━━━━━━━━━━━━━━━━━━━━━━━\u001b[0m \u001b[32m307.7/307.7 kB\u001b[0m \u001b[31m21.5 MB/s\u001b[0m eta \u001b[36m0:00:00\u001b[0m\n",
            "\u001b[2K     \u001b[90m━━━━━━━━━━━━━━━━━━━━━━━━━━━━━━━━━━━━━━━━\u001b[0m \u001b[32m86.8/86.8 kB\u001b[0m \u001b[31m9.0 MB/s\u001b[0m eta \u001b[36m0:00:00\u001b[0m\n",
            "\u001b[?25h  Building wheel for pypika (pyproject.toml) ... \u001b[?25l\u001b[?25hdone\n",
            "\u001b[2K     \u001b[90m━━━━━━━━━━━━━━━━━━━━━━━━━━━━━━━━━━━━━━━━\u001b[0m \u001b[32m163.9/163.9 kB\u001b[0m \u001b[31m2.2 MB/s\u001b[0m eta \u001b[36m0:00:00\u001b[0m\n",
            "\u001b[2K     \u001b[90m━━━━━━━━━━━━━━━━━━━━━━━━━━━━━━━━━━━━━━━━\u001b[0m \u001b[32m332.8/332.8 kB\u001b[0m \u001b[31m7.2 MB/s\u001b[0m eta \u001b[36m0:00:00\u001b[0m\n",
            "\u001b[2K     \u001b[90m━━━━━━━━━━━━━━━━━━━━━━━━━━━━━━━━━━━━━━━━\u001b[0m \u001b[32m718.3/718.3 kB\u001b[0m \u001b[31m15.5 MB/s\u001b[0m eta \u001b[36m0:00:00\u001b[0m\n",
            "\u001b[2K     \u001b[90m━━━━━━━━━━━━━━━━━━━━━━━━━━━━━━━━━━━━━━━━\u001b[0m \u001b[32m127.5/127.5 kB\u001b[0m \u001b[31m11.6 MB/s\u001b[0m eta \u001b[36m0:00:00\u001b[0m\n",
            "\u001b[2K     \u001b[90m━━━━━━━━━━━━━━━━━━━━━━━━━━━━━━━━━━━━━━━━\u001b[0m \u001b[32m975.5/975.5 kB\u001b[0m \u001b[31m5.2 MB/s\u001b[0m eta \u001b[36m0:00:00\u001b[0m\n",
            "\u001b[2K     \u001b[90m━━━━━━━━━━━━━━━━━━━━━━━━━━━━━━━━━━━━━━━━\u001b[0m \u001b[32m2.2/2.2 MB\u001b[0m \u001b[31m9.6 MB/s\u001b[0m eta \u001b[36m0:00:00\u001b[0m\n",
            "\u001b[2K     \u001b[90m━━━━━━━━━━━━━━━━━━━━━━━━━━━━━━━━━━━━━━━━\u001b[0m \u001b[32m49.2/49.2 kB\u001b[0m \u001b[31m5.5 MB/s\u001b[0m eta \u001b[36m0:00:00\u001b[0m\n",
            "\u001b[?25h"
          ]
        }
      ],
      "source": [
        "### Install required modules and set the envvar for Gemini API Key\n",
        "!pip install pypdf2 -q\n",
        "!pip install chromadb -q\n",
        "!pip install google.generativeai -q\n",
        "!pip install langchain-google-genai -q\n",
        "!pip install langchain -q\n",
        "!pip install langchain_community -q\n",
        "# !pip install jupyter"
      ]
    },
    {
      "cell_type": "code",
      "execution_count": null,
      "metadata": {
        "colab": {
          "base_uri": "https://localhost:8080/",
          "height": 609
        },
        "id": "0-aQZtzMzNYD",
        "outputId": "119a8ddb-96c9-4a3e-f5dc-33890d98d907"
      },
      "outputs": [
        {
          "ename": "ImportError",
          "evalue": "pypdf package not found, please install it with `pip install pypdf`",
          "output_type": "error",
          "traceback": [
            "\u001b[0;31m---------------------------------------------------------------------------\u001b[0m",
            "\u001b[0;31mModuleNotFoundError\u001b[0m                       Traceback (most recent call last)",
            "\u001b[0;32m/usr/local/lib/python3.10/dist-packages/langchain_community/document_loaders/pdf.py\u001b[0m in \u001b[0;36m__init__\u001b[0;34m(self, file_path, password, headers, extract_images)\u001b[0m\n\u001b[1;32m    176\u001b[0m         \u001b[0;32mtry\u001b[0m\u001b[0;34m:\u001b[0m\u001b[0;34m\u001b[0m\u001b[0;34m\u001b[0m\u001b[0m\n\u001b[0;32m--> 177\u001b[0;31m             \u001b[0;32mimport\u001b[0m \u001b[0mpypdf\u001b[0m  \u001b[0;31m# noqa:F401\u001b[0m\u001b[0;34m\u001b[0m\u001b[0;34m\u001b[0m\u001b[0m\n\u001b[0m\u001b[1;32m    178\u001b[0m         \u001b[0;32mexcept\u001b[0m \u001b[0mImportError\u001b[0m\u001b[0;34m:\u001b[0m\u001b[0;34m\u001b[0m\u001b[0;34m\u001b[0m\u001b[0m\n",
            "\u001b[0;31mModuleNotFoundError\u001b[0m: No module named 'pypdf'",
            "\nDuring handling of the above exception, another exception occurred:\n",
            "\u001b[0;31mImportError\u001b[0m                               Traceback (most recent call last)",
            "\u001b[0;32m<ipython-input-3-bbbab689069c>\u001b[0m in \u001b[0;36m<cell line: 23>\u001b[0;34m()\u001b[0m\n\u001b[1;32m     21\u001b[0m \u001b[0;34m\u001b[0m\u001b[0m\n\u001b[1;32m     22\u001b[0m \u001b[0;31m#Load the PDF and create chunks\u001b[0m\u001b[0;34m\u001b[0m\u001b[0;34m\u001b[0m\u001b[0m\n\u001b[0;32m---> 23\u001b[0;31m \u001b[0mloader\u001b[0m \u001b[0;34m=\u001b[0m \u001b[0mPyPDFLoader\u001b[0m\u001b[0;34m(\u001b[0m\u001b[0;34m\"/content/1706.03762v7.pdf\"\u001b[0m\u001b[0;34m)\u001b[0m\u001b[0;34m\u001b[0m\u001b[0;34m\u001b[0m\u001b[0m\n\u001b[0m\u001b[1;32m     24\u001b[0m text_splitter = CharacterTextSplitter(\n\u001b[1;32m     25\u001b[0m     \u001b[0mseparator\u001b[0m\u001b[0;34m=\u001b[0m\u001b[0;34m\".\"\u001b[0m\u001b[0;34m,\u001b[0m\u001b[0;34m\u001b[0m\u001b[0;34m\u001b[0m\u001b[0m\n",
            "\u001b[0;32m/usr/local/lib/python3.10/dist-packages/langchain_community/document_loaders/pdf.py\u001b[0m in \u001b[0;36m__init__\u001b[0;34m(self, file_path, password, headers, extract_images)\u001b[0m\n\u001b[1;32m    177\u001b[0m             \u001b[0;32mimport\u001b[0m \u001b[0mpypdf\u001b[0m  \u001b[0;31m# noqa:F401\u001b[0m\u001b[0;34m\u001b[0m\u001b[0;34m\u001b[0m\u001b[0m\n\u001b[1;32m    178\u001b[0m         \u001b[0;32mexcept\u001b[0m \u001b[0mImportError\u001b[0m\u001b[0;34m:\u001b[0m\u001b[0;34m\u001b[0m\u001b[0;34m\u001b[0m\u001b[0m\n\u001b[0;32m--> 179\u001b[0;31m             raise ImportError(\n\u001b[0m\u001b[1;32m    180\u001b[0m                 \u001b[0;34m\"pypdf package not found, please install it with \"\u001b[0m \u001b[0;34m\"`pip install pypdf`\"\u001b[0m\u001b[0;34m\u001b[0m\u001b[0;34m\u001b[0m\u001b[0m\n\u001b[1;32m    181\u001b[0m             )\n",
            "\u001b[0;31mImportError\u001b[0m: pypdf package not found, please install it with `pip install pypdf`",
            "",
            "\u001b[0;31m---------------------------------------------------------------------------\u001b[0;32m\nNOTE: If your import is failing due to a missing package, you can\nmanually install dependencies using either !pip or !apt.\n\nTo view examples of installing some common dependencies, click the\n\"Open Examples\" button below.\n\u001b[0;31m---------------------------------------------------------------------------\u001b[0m\n"
          ]
        }
      ],
      "source": [
        "#Import Python modules\n",
        "from langchain_google_genai import ChatGoogleGenerativeAI\n",
        "from langchain_google_genai import GoogleGenerativeAIEmbeddings\n",
        "from langchain.prompts import PromptTemplate\n",
        "from langchain_community.document_loaders import PyPDFLoader\n",
        "from langchain_text_splitters import CharacterTextSplitter\n",
        "from langchain.chains.combine_documents import create_stuff_documents_chain\n",
        "from langchain.chains import create_retrieval_chain\n",
        "from langchain.vectorstores import Chroma\n",
        "\n",
        "import os\n",
        "from google.colab import userdata\n",
        "\n",
        "# Set Gemini API key\n",
        "#export GOOGLE_API_KEY=\"YOUR_GOOGLE_API_KEY\"\n",
        "os.environ['GOOGLE_API_KEY']=userdata.get('GEMINI_API_KEY')\n",
        "\n",
        "#Load the models\n",
        "llm = ChatGoogleGenerativeAI(model=\"gemini-pro\")\n",
        "embeddings = GoogleGenerativeAIEmbeddings(model=\"models/embedding-001\")\n",
        "\n",
        "#Load the PDF and create chunks\n",
        "loader = PyPDFLoader(\"/content/1706.03762v7.pdf\")\n",
        "text_splitter = CharacterTextSplitter(\n",
        "    separator=\".\",\n",
        "    chunk_size=250,\n",
        "    chunk_overlap=50,\n",
        "    length_function=len,\n",
        "    is_separator_regex=False,\n",
        ")\n",
        "pages = loader.load_and_split(text_splitter)\n",
        "\n",
        "#Turn the chunks into embeddings and store them in Chroma\n",
        "persist_directory = \"/content/embeddings_store\"\n",
        "vectordb=Chroma.from_documents(pages,embeddings, persist_directory=persist_directory)\n",
        "\n",
        "#Configure Chroma as a retriever with top_k=5\n",
        "retriever = vectordb.as_retriever(search_kwargs={\"k\": 5})\n",
        "\n",
        "#Create the retrieval chain\n",
        "template = \"\"\"\n",
        "You are a helpful AI assistant.\n",
        "Answer based on the context provided.\n",
        "context: {context}\n",
        "input: {input}\n",
        "answer:\n",
        "\"\"\"\n",
        "prompt = PromptTemplate.from_template(template)\n",
        "combine_docs_chain = create_stuff_documents_chain(llm, prompt)\n",
        "retrieval_chain = create_retrieval_chain(retriever, combine_docs_chain)\n",
        "\n",
        "\n",
        "# Chat loop\n",
        "while True:\n",
        "    query = input(\"Ask a question about your PDF (or type 'quit' to exit): \")\n",
        "    if query.lower() == 'quit':\n",
        "        break\n",
        "    #Invoke the retrieval chain\n",
        "    response=retrieval_chain.invoke({\"input\":query})  # what is attention mechanism?\n",
        "    # Print the answer to the question\n",
        "    print(response[\"answer\"])\n"
      ]
    },
    {
      "cell_type": "code",
      "execution_count": null,
      "metadata": {
        "colab": {
          "base_uri": "https://localhost:8080/"
        },
        "id": "mGpJaI4Y42Ck",
        "outputId": "d654d7f1-0276-4a39-e128-0cd510fb6500"
      },
      "outputs": [
        {
          "name": "stdout",
          "output_type": "stream",
          "text": [
            "Initializing new Chroma database...\n",
            "Processing new document: /content/1706.03762v7.pdf\n"
          ]
        },
        {
          "name": "stderr",
          "output_type": "stream",
          "text": [
            "WARNING:langchain_text_splitters.base:Created a chunk of size 293, which is longer than the specified 250\n",
            "WARNING:langchain_text_splitters.base:Created a chunk of size 300, which is longer than the specified 250\n",
            "WARNING:langchain_text_splitters.base:Created a chunk of size 282, which is longer than the specified 250\n",
            "WARNING:langchain_text_splitters.base:Created a chunk of size 281, which is longer than the specified 250\n",
            "WARNING:langchain_text_splitters.base:Created a chunk of size 264, which is longer than the specified 250\n"
          ]
        },
        {
          "name": "stdout",
          "output_type": "stream",
          "text": [
            "Processing new document: /content/power-of-your-subconscious-mind-epdf.pub.pdf\n"
          ]
        },
        {
          "name": "stderr",
          "output_type": "stream",
          "text": [
            "WARNING:langchain_text_splitters.base:Created a chunk of size 491, which is longer than the specified 250\n",
            "WARNING:langchain_text_splitters.base:Created a chunk of size 282, which is longer than the specified 250\n",
            "WARNING:langchain_text_splitters.base:Created a chunk of size 335, which is longer than the specified 250\n",
            "WARNING:langchain_text_splitters.base:Created a chunk of size 284, which is longer than the specified 250\n",
            "WARNING:langchain_text_splitters.base:Created a chunk of size 261, which is longer than the specified 250\n",
            "WARNING:langchain_text_splitters.base:Created a chunk of size 283, which is longer than the specified 250\n",
            "WARNING:langchain_text_splitters.base:Created a chunk of size 316, which is longer than the specified 250\n",
            "WARNING:langchain_text_splitters.base:Created a chunk of size 364, which is longer than the specified 250\n",
            "WARNING:langchain_text_splitters.base:Created a chunk of size 291, which is longer than the specified 250\n",
            "WARNING:langchain_text_splitters.base:Created a chunk of size 259, which is longer than the specified 250\n",
            "WARNING:langchain_text_splitters.base:Created a chunk of size 273, which is longer than the specified 250\n",
            "WARNING:langchain_text_splitters.base:Created a chunk of size 293, which is longer than the specified 250\n",
            "WARNING:langchain_text_splitters.base:Created a chunk of size 283, which is longer than the specified 250\n",
            "WARNING:langchain_text_splitters.base:Created a chunk of size 277, which is longer than the specified 250\n",
            "WARNING:langchain_text_splitters.base:Created a chunk of size 251, which is longer than the specified 250\n",
            "WARNING:langchain_text_splitters.base:Created a chunk of size 317, which is longer than the specified 250\n",
            "WARNING:langchain_text_splitters.base:Created a chunk of size 322, which is longer than the specified 250\n",
            "WARNING:langchain_text_splitters.base:Created a chunk of size 285, which is longer than the specified 250\n",
            "WARNING:langchain_text_splitters.base:Created a chunk of size 319, which is longer than the specified 250\n",
            "WARNING:langchain_text_splitters.base:Created a chunk of size 380, which is longer than the specified 250\n",
            "WARNING:langchain_text_splitters.base:Created a chunk of size 333, which is longer than the specified 250\n",
            "WARNING:langchain_text_splitters.base:Created a chunk of size 314, which is longer than the specified 250\n",
            "WARNING:langchain_text_splitters.base:Created a chunk of size 432, which is longer than the specified 250\n",
            "WARNING:langchain_text_splitters.base:Created a chunk of size 346, which is longer than the specified 250\n",
            "WARNING:langchain_text_splitters.base:Created a chunk of size 396, which is longer than the specified 250\n",
            "WARNING:langchain_text_splitters.base:Created a chunk of size 307, which is longer than the specified 250\n",
            "WARNING:langchain_text_splitters.base:Created a chunk of size 275, which is longer than the specified 250\n",
            "WARNING:langchain_text_splitters.base:Created a chunk of size 335, which is longer than the specified 250\n",
            "WARNING:langchain_text_splitters.base:Created a chunk of size 285, which is longer than the specified 250\n",
            "WARNING:langchain_text_splitters.base:Created a chunk of size 263, which is longer than the specified 250\n",
            "WARNING:langchain_text_splitters.base:Created a chunk of size 270, which is longer than the specified 250\n",
            "WARNING:langchain_text_splitters.base:Created a chunk of size 326, which is longer than the specified 250\n",
            "WARNING:langchain_text_splitters.base:Created a chunk of size 271, which is longer than the specified 250\n",
            "WARNING:langchain_text_splitters.base:Created a chunk of size 305, which is longer than the specified 250\n",
            "WARNING:langchain_text_splitters.base:Created a chunk of size 316, which is longer than the specified 250\n",
            "WARNING:langchain_text_splitters.base:Created a chunk of size 291, which is longer than the specified 250\n",
            "WARNING:langchain_text_splitters.base:Created a chunk of size 265, which is longer than the specified 250\n",
            "WARNING:langchain_text_splitters.base:Created a chunk of size 599, which is longer than the specified 250\n",
            "WARNING:langchain_text_splitters.base:Created a chunk of size 404, which is longer than the specified 250\n",
            "WARNING:langchain_text_splitters.base:Created a chunk of size 316, which is longer than the specified 250\n",
            "WARNING:langchain_text_splitters.base:Created a chunk of size 276, which is longer than the specified 250\n",
            "WARNING:langchain_text_splitters.base:Created a chunk of size 302, which is longer than the specified 250\n",
            "WARNING:langchain_text_splitters.base:Created a chunk of size 327, which is longer than the specified 250\n",
            "WARNING:langchain_text_splitters.base:Created a chunk of size 258, which is longer than the specified 250\n",
            "WARNING:langchain_text_splitters.base:Created a chunk of size 340, which is longer than the specified 250\n",
            "WARNING:langchain_text_splitters.base:Created a chunk of size 360, which is longer than the specified 250\n",
            "WARNING:langchain_text_splitters.base:Created a chunk of size 319, which is longer than the specified 250\n",
            "WARNING:langchain_text_splitters.base:Created a chunk of size 295, which is longer than the specified 250\n",
            "WARNING:langchain_text_splitters.base:Created a chunk of size 292, which is longer than the specified 250\n",
            "WARNING:langchain_text_splitters.base:Created a chunk of size 251, which is longer than the specified 250\n",
            "WARNING:langchain_text_splitters.base:Created a chunk of size 259, which is longer than the specified 250\n",
            "WARNING:langchain_text_splitters.base:Created a chunk of size 299, which is longer than the specified 250\n",
            "WARNING:langchain_text_splitters.base:Created a chunk of size 274, which is longer than the specified 250\n",
            "WARNING:langchain_text_splitters.base:Created a chunk of size 277, which is longer than the specified 250\n",
            "WARNING:langchain_text_splitters.base:Created a chunk of size 324, which is longer than the specified 250\n",
            "WARNING:langchain_text_splitters.base:Created a chunk of size 317, which is longer than the specified 250\n",
            "WARNING:langchain_text_splitters.base:Created a chunk of size 328, which is longer than the specified 250\n",
            "WARNING:langchain_text_splitters.base:Created a chunk of size 469, which is longer than the specified 250\n",
            "WARNING:langchain_text_splitters.base:Created a chunk of size 390, which is longer than the specified 250\n",
            "WARNING:langchain_text_splitters.base:Created a chunk of size 307, which is longer than the specified 250\n",
            "WARNING:langchain_text_splitters.base:Created a chunk of size 402, which is longer than the specified 250\n",
            "WARNING:langchain_text_splitters.base:Created a chunk of size 333, which is longer than the specified 250\n",
            "WARNING:langchain_text_splitters.base:Created a chunk of size 289, which is longer than the specified 250\n",
            "WARNING:langchain_text_splitters.base:Created a chunk of size 342, which is longer than the specified 250\n",
            "WARNING:langchain_text_splitters.base:Created a chunk of size 317, which is longer than the specified 250\n",
            "WARNING:langchain_text_splitters.base:Created a chunk of size 392, which is longer than the specified 250\n",
            "WARNING:langchain_text_splitters.base:Created a chunk of size 261, which is longer than the specified 250\n",
            "WARNING:langchain_text_splitters.base:Created a chunk of size 301, which is longer than the specified 250\n",
            "WARNING:langchain_text_splitters.base:Created a chunk of size 332, which is longer than the specified 250\n",
            "WARNING:langchain_text_splitters.base:Created a chunk of size 292, which is longer than the specified 250\n",
            "WARNING:langchain_text_splitters.base:Created a chunk of size 326, which is longer than the specified 250\n",
            "WARNING:langchain_text_splitters.base:Created a chunk of size 258, which is longer than the specified 250\n",
            "WARNING:langchain_text_splitters.base:Created a chunk of size 272, which is longer than the specified 250\n",
            "WARNING:langchain_text_splitters.base:Created a chunk of size 295, which is longer than the specified 250\n",
            "WARNING:langchain_text_splitters.base:Created a chunk of size 357, which is longer than the specified 250\n",
            "WARNING:langchain_text_splitters.base:Created a chunk of size 276, which is longer than the specified 250\n",
            "WARNING:langchain_text_splitters.base:Created a chunk of size 265, which is longer than the specified 250\n",
            "WARNING:langchain_text_splitters.base:Created a chunk of size 252, which is longer than the specified 250\n",
            "WARNING:langchain_text_splitters.base:Created a chunk of size 332, which is longer than the specified 250\n",
            "WARNING:langchain_text_splitters.base:Created a chunk of size 304, which is longer than the specified 250\n",
            "WARNING:langchain_text_splitters.base:Created a chunk of size 257, which is longer than the specified 250\n",
            "WARNING:langchain_text_splitters.base:Created a chunk of size 314, which is longer than the specified 250\n",
            "WARNING:langchain_text_splitters.base:Created a chunk of size 378, which is longer than the specified 250\n",
            "WARNING:langchain_text_splitters.base:Created a chunk of size 294, which is longer than the specified 250\n",
            "WARNING:langchain_text_splitters.base:Created a chunk of size 309, which is longer than the specified 250\n",
            "WARNING:langchain_text_splitters.base:Created a chunk of size 487, which is longer than the specified 250\n",
            "WARNING:langchain_text_splitters.base:Created a chunk of size 316, which is longer than the specified 250\n",
            "WARNING:langchain_text_splitters.base:Created a chunk of size 316, which is longer than the specified 250\n",
            "WARNING:langchain_text_splitters.base:Created a chunk of size 265, which is longer than the specified 250\n",
            "WARNING:langchain_text_splitters.base:Created a chunk of size 408, which is longer than the specified 250\n",
            "WARNING:langchain_text_splitters.base:Created a chunk of size 276, which is longer than the specified 250\n",
            "WARNING:langchain_text_splitters.base:Created a chunk of size 426, which is longer than the specified 250\n",
            "WARNING:langchain_text_splitters.base:Created a chunk of size 318, which is longer than the specified 250\n",
            "WARNING:langchain_text_splitters.base:Created a chunk of size 311, which is longer than the specified 250\n",
            "WARNING:langchain_text_splitters.base:Created a chunk of size 273, which is longer than the specified 250\n",
            "WARNING:langchain_text_splitters.base:Created a chunk of size 376, which is longer than the specified 250\n",
            "WARNING:langchain_text_splitters.base:Created a chunk of size 266, which is longer than the specified 250\n",
            "WARNING:langchain_text_splitters.base:Created a chunk of size 305, which is longer than the specified 250\n",
            "WARNING:langchain_text_splitters.base:Created a chunk of size 268, which is longer than the specified 250\n",
            "WARNING:langchain_text_splitters.base:Created a chunk of size 262, which is longer than the specified 250\n",
            "WARNING:langchain_text_splitters.base:Created a chunk of size 268, which is longer than the specified 250\n",
            "WARNING:langchain_text_splitters.base:Created a chunk of size 280, which is longer than the specified 250\n",
            "WARNING:langchain_text_splitters.base:Created a chunk of size 356, which is longer than the specified 250\n",
            "WARNING:langchain_text_splitters.base:Created a chunk of size 261, which is longer than the specified 250\n",
            "WARNING:langchain_text_splitters.base:Created a chunk of size 394, which is longer than the specified 250\n",
            "WARNING:langchain_text_splitters.base:Created a chunk of size 328, which is longer than the specified 250\n",
            "WARNING:langchain_text_splitters.base:Created a chunk of size 377, which is longer than the specified 250\n",
            "WARNING:langchain_text_splitters.base:Created a chunk of size 320, which is longer than the specified 250\n",
            "WARNING:langchain_text_splitters.base:Created a chunk of size 283, which is longer than the specified 250\n",
            "WARNING:langchain_text_splitters.base:Created a chunk of size 339, which is longer than the specified 250\n",
            "WARNING:langchain_text_splitters.base:Created a chunk of size 254, which is longer than the specified 250\n",
            "WARNING:langchain_text_splitters.base:Created a chunk of size 272, which is longer than the specified 250\n",
            "WARNING:langchain_text_splitters.base:Created a chunk of size 264, which is longer than the specified 250\n",
            "WARNING:langchain_text_splitters.base:Created a chunk of size 373, which is longer than the specified 250\n",
            "WARNING:langchain_text_splitters.base:Created a chunk of size 264, which is longer than the specified 250\n",
            "WARNING:langchain_text_splitters.base:Created a chunk of size 258, which is longer than the specified 250\n",
            "WARNING:langchain_text_splitters.base:Created a chunk of size 388, which is longer than the specified 250\n",
            "WARNING:langchain_text_splitters.base:Created a chunk of size 479, which is longer than the specified 250\n",
            "WARNING:langchain_text_splitters.base:Created a chunk of size 264, which is longer than the specified 250\n",
            "WARNING:langchain_text_splitters.base:Created a chunk of size 291, which is longer than the specified 250\n",
            "WARNING:langchain_text_splitters.base:Created a chunk of size 271, which is longer than the specified 250\n",
            "WARNING:langchain_text_splitters.base:Created a chunk of size 261, which is longer than the specified 250\n",
            "WARNING:langchain_text_splitters.base:Created a chunk of size 323, which is longer than the specified 250\n",
            "WARNING:langchain_text_splitters.base:Created a chunk of size 301, which is longer than the specified 250\n",
            "WARNING:langchain_text_splitters.base:Created a chunk of size 292, which is longer than the specified 250\n",
            "WARNING:langchain_text_splitters.base:Created a chunk of size 263, which is longer than the specified 250\n",
            "WARNING:langchain_text_splitters.base:Created a chunk of size 260, which is longer than the specified 250\n",
            "WARNING:langchain_text_splitters.base:Created a chunk of size 260, which is longer than the specified 250\n",
            "WARNING:langchain_text_splitters.base:Created a chunk of size 262, which is longer than the specified 250\n",
            "WARNING:langchain_text_splitters.base:Created a chunk of size 258, which is longer than the specified 250\n",
            "WARNING:langchain_text_splitters.base:Created a chunk of size 397, which is longer than the specified 250\n",
            "WARNING:langchain_text_splitters.base:Created a chunk of size 256, which is longer than the specified 250\n",
            "/usr/local/lib/python3.10/dist-packages/langchain_core/_api/deprecation.py:139: LangChainDeprecationWarning: Since Chroma 0.4.x the manual persistence method is no longer supported as docs are automatically persisted.\n",
            "  warn_deprecated(\n"
          ]
        },
        {
          "name": "stdout",
          "output_type": "stream",
          "text": [
            "Ask a question about your PDF (or type 'quit' to exit): quit\n"
          ]
        }
      ],
      "source": [
        "#Import Python modules\n",
        "from langchain_google_genai import ChatGoogleGenerativeAI\n",
        "from langchain_google_genai import GoogleGenerativeAIEmbeddings\n",
        "from langchain.prompts import PromptTemplate\n",
        "from langchain_community.document_loaders import PyPDFLoader\n",
        "from langchain_text_splitters import CharacterTextSplitter\n",
        "from langchain.chains.combine_documents import create_stuff_documents_chain\n",
        "from langchain.chains import create_retrieval_chain\n",
        "from langchain.vectorstores import Chroma\n",
        "import os\n",
        "from google.colab import userdata\n",
        "\n",
        "# Set Gemini API key\n",
        "#export GOOGLE_API_KEY=\"YOUR_GOOGLE_API_KEY\"\n",
        "os.environ['GOOGLE_API_KEY']=userdata.get('GEMINI_API_KEY')\n",
        "\n",
        "#Load the models\n",
        "llm = ChatGoogleGenerativeAI(model=\"gemini-pro\")\n",
        "embeddings = GoogleGenerativeAIEmbeddings(model=\"models/embedding-001\")\n",
        "\n",
        "# Define the persistence directory\n",
        "persist_directory = \"/content/embeddings_store\"\n",
        "\n",
        "# List of document paths\n",
        "document_paths = [\"/content/1706.03762v7.pdf\", \"/content/power-of-your-subconscious-mind-epdf.pub.pdf\"]\n",
        "\n",
        "# Function to get document hash (you may want to use a more robust hashing method)\n",
        "def get_document_hash(file_path):\n",
        "    return f\"{os.path.basename(file_path)}_{os.path.getsize(file_path)}\"\n",
        "\n",
        "# Function to load and split a document\n",
        "def load_and_split_document(file_path):\n",
        "    loader = PyPDFLoader(file_path)\n",
        "    text_splitter = CharacterTextSplitter(\n",
        "        separator=\".\",\n",
        "        chunk_size=250,\n",
        "        chunk_overlap=50,\n",
        "        length_function=len,\n",
        "        is_separator_regex=False,\n",
        "    )\n",
        "    return loader.load_and_split(text_splitter)\n",
        "\n",
        "# Initialize or load Chroma\n",
        "if os.path.exists(persist_directory) and os.listdir(persist_directory):\n",
        "    print(\"Loading existing embeddings...\")\n",
        "else:\n",
        "    print(\"Initializing new Chroma database...\")\n",
        "vectordb = Chroma(persist_directory=persist_directory, embedding_function=embeddings)\n",
        "\n",
        "# Process each document\n",
        "for doc_path in document_paths:\n",
        "    doc_hash = get_document_hash(doc_path)\n",
        "\n",
        "    # Check if document is already in the database\n",
        "    if vectordb.get(where={\"source\": doc_hash})['ids'] != []:\n",
        "        print(f\"Document {doc_path} already processed. Skipping.\")\n",
        "        continue\n",
        "\n",
        "    print(f\"Processing new document: {doc_path}\")\n",
        "    pages = load_and_split_document(doc_path)\n",
        "\n",
        "    # Add new document to the database with its hash as metadata\n",
        "    # Add new document to the database with its hash as metadata\n",
        "    metadatas = [{\"source\": doc_hash} for _ in range(len(pages))]\n",
        "    ids = [f\"{doc_hash}_{i}\" for i in range(len(pages))]\n",
        "    # vectordb.add_documents(documents=pages, metadatas=metadatas, ids=ids)\n",
        "    vectordb.add_documents(pages)\n",
        "\n",
        "# Persist changes\n",
        "vectordb.persist()\n",
        "\n",
        "# Configure Chroma as a retriever with top_k=5\n",
        "retriever = vectordb.as_retriever(search_kwargs={\"k\": 5})\n",
        "\n",
        "#Create the retrieval chain\n",
        "template = \"\"\"\n",
        "You are a helpful AI assistant.\n",
        "Answer based on the context provided.\n",
        "context: {context}\n",
        "input: {input}\n",
        "answer:\n",
        "\"\"\"\n",
        "prompt = PromptTemplate.from_template(template)\n",
        "combine_docs_chain = create_stuff_documents_chain(llm, prompt)\n",
        "retrieval_chain = create_retrieval_chain(retriever, combine_docs_chain)\n",
        "\n",
        "\n",
        "# Chat loop\n",
        "while True:\n",
        "    query = input(\"Ask a question about your PDF (or type 'quit' to exit): \")\n",
        "    if query.lower() == 'quit':\n",
        "        break\n",
        "    #Invoke the retrieval chain\n",
        "    response=retrieval_chain.invoke({\"input\":query})  # what is attention mechanism?\n",
        "    # Print the answer to the question\n",
        "    print(response[\"answer\"])"
      ]
    },
    {
      "cell_type": "code",
      "execution_count": null,
      "metadata": {
        "id": "0Nr6o_-B6Qor"
      },
      "outputs": [],
      "source": [
        "doc_hash=\"power-of-your-subconscious-mind-epdf.pub.pdf_1191348\"\n",
        "vectordb.get(where={\"source\": '/content/power-of-your-subconscious-mind-epdf.pub.pdf'})\n",
        "\n",
        "# vectordb.get(get_document_hash(\"/content/1706.03762v7.pdf\"))"
      ]
    },
    {
      "cell_type": "code",
      "execution_count": null,
      "metadata": {
        "id": "EXWd5GSR5yQO"
      },
      "outputs": [],
      "source": [
        "!rm -rf embeddings_store"
      ]
    },
    {
      "cell_type": "code",
      "execution_count": null,
      "metadata": {
        "colab": {
          "base_uri": "https://localhost:8080/",
          "height": 35
        },
        "id": "ivcn0QnA8e65",
        "outputId": "a211cc5a-e10e-4acd-9295-35cb12373617"
      },
      "outputs": [
        {
          "data": {
            "application/vnd.google.colaboratory.intrinsic+json": {
              "type": "string"
            },
            "text/plain": [
              "'power-of-your-subconscious-mind-epdf.pub.pdf_1191348'"
            ]
          },
          "execution_count": 25,
          "metadata": {},
          "output_type": "execute_result"
        }
      ],
      "source": [
        "# persist_directory=\"/content/embeddings_store\"\n",
        "# vectordb = Chroma(persist_directory=persist_directory, embedding_function=embeddings)\n",
        "# a=vectordb.get()\n",
        "# a.keys()  # dict_keys(['ids', 'embeddings', 'metadatas', 'documents', 'uris', 'data', 'included'])\n",
        "# a['metadatas']\n",
        "\n",
        "doc_hash"
      ]
    },
    {
      "cell_type": "code",
      "execution_count": null,
      "metadata": {
        "colab": {
          "base_uri": "https://localhost:8080/",
          "height": 35
        },
        "id": "hIsXnT0BHzMV",
        "outputId": "0f5afabc-af04-4b60-bcdb-381fc990864b"
      },
      "outputs": [
        {
          "data": {
            "application/vnd.google.colaboratory.intrinsic+json": {
              "type": "string"
            },
            "text/plain": [
              "'power-of-your-subconscious-mind-epdf.pub.pdf_1191348'"
            ]
          },
          "execution_count": 22,
          "metadata": {},
          "output_type": "execute_result"
        }
      ],
      "source": [
        "get_document_hash(\"/content/1706.03762v7.pdf\")\n",
        "get_document_hash(\"/content/power-of-your-subconscious-mind-epdf.pub.pdf\")"
      ]
    },
    {
      "cell_type": "code",
      "execution_count": null,
      "metadata": {
        "id": "7dk3QRMnHv_h"
      },
      "outputs": [],
      "source": [
        "# vectordb = Chroma(persist_directory=persist_directory, embedding_function=embeddings)\n",
        "# vectordb.get(where={\"source\": '1706.03762v7.pdf_2215244'})\n",
        "vectordb.get(where={\"source\": '/content/power-of-your-subconscious-mind-epdf.pub.pdf'})"
      ]
    },
    {
      "cell_type": "code",
      "execution_count": null,
      "metadata": {
        "colab": {
          "base_uri": "https://localhost:8080/"
        },
        "id": "iriuH0k-JAVe",
        "outputId": "4c06150a-9a5e-4c2d-95c7-3ac06f55d282"
      },
      "outputs": [
        {
          "name": "stdout",
          "output_type": "stream",
          "text": [
            "{'page': 0, 'source': '/content/1706.03762v7.pdf'}\n"
          ]
        },
        {
          "data": {
            "text/plain": [
              "{'/content/1706.03762v7.pdf',\n",
              " '/content/power-of-your-subconscious-mind-epdf.pub.pdf',\n",
              " 0,\n",
              " 2,\n",
              " 6}"
            ]
          },
          "execution_count": 47,
          "metadata": {},
          "output_type": "execute_result"
        }
      ],
      "source": [
        "a=[]\n",
        "for t in vectordb.get()['metadatas']:\n",
        "  a.extend(t.values())\n",
        "  if '/content/1706.03762v7.pdf' in t.values():\n",
        "    print(t)\n",
        "    break\n",
        "# set(list(a))"
      ]
    },
    {
      "cell_type": "code",
      "execution_count": null,
      "metadata": {
        "colab": {
          "base_uri": "https://localhost:8080/"
        },
        "id": "djsH-924Kk0g",
        "outputId": "c60ec989-f7d3-4078-c515-87ac072e1d72"
      },
      "outputs": [
        {
          "data": {
            "text/plain": [
              "dict"
            ]
          },
          "execution_count": 3,
          "metadata": {},
          "output_type": "execute_result"
        }
      ],
      "source": [
        "a=vectordb.get(where={\"source\": '/content/1706.03762v7.pdf'})\n",
        "type(a)"
      ]
    },
    {
      "cell_type": "code",
      "execution_count": null,
      "metadata": {
        "id": "3u4-vRwfM3FR"
      },
      "outputs": [],
      "source": [
        "a.keys()  # dict_keys(['ids', 'embeddings', 'metadatas', 'documents', 'uris', 'data', 'included'])\n",
        "a['ids']\n"
      ]
    },
    {
      "cell_type": "code",
      "execution_count": null,
      "metadata": {
        "colab": {
          "base_uri": "https://localhost:8080/"
        },
        "id": "IEYX6ASFICzl",
        "outputId": "a63c7c75-8bfc-42b7-e761-6541e52b412b"
      },
      "outputs": [
        {
          "data": {
            "text/plain": [
              "dict_keys(['ids', 'embeddings', 'metadatas', 'documents', 'uris', 'data', 'included'])"
            ]
          },
          "execution_count": 26,
          "metadata": {},
          "output_type": "execute_result"
        }
      ],
      "source": [
        "vectordb.get().keys()"
      ]
    },
    {
      "cell_type": "code",
      "execution_count": null,
      "metadata": {
        "colab": {
          "base_uri": "https://localhost:8080/"
        },
        "id": "D6CGhjiqJXV-",
        "outputId": "4d0ac83d-8a26-4fd9-aa81-d7b37fe4c426"
      },
      "outputs": [
        {
          "data": {
            "text/plain": [
              "['power-of-your-subconscious-mind-epdf.pub.pdf_1191348_0',\n",
              " 'power-of-your-subconscious-mind-epdf.pub.pdf_1191348_1',\n",
              " 'power-of-your-subconscious-mind-epdf.pub.pdf_1191348_2',\n",
              " 'power-of-your-subconscious-mind-epdf.pub.pdf_1191348_3',\n",
              " 'power-of-your-subconscious-mind-epdf.pub.pdf_1191348_4',\n",
              " 'power-of-your-subconscious-mind-epdf.pub.pdf_1191348_5',\n",
              " 'power-of-your-subconscious-mind-epdf.pub.pdf_1191348_6',\n",
              " 'power-of-your-subconscious-mind-epdf.pub.pdf_1191348_7',\n",
              " 'power-of-your-subconscious-mind-epdf.pub.pdf_1191348_8',\n",
              " 'power-of-your-subconscious-mind-epdf.pub.pdf_1191348_9']"
            ]
          },
          "execution_count": 6,
          "metadata": {},
          "output_type": "execute_result"
        }
      ],
      "source": [
        "ids[:10]"
      ]
    },
    {
      "cell_type": "code",
      "execution_count": null,
      "metadata": {
        "colab": {
          "base_uri": "https://localhost:8080/"
        },
        "id": "hv_1rupEOON4",
        "outputId": "59d525d9-4b14-4905-caac-fca620eb29c0"
      },
      "outputs": [
        {
          "data": {
            "text/plain": [
              "['3d71823a-becf-47f8-bd44-6253cc5bf635',\n",
              " '7ac0ed59-13cb-4db2-8a89-23421fe19e0d',\n",
              " 'f8764911-dbf4-4943-9dbd-7467b95f980d',\n",
              " '7cf53c14-aab1-45dc-8bbf-71390f1720b5',\n",
              " '3dea608a-eb11-47aa-bc74-0efd39839c21',\n",
              " '40ca7929-ea7c-4dca-9ab2-011565d1f938',\n",
              " 'cd463c33-6284-4228-9aac-0360f4b89f29',\n",
              " 'b3e8786b-bddf-4bcc-8ccc-8bedca7c6e19',\n",
              " '22265a33-c9f6-4976-a783-79e573676a97',\n",
              " '0c46ea3c-9ab3-4654-87da-05faf65665de']"
            ]
          },
          "execution_count": 7,
          "metadata": {},
          "output_type": "execute_result"
        }
      ],
      "source": [
        "vectordb.add_documents(pages[:10], source2=['power']*10)"
      ]
    },
    {
      "cell_type": "code",
      "execution_count": null,
      "metadata": {
        "colab": {
          "base_uri": "https://localhost:8080/"
        },
        "id": "8wYOBaQYPNdH",
        "outputId": "123f49b9-ff75-42cc-b571-e6d62f1c8967"
      },
      "outputs": [
        {
          "data": {
            "text/plain": [
              "{'ids': [],\n",
              " 'embeddings': None,\n",
              " 'metadatas': [],\n",
              " 'documents': [],\n",
              " 'uris': None,\n",
              " 'data': None,\n",
              " 'included': ['metadatas', 'documents']}"
            ]
          },
          "execution_count": 13,
          "metadata": {},
          "output_type": "execute_result"
        }
      ],
      "source": [
        "a=vectordb.get(where={\"ids\": '3d71823a-becf-47f8-bd44-6253cc5bf635'})\n",
        "a"
      ]
    },
    {
      "cell_type": "markdown",
      "metadata": {
        "id": "tqoHzR5ZegWP"
      },
      "source": [
        "# Pinecone\n",
        "api key: [goto pinecone](https://app.pinecone.io/organizations/)\n",
        "  * create new index (or you may create programatically refer to pinecone docs)\n",
        "  * embedding size 768 for gemini\n",
        "  * get api keys  from manage/API_KEYS\n",
        "\n",
        "# References:\n",
        "* [pinecone-langchain docs](https://docs.pinecone.io/integrations/langchain)\n",
        "* [langchain-docs](https://python.langchain.com/v0.1/docs/integrations/chat/google_generative_ai/)\n",
        "\n"
      ]
    },
    {
      "cell_type": "code",
      "execution_count": null,
      "metadata": {
        "colab": {
          "base_uri": "https://localhost:8080/"
        },
        "id": "UWDNnp_niJMj",
        "outputId": "30f07bbe-1f47-485f-e56b-8f4d08dd38f5"
      },
      "outputs": [
        {
          "name": "stdout",
          "output_type": "stream",
          "text": [
            "\u001b[2K     \u001b[90m━━━━━━━━━━━━━━━━━━━━━━━━━━━━━━━━━━━━━━━━\u001b[0m \u001b[32m290.4/290.4 kB\u001b[0m \u001b[31m2.3 MB/s\u001b[0m eta \u001b[36m0:00:00\u001b[0m\n",
            "\u001b[?25h"
          ]
        }
      ],
      "source": [
        "!pip install langchain-pinecone -q\n",
        "!pip install pypdf -q"
      ]
    },
    {
      "cell_type": "code",
      "execution_count": 109,
      "metadata": {
        "colab": {
          "base_uri": "https://localhost:8080/",
          "height": 237
        },
        "id": "wRS2fnwdehzV",
        "outputId": "c4aa79e4-922a-4bed-d3f3-9a91f210aba7"
      },
      "outputs": [
        {
          "name": "stderr",
          "output_type": "stream",
          "text": [
            "WARNING:langchain_text_splitters.base:Created a chunk of size 583, which is longer than the specified 500\n",
            "WARNING:langchain_text_splitters.base:Created a chunk of size 549, which is longer than the specified 500\n",
            "WARNING:langchain_text_splitters.base:Created a chunk of size 584, which is longer than the specified 500\n",
            "WARNING:langchain_text_splitters.base:Created a chunk of size 602, which is longer than the specified 500\n",
            "WARNING:langchain_text_splitters.base:Created a chunk of size 784, which is longer than the specified 500\n",
            "WARNING:langchain_text_splitters.base:Created a chunk of size 552, which is longer than the specified 500\n",
            "WARNING:langchain_text_splitters.base:Created a chunk of size 636, which is longer than the specified 500\n",
            "WARNING:langchain_text_splitters.base:Created a chunk of size 616, which is longer than the specified 500\n",
            "WARNING:langchain_text_splitters.base:Created a chunk of size 550, which is longer than the specified 500\n",
            "WARNING:langchain_text_splitters.base:Created a chunk of size 513, which is longer than the specified 500\n"
          ]
        },
        {
          "data": {
            "application/vnd.google.colaboratory.intrinsic+json": {
              "type": "string"
            },
            "text/plain": [
              "'\\n# search by source\\nvectorstore_from_docs.similarity_search(query, k=5, namespace=\\'art-of-war\\')\\n# Search by namespace\\nvectorstore_from_docs.similarity_search(query, k=5, namespace=\"https://arxiv.org/pdf/1706.03762\")\\n'"
            ]
          },
          "execution_count": 109,
          "metadata": {},
          "output_type": "execute_result"
        }
      ],
      "source": [
        "#Import Python modules\n",
        "from langchain_pinecone import PineconeVectorStore\n",
        "from langchain_google_genai import (\n",
        "    ChatGoogleGenerativeAI,\n",
        "    HarmBlockThreshold,\n",
        "    HarmCategory,\n",
        ")\n",
        "from langchain_google_genai import GoogleGenerativeAIEmbeddings\n",
        "from google.colab import userdata\n",
        "import os\n",
        "\n",
        "# Set pinecone api key\n",
        "os.environ['PINECONE_API_KEY']  = userdata.get('PINECONE_API_KEY')\n",
        "\n",
        "# Set Gemini API key\n",
        "#export GOOGLE_API_KEY=\"YOUR_GOOGLE_API_KEY\"\n",
        "os.environ['GOOGLE_API_KEY']=userdata.get('GEMINI_API_KEY')\n",
        "\n",
        "index_name = \"pdf-index\"\n",
        "embeddings = GoogleGenerativeAIEmbeddings(model=\"models/embedding-001\")\n",
        "\n",
        "vectorstore = PineconeVectorStore(index_name=index_name, embedding=embeddings)\n",
        "\n",
        "#Load the models\n",
        "llm = ChatGoogleGenerativeAI(\n",
        "    model=\"gemini-pro\",\n",
        "    safety_settings={\n",
        "        HarmCategory.HARM_CATEGORY_DANGEROUS: HarmBlockThreshold.BLOCK_NONE,\n",
        "        HarmCategory.HARM_CATEGORY_HARASSMENT: HarmBlockThreshold.BLOCK_NONE,\n",
        "        HarmCategory.HARM_CATEGORY_HATE_SPEECH: HarmBlockThreshold.BLOCK_NONE,\n",
        "        HarmCategory.HARM_CATEGORY_SEXUALLY_EXPLICIT: HarmBlockThreshold.BLOCK_NONE,\n",
        "        HarmCategory.HARM_CATEGORY_DANGEROUS_CONTENT: HarmBlockThreshold.BLOCK_NONE,\n",
        "\n",
        "    },\n",
        ")\n",
        "\n",
        "from langchain.prompts import PromptTemplate\n",
        "from langchain_community.document_loaders import PyPDFLoader\n",
        "from langchain_text_splitters import CharacterTextSplitter\n",
        "from langchain.chains.combine_documents import create_stuff_documents_chain\n",
        "from langchain.chains import create_retrieval_chain\n",
        "from langchain.vectorstores import Chroma\n",
        "\n",
        "import re\n",
        "\n",
        "def remove_non_english(text):\n",
        "    # This pattern keeps English letters, numbers, spaces, and basic punctuation\n",
        "    pattern = re.compile(r'[^a-zA-Z0-9\\s.,!?\"-]')\n",
        "    return pattern.sub('', text)\n",
        "\n",
        "#Load the models\n",
        "llm = ChatGoogleGenerativeAI(model=\"gemini-pro\")\n",
        "embeddings = GoogleGenerativeAIEmbeddings(model=\"models/embedding-001\")\n",
        "\n",
        "namespace = [\"https://arxiv.org/pdf/1706.03762\", \"art-of-war\"]\n",
        "file_paths = [\"/content/1706.03762v7.pdf\", \"/content/art of war -Sant tuz.pdf\"]\n",
        "for file_path, namespace in zip(file_paths, namespace):\n",
        "    #Load the PDF and create chunks\n",
        "    loader = PyPDFLoader(file_path)\n",
        "    text_splitter = CharacterTextSplitter(\n",
        "        separator=\".\",\n",
        "        chunk_size=500,\n",
        "        chunk_overlap=50,\n",
        "        length_function=len,\n",
        "        is_separator_regex=False,\n",
        "    )\n",
        "    docs = loader.load_and_split(text_splitter) # pages\n",
        "    for d in docs:\n",
        "      d.page_content = remove_non_english(d.page_content)\n",
        "\n",
        "\n",
        "    # Initialize vector store\n",
        "    vectorstore_from_docs = PineconeVectorStore.from_documents(\n",
        "            docs,\n",
        "            index_name=index_name,\n",
        "            embedding=embeddings,\n",
        "            namespace=namespace  # namespace to differentiate between two pdfs\n",
        "    )\n",
        "    # Add documents\n",
        "    vectorstore_from_docs.add_documents(docs)\n",
        "\n",
        "query1 ='what is transformers architecture based on given text?'\n",
        "query2 ='What are five ways of attacking with fire based on given text?'\n",
        "'''\n",
        "# search by source\n",
        "vectorstore_from_docs.similarity_search(query, k=5, namespace='art-of-war')\n",
        "# Search by namespace\n",
        "vectorstore_from_docs.similarity_search(query, k=5, namespace=\"https://arxiv.org/pdf/1706.03762\")\n",
        "'''\n"
      ]
    },
    {
      "cell_type": "markdown",
      "metadata": {
        "id": "D61negGQ7-Qv"
      },
      "source": [
        "# Works at times\n",
        "* sometimes it gives empty answer like for query: \"what are five ways of attacking with fire.\""
      ]
    },
    {
      "cell_type": "code",
      "execution_count": 11,
      "metadata": {
        "colab": {
          "base_uri": "https://localhost:8080/"
        },
        "id": "sIBmOwj_2PZ_",
        "outputId": "408fed75-0a7c-4d07-dca6-8baee9732a89"
      },
      "outputs": [
        {
          "name": "stdout",
          "output_type": "stream",
          "text": [
            "Ask a question about your PDF (or type 'quit' to exit): what are considerations while attack by fire?\n",
            "\n",
            "Response: {'input': 'what are considerations while attack by fire?', 'context': [Document(page_content='58 CHINESE TEXT AND ENGLISH TRANSLATION\\n5. In attacking with fire, one should be prepared to meet \\nfive possible developments12\\n6. 1 When fire breaks out inside the enemys camp, re-\\nspond at once13 with an attack from without.\\n7. \\n8. \\n9. \\n7. 2 If there is an outbreak of fire, but the enemys soldiers \\nremain quiet, bide your time and do not attack.14\\n8. 3 When force of the flames has reached its height, follow it \\nup with an attack, if that is practicable if not, stay where you are', metadata={'page': 126.0, 'source': '/content/art of war -Sant tuz.pdf'}), Document(page_content='58 CHINESE TEXT AND ENGLISH TRANSLATION\\n5. In attacking with fire, one should be prepared to meet \\nfive possible developments12\\n6. 1 When fire breaks out inside the enemys camp, re-\\nspond at once13 with an attack from without.\\n7. \\n8. \\n9. \\n7. 2 If there is an outbreak of fire, but the enemys soldiers \\nremain quiet, bide your time and do not attack.14\\n8. 3 When force of the flames has reached its height, follow it \\nup with an attack, if that is practicable if not, stay where you are', metadata={'page': 126.0, 'source': '/content/art of war -Sant tuz.pdf'}), Document(page_content='15\\n9. 4 If it is possible to make an assault with fire from with-\\nout, do not wait for it to break out within, but deliver your attack at a favorable moment.\\n16\\n10. \\n11. \\n12.  \\n10. 5 When you start a fire, be to windward of it. Do not \\nattack from the leeward.17\\n11. A wind that rises in the daytime lasts long, but a night \\nbreeze soon falls.18\\n12', metadata={'page': 126.0, 'source': '/content/art of war -Sant tuz.pdf'})], 'answer': \"1. When fire breaks out inside the enemy's camp, respond at once with an attack from without.\\n2. If there is an outbreak of fire, but the enemy's soldiers remain quiet, bide your time and do not attack.\\n3. When the force of the flames has reached its height, follow it up with an attack, if that is practicable if not, stay where you are\\n4. If it is possible to make an assault with fire from within, do not wait for it to break out within, but deliver your attack at a favorable moment.\\n5. When you start a fire, be to windward of it. Do not attack from the leeward.\"}\n",
            "\n",
            "Answer: 1. When fire breaks out inside the enemy's camp, respond at once with an attack from without.\n",
            "2. If there is an outbreak of fire, but the enemy's soldiers remain quiet, bide your time and do not attack.\n",
            "3. When the force of the flames has reached its height, follow it up with an attack, if that is practicable if not, stay where you are\n",
            "4. If it is possible to make an assault with fire from within, do not wait for it to break out within, but deliver your attack at a favorable moment.\n",
            "5. When you start a fire, be to windward of it. Do not attack from the leeward.\n",
            "Ask a question about your PDF (or type 'quit' to exit): what are five ways of attacking with fire.\n",
            "\n",
            "Response: {'input': 'what are five ways of attacking with fire.', 'context': [Document(page_content='CHAPTER 12\\nThe Attack By Fire1\\n\\n1. \\n \\n1. Sun Tz said There are five ways of attacking with fire. \\nThe first is to burn soldiers in their camp2 the second is to burn \\nstores3 the third is to burn baggage-trains4 the fourth is to \\nburn arsenals and magazines5 the fifth is to hurl dropping fire \\namongst the enemy.6\\n2. \\n3. \\n2. In order carry out an attack with fire, we must have \\nmeans available7 the material for raising fire should always be \\nkept in readiness.8\\n3', metadata={'page': 125.0, 'source': '/content/art of war -Sant tuz.pdf'}), Document(page_content='CHAPTER 12\\nThe Attack By Fire1\\n\\n1. \\n \\n1. Sun Tz said There are five ways of attacking with fire. \\nThe first is to burn soldiers in their camp2 the second is to burn \\nstores3 the third is to burn baggage-trains4 the fourth is to \\nburn arsenals and magazines5 the fifth is to hurl dropping fire \\namongst the enemy.6\\n2. \\n3. \\n2. In order carry out an attack with fire, we must have \\nmeans available7 the material for raising fire should always be \\nkept in readiness.8\\n3', metadata={'page': 125.0, 'source': '/content/art of war -Sant tuz.pdf'}), Document(page_content='58 CHINESE TEXT AND ENGLISH TRANSLATION\\n5. In attacking with fire, one should be prepared to meet \\nfive possible developments12\\n6. 1 When fire breaks out inside the enemys camp, re-\\nspond at once13 with an attack from without.\\n7. \\n8. \\n9. \\n7. 2 If there is an outbreak of fire, but the enemys soldiers \\nremain quiet, bide your time and do not attack.14\\n8. 3 When force of the flames has reached its height, follow it \\nup with an attack, if that is practicable if not, stay where you are', metadata={'page': 126.0, 'source': '/content/art of war -Sant tuz.pdf'})], 'answer': ''}\n",
            "\n",
            "Answer: \n",
            "Ask a question about your PDF (or type 'quit' to exit): q\n"
          ]
        }
      ],
      "source": [
        "from langchain_google_genai import (\n",
        "    ChatGoogleGenerativeAI,\n",
        "    HarmBlockThreshold,\n",
        "    HarmCategory,\n",
        ")\n",
        "from langchain.text_splitter import TokenTextSplitter\n",
        "from langchain_pinecone import PineconeVectorStore\n",
        "from langchain.prompts import PromptTemplate\n",
        "from langchain.chains.combine_documents.stuff import create_stuff_documents_chain\n",
        "from langchain.chains.retrieval import create_retrieval_chain\n",
        "from langchain_google_genai import GoogleGenerativeAIEmbeddings\n",
        "import os\n",
        "from google.colab import userdata\n",
        "\n",
        "# Set pinecone api key\n",
        "os.environ['PINECONE_API_KEY']  = userdata.get('PINECONE_API_KEY')\n",
        "\n",
        "# Set Gemini API key\n",
        "#export GOOGLE_API_KEY=\"YOUR_GOOGLE_API_KEY\"\n",
        "os.environ['GOOGLE_API_KEY']=userdata.get('GEMINI_API_KEY')\n",
        "\n",
        "embeddings = GoogleGenerativeAIEmbeddings(model=\"models/embedding-001\")\n",
        "\n",
        "llm = ChatGoogleGenerativeAI(\n",
        "    model= \"gemini-pro\",  # 'gemini-1.5-flash',\n",
        "    safety_settings={\n",
        "        HarmCategory.HARM_CATEGORY_UNSPECIFIED: HarmBlockThreshold.BLOCK_NONE,\n",
        "        HarmCategory.HARM_CATEGORY_DEROGATORY: HarmBlockThreshold.BLOCK_NONE,\n",
        "        HarmCategory.HARM_CATEGORY_TOXICITY: HarmBlockThreshold.BLOCK_NONE,\n",
        "        HarmCategory.HARM_CATEGORY_VIOLENCE: HarmBlockThreshold.BLOCK_NONE,\n",
        "        HarmCategory.HARM_CATEGORY_SEXUAL: HarmBlockThreshold.BLOCK_NONE,\n",
        "        HarmCategory.HARM_CATEGORY_MEDICAL: HarmBlockThreshold.BLOCK_NONE,\n",
        "        HarmCategory.HARM_CATEGORY_DANGEROUS: HarmBlockThreshold.BLOCK_NONE,\n",
        "        HarmCategory.HARM_CATEGORY_HARASSMENT: HarmBlockThreshold.BLOCK_NONE,\n",
        "        HarmCategory.HARM_CATEGORY_HATE_SPEECH: HarmBlockThreshold.BLOCK_NONE,\n",
        "        HarmCategory.HARM_CATEGORY_SEXUALLY_EXPLICIT: HarmBlockThreshold.BLOCK_NONE,\n",
        "        HarmCategory.HARM_CATEGORY_DANGEROUS_CONTENT: HarmBlockThreshold.BLOCK_NONE,\n",
        "\n",
        "    },\n",
        ")\n",
        "\n",
        "# Initialize Pinecone vector store\n",
        "index_name = 'pdf-index'\n",
        "vectorstore = PineconeVectorStore(\n",
        "    index_name=index_name,\n",
        "    embedding=embeddings,\n",
        "    pinecone_api_key=userdata.get('PINECONE_API_KEY'),\n",
        "    namespace='art-of-war'\n",
        ")\n",
        "\n",
        "# Set up the retriever with custom search parameters\n",
        "retriever = vectorstore.as_retriever(search_kwargs={\"k\": 3})\n",
        "\n",
        "# Create the prompt template\n",
        "template = \"\"\"\n",
        "You are a helpful AI assistant. Answer based on the context provided.\n",
        "If the answer cannot be found in the context, say \"I don't have enough information to answer that question.\"\n",
        "\n",
        "Context: {context}\n",
        "Question: {input}\n",
        "\n",
        "Answer:\n",
        "\"\"\"\n",
        "prompt = PromptTemplate.from_template(template)\n",
        "\n",
        "# Create the retrieval chain\n",
        "combine_docs_chain = create_stuff_documents_chain(llm, prompt)\n",
        "retrieval_chain = create_retrieval_chain(retriever, combine_docs_chain)\n",
        "\n",
        "# Chat loop\n",
        "while True:\n",
        "    query = input(\"Ask a question about your PDF (or type 'quit' to exit): \")\n",
        "    if query.lower() in ['quit', 'q']:\n",
        "        break\n",
        "\n",
        "    try:\n",
        "        response = retrieval_chain.invoke({\"input\": query})\n",
        "        print(\"\\nResponse:\", response)\n",
        "        print(\"\\nAnswer:\", response[\"answer\"])\n",
        "    except Exception as e:\n",
        "        print(f\"\\nAn error occurred: {str(e)}\")"
      ]
    },
    {
      "cell_type": "code",
      "execution_count": 130,
      "metadata": {
        "colab": {
          "base_uri": "https://localhost:8080/",
          "height": 127
        },
        "id": "GhppReeoDCAg",
        "outputId": "76841471-a222-4776-d2f1-6c5e1aad60ba"
      },
      "outputs": [
        {
          "data": {
            "application/vnd.google.colaboratory.intrinsic+json": {
              "type": "string"
            },
            "text/plain": [
              "\"1. **When fire breaks out inside the enemy's camp, respond at once with an attack from without.** This is because the enemy will be disorganized and confused, and therefore more vulnerable to attack.\\n2. **If there is an outbreak of fire, but the enemy's soldiers remain quiet, bide your time and do not attack.** This is because the enemy may be preparing a trap, or they may be waiting for reinforcements.\\n3. **When the force of the flames has reached its height, follow it up with an attack, if that is practicable.** If it is not practicable, stay where you are. This is because the enemy will be more focused on fighting the fire than on defending themselves.\\n4. **If it is possible to make an assault with fire from without, do not wait for it to break out within, but deliver your attack at a favorable moment.** This is because the enemy will be less prepared for an attack from outside.\\n5. **When you start a fire, be to windward of it.** Do not attack from the leeward. This is because the wind will carry the fire towards the enemy, and it will be more difficult to put out.\""
            ]
          },
          "execution_count": 130,
          "metadata": {},
          "output_type": "execute_result"
        }
      ],
      "source": [
        "# direct llm response\n",
        "query = \"what are considerations while attack by fire? context : [Document(page_content='58 CHINESE TEXT AND ENGLISH TRANSLATION\\n5. In attacking with fire, one should be prepared to meet \\nfive possible developments12\\n6. 1 When fire breaks out inside the enemys camp, re-\\nspond at once13 with an attack from without.\\n7. \\n8. \\n9. \\n7. 2 If there is an outbreak of fire, but the enemys soldiers \\nremain quiet, bide your time and do not attack.14\\n8. 3 When force of the flames has reached its height, follow it \\nup with an attack, if that is practicable if not, stay where you are', metadata={'page': 126.0, 'source': '/content/art of war -Sant tuz.pdf'}), Document(page_content='58 CHINESE TEXT AND ENGLISH TRANSLATION\\n5. In attacking with fire, one should be prepared to meet \\nfive possible developments12\\n6. 1 When fire breaks out inside the enemys camp, re-\\nspond at once13 with an attack from without.\\n7. \\n8. \\n9. \\n7. 2 If there is an outbreak of fire, but the enemys soldiers \\nremain quiet, bide your time and do not attack.14\\n8. 3 When force of the flames has reached its height, follow it \\nup with an attack, if that is practicable if not, stay where you are', metadata={'page': 126.0, 'source': '/content/art of war -Sant tuz.pdf'}), Document(page_content='15\\n9. 4 If it is possible to make an assault with fire from with-\\nout, do not wait for it to break out within, but deliver your attack at a favorable moment.\\n16\\n10. \\n11. \\n12.  \\n10. 5 When you start a fire, be to windward of it. Do not \\nattack from the leeward.17\\n11. A wind that rises in the daytime lasts long, but a night \\nbreeze soon falls.18\\n12'\"\n",
        "llm.invoke(query).content"
      ]
    },
    {
      "cell_type": "markdown",
      "metadata": {
        "id": "JgRqBzZo1ghN"
      },
      "source": [
        "# Working at times"
      ]
    },
    {
      "cell_type": "code",
      "execution_count": 107,
      "metadata": {
        "colab": {
          "base_uri": "https://localhost:8080/",
          "height": 467
        },
        "id": "PKtq79kI57ql",
        "outputId": "aeeef433-d328-4a00-faec-7f50c8a4ef47"
      },
      "outputs": [
        {
          "name": "stdout",
          "output_type": "stream",
          "text": [
            "Ask a question about your PDF (or type 'quit' to exit): 1\n",
            "{'input': 'what is transformers architecture based on given text?', 'context': [Document(page_content='” He cautions us here not to pin our faith to abstract principles; “for, ” as Zhang Yu puts it, “while the main laws of strategy can be stated clearly enough for the benefit of all and sundry, you must be guided by the ac-tions of the enemy in attempting to secure a favorable position in actual warfare', metadata={'page': 136.0, 'source': '/content/art of war -Sant tuz.pdf'}), Document(page_content='” He cautions us here not to pin our faith to abstract principles; “for, ” as Zhang Yu puts it, “while the main laws of strategy can be stated clearly enough for the benefit of all and sundry, you must be guided by the ac-tions of the enemy in attempting to secure a favorable position in actual warfare', metadata={'page': 136.0, 'source': '/content/art of war -Sant tuz.pdf'}), Document(page_content='CHAPTER 6\\nWeak Points And Strong\\n㐘መรୈ\\u0fe1\\n1. Zhang Yu attempts to explain the sequence of the chapters as fol-\\nlows: “Chapter IV , on Tactical Dispositions, treated of the offensive and the defensive; chapter V , on Energy, dealt with direct and indirect methods. The good general acquaints himself first with the theory of attack and defense, and then turns his attention to direct and indirect methods', metadata={'page': 161.0, 'source': '/content/art of war -Sant tuz.pdf'}), Document(page_content='CHAPTER 6\\nWeak Points And Strong\\n㐘መรୈ\\u0fe1\\n1. Zhang Yu attempts to explain the sequence of the chapters as fol-\\nlows: “Chapter IV , on Tactical Dispositions, treated of the offensive and the defensive; chapter V , on Energy, dealt with direct and indirect methods. The good general acquaints himself first with the theory of attack and defense, and then turns his attention to direct and indirect methods', metadata={'page': 161.0, 'source': '/content/art of war -Sant tuz.pdf'})], 'answer': 'The provided text does not mention anything about transformer architecture, so I cannot answer this question from the provided context.'}\n",
            "Ask a question about your PDF (or type 'quit' to exit): 2\n",
            "{'input': 'What are five ways of attacking with fire based on given text?', 'context': [Document(page_content='58 CHINESE TEXT AND ENGLISH TRANSLATION\\n5. In attacking with fire, one should be prepared to meet \\nfive possible developments:12\\n6. (1) When fire breaks out inside the enemy’s camp, re-\\nspond at once13 with an attack from without.\\n7. ɻ\\n8. ɻ\\n9. ᚙ೭ɻ\\n7. (2) If there is an outbreak of fire, but the enemy’s soldiers \\nremain quiet, bide your time and do not attack.14\\n8. (3) When force of the flames has reached its height, follow it \\nup with an attack, if that is practicable; if not, stay where you are', metadata={'page': 126.0, 'source': '/content/art of war -Sant tuz.pdf'}), Document(page_content='58 CHINESE TEXT AND ENGLISH TRANSLATION\\n5. In attacking with fire, one should be prepared to meet \\nfive possible developments:12\\n6. (1) When fire breaks out inside the enemy’s camp, re-\\nspond at once13 with an attack from without.\\n7. ɻ\\n8. ɻ\\n9. ᚙ೭ɻ\\n7. (2) If there is an outbreak of fire, but the enemy’s soldiers \\nremain quiet, bide your time and do not attack.14\\n8. (3) When force of the flames has reached its height, follow it \\nup with an attack, if that is practicable; if not, stay where you are', metadata={'page': 126.0, 'source': '/content/art of war -Sant tuz.pdf'}), Document(page_content='CHAPTER 12\\nThe Attack By Fire1\\nรୈेೋ\\n1. ᐌՐ\\u1aceɼ\\nᐌՐୂɻ \\x01\\n1. Sun Tzŭ said: There are five ways of attacking with fire. \\nThe first is to burn soldiers in their camp;2 the second is to burn \\nstores;3 the third is to burn baggage-trains;4 the fourth is to \\nburn arsenals and magazines;5 the fifth is to hurl dropping fire \\namongst the enemy.6\\n2. ɻ\\n3. Ր༗\\u0cd4ɻ\\n2. In order carry out an attack with fire, we must have \\nmeans available;7 the material for raising fire should always be \\nkept in readiness.8\\n3', metadata={'page': 125.0, 'source': '/content/art of war -Sant tuz.pdf'}), Document(page_content='CHAPTER 12\\nThe Attack By Fire1\\nรୈेೋ\\n1. ᐌՐ\\u1aceɼ\\nᐌՐୂɻ \\x01\\n1. Sun Tzŭ said: There are five ways of attacking with fire. \\nThe first is to burn soldiers in their camp;2 the second is to burn \\nstores;3 the third is to burn baggage-trains;4 the fourth is to \\nburn arsenals and magazines;5 the fifth is to hurl dropping fire \\namongst the enemy.6\\n2. ɻ\\n3. Ր༗\\u0cd4ɻ\\n2. In order carry out an attack with fire, we must have \\nmeans available;7 the material for raising fire should always be \\nkept in readiness.8\\n3', metadata={'page': 125.0, 'source': '/content/art of war -Sant tuz.pdf'})], 'answer': ''}\n"
          ]
        },
        {
          "ename": "KeyboardInterrupt",
          "evalue": "Interrupted by user",
          "output_type": "error",
          "traceback": [
            "\u001b[0;31m---------------------------------------------------------------------------\u001b[0m",
            "\u001b[0;31mKeyboardInterrupt\u001b[0m                         Traceback (most recent call last)",
            "\u001b[0;32m<ipython-input-107-c7b012046ac7>\u001b[0m in \u001b[0;36m<cell line: 29>\u001b[0;34m()\u001b[0m\n\u001b[1;32m     28\u001b[0m \u001b[0;31m# Chat loop\u001b[0m\u001b[0;34m\u001b[0m\u001b[0;34m\u001b[0m\u001b[0m\n\u001b[1;32m     29\u001b[0m \u001b[0;32mwhile\u001b[0m \u001b[0;32mTrue\u001b[0m\u001b[0;34m:\u001b[0m\u001b[0;34m\u001b[0m\u001b[0;34m\u001b[0m\u001b[0m\n\u001b[0;32m---> 30\u001b[0;31m     \u001b[0mquery\u001b[0m \u001b[0;34m=\u001b[0m \u001b[0minput\u001b[0m\u001b[0;34m(\u001b[0m\u001b[0;34m\"Ask a question about your PDF (or type 'quit' to exit): \"\u001b[0m\u001b[0;34m)\u001b[0m\u001b[0;34m\u001b[0m\u001b[0;34m\u001b[0m\u001b[0m\n\u001b[0m\u001b[1;32m     31\u001b[0m     \u001b[0;32mif\u001b[0m \u001b[0mquery\u001b[0m\u001b[0;34m.\u001b[0m\u001b[0mlower\u001b[0m\u001b[0;34m(\u001b[0m\u001b[0;34m)\u001b[0m \u001b[0;34m==\u001b[0m \u001b[0;34m'quit'\u001b[0m \u001b[0;32mor\u001b[0m \u001b[0mquery\u001b[0m\u001b[0;34m.\u001b[0m\u001b[0mlower\u001b[0m\u001b[0;34m(\u001b[0m\u001b[0;34m)\u001b[0m \u001b[0;34m==\u001b[0m \u001b[0;34m'q'\u001b[0m\u001b[0;34m:\u001b[0m\u001b[0;34m\u001b[0m\u001b[0;34m\u001b[0m\u001b[0m\n\u001b[1;32m     32\u001b[0m         \u001b[0;32mbreak\u001b[0m\u001b[0;34m\u001b[0m\u001b[0;34m\u001b[0m\u001b[0m\n",
            "\u001b[0;32m/usr/local/lib/python3.10/dist-packages/ipykernel/kernelbase.py\u001b[0m in \u001b[0;36mraw_input\u001b[0;34m(self, prompt)\u001b[0m\n\u001b[1;32m    849\u001b[0m                 \u001b[0;34m\"raw_input was called, but this frontend does not support input requests.\"\u001b[0m\u001b[0;34m\u001b[0m\u001b[0;34m\u001b[0m\u001b[0m\n\u001b[1;32m    850\u001b[0m             )\n\u001b[0;32m--> 851\u001b[0;31m         return self._input_request(str(prompt),\n\u001b[0m\u001b[1;32m    852\u001b[0m             \u001b[0mself\u001b[0m\u001b[0;34m.\u001b[0m\u001b[0m_parent_ident\u001b[0m\u001b[0;34m,\u001b[0m\u001b[0;34m\u001b[0m\u001b[0;34m\u001b[0m\u001b[0m\n\u001b[1;32m    853\u001b[0m             \u001b[0mself\u001b[0m\u001b[0;34m.\u001b[0m\u001b[0m_parent_header\u001b[0m\u001b[0;34m,\u001b[0m\u001b[0;34m\u001b[0m\u001b[0;34m\u001b[0m\u001b[0m\n",
            "\u001b[0;32m/usr/local/lib/python3.10/dist-packages/ipykernel/kernelbase.py\u001b[0m in \u001b[0;36m_input_request\u001b[0;34m(self, prompt, ident, parent, password)\u001b[0m\n\u001b[1;32m    893\u001b[0m             \u001b[0;32mexcept\u001b[0m \u001b[0mKeyboardInterrupt\u001b[0m\u001b[0;34m:\u001b[0m\u001b[0;34m\u001b[0m\u001b[0;34m\u001b[0m\u001b[0m\n\u001b[1;32m    894\u001b[0m                 \u001b[0;31m# re-raise KeyboardInterrupt, to truncate traceback\u001b[0m\u001b[0;34m\u001b[0m\u001b[0;34m\u001b[0m\u001b[0m\n\u001b[0;32m--> 895\u001b[0;31m                 \u001b[0;32mraise\u001b[0m \u001b[0mKeyboardInterrupt\u001b[0m\u001b[0;34m(\u001b[0m\u001b[0;34m\"Interrupted by user\"\u001b[0m\u001b[0;34m)\u001b[0m \u001b[0;32mfrom\u001b[0m \u001b[0;32mNone\u001b[0m\u001b[0;34m\u001b[0m\u001b[0;34m\u001b[0m\u001b[0m\n\u001b[0m\u001b[1;32m    896\u001b[0m             \u001b[0;32mexcept\u001b[0m \u001b[0mException\u001b[0m \u001b[0;32mas\u001b[0m \u001b[0me\u001b[0m\u001b[0;34m:\u001b[0m\u001b[0;34m\u001b[0m\u001b[0;34m\u001b[0m\u001b[0m\n\u001b[1;32m    897\u001b[0m                 \u001b[0mself\u001b[0m\u001b[0;34m.\u001b[0m\u001b[0mlog\u001b[0m\u001b[0;34m.\u001b[0m\u001b[0mwarning\u001b[0m\u001b[0;34m(\u001b[0m\u001b[0;34m\"Invalid Message:\"\u001b[0m\u001b[0;34m,\u001b[0m \u001b[0mexc_info\u001b[0m\u001b[0;34m=\u001b[0m\u001b[0;32mTrue\u001b[0m\u001b[0;34m)\u001b[0m\u001b[0;34m\u001b[0m\u001b[0;34m\u001b[0m\u001b[0m\n",
            "\u001b[0;31mKeyboardInterrupt\u001b[0m: Interrupted by user"
          ]
        }
      ],
      "source": [
        "from langchain_pinecone import PineconeVectorStore\n",
        "text_field = \"text\"\n",
        "index_name='pdf-index'\n",
        "\n",
        "vectorstore = PineconeVectorStore(index_name=index_name, embedding=embeddings, pinecone_api_key=userdata.get('PINECONE_API_KEY'), namespace='art-of-war')\n",
        "# vectorstore = PineconeVectorStore(index_name=index_name, embedding=embeddings, pinecone_api_key=userdata.get('PINECONE_API_KEY'), namespace=\"https://arxiv.org/pdf/1706.03762\")\n",
        "retriever = vectorstore.as_retriever()\n",
        "# vectorstore.similarity_search_with_score(query1, k=5)\n",
        "\n",
        "#Configure Chroma as a retriever with top_k=5\n",
        "# retriever = vectorstore.as_retriever()\n",
        "# retriever = vectorstore.as_retriever(namespace=\"https://arxiv.org/pdf/1706.03762\")\n",
        "# retriever = vectorstore.as_retriever(namespace=\"art-of-war\")\n",
        "\n",
        "#Create the retrieval chain\n",
        "template = \"\"\"\n",
        "You are a helpful AI assistant.\n",
        "Answer based on the context provided.\n",
        "context: {context}\n",
        "input: {input}\n",
        "answer:\n",
        "\"\"\"\n",
        "prompt = PromptTemplate.from_template(template)\n",
        "combine_docs_chain = create_stuff_documents_chain(llm, prompt)\n",
        "retrieval_chain = create_retrieval_chain(retriever, combine_docs_chain)\n",
        "query3 =  \"what does the text talks about? also what does it tells about five ways of attacking with fire?\"\n",
        "\n",
        "# Chat loop\n",
        "while True:\n",
        "    query = input(\"Ask a question about your PDF (or type 'quit' to exit): \")\n",
        "    if query.lower() == 'quit' or query.lower() == 'q':\n",
        "        break\n",
        "    elif query=='1':\n",
        "        query = query1\n",
        "    elif query=='2':\n",
        "        query = query2\n",
        "    elif query=='3':\n",
        "        query = query2\n",
        "    #Invoke the retrieval chain\n",
        "    response=retrieval_chain.invoke({\"input\":query})  # what is attention mechanism?\n",
        "    # Print the answer to the question\n",
        "    # print(response[\"answer\"])\n",
        "    print(response)\n",
        "\n",
        "\n",
        "\n",
        "# from langchain.chains import RetrievalQA\n",
        "# # completion llm\n",
        "\n",
        "# qa = RetrievalQA.from_chain_type(\n",
        "#     llm=llm,\n",
        "#     chain_type=\"stuff\",\n",
        "#     retriever=vectorstore.as_retriever()\n",
        "# )\n",
        "# qa.run(query1)\n"
      ]
    },
    {
      "cell_type": "code",
      "execution_count": 108,
      "metadata": {
        "colab": {
          "base_uri": "https://localhost:8080/"
        },
        "id": "dWlCc8ZXF6t_",
        "outputId": "d0d9bb5b-297e-4a53-e28e-bb18765f5a99"
      },
      "outputs": [
        {
          "data": {
            "text/plain": []
          },
          "execution_count": 108,
          "metadata": {},
          "output_type": "execute_result"
        }
      ],
      "source": [
        "# pip install pinecone-client[grpc]\n",
        "from pinecone.grpc import PineconeGRPC as Pinecone\n",
        "\n",
        "pc = Pinecone(api_key=userdata.get('PINECONE_API_KEY'))\n",
        "index = pc.Index(\"pdf-index\")\n",
        "\n",
        "# index.delete(ids=[\"id-1\", \"id-2\"], namespace='example-namespace')\n",
        "# delete all\n",
        "index.delete(delete_all=True, namespace=\"https://arxiv.org/pdf/1706.03762\")\n",
        "index.delete(delete_all=True, namespace=\"art-of-war\")"
      ]
    }
  ],
  "metadata": {
    "colab": {
      "provenance": []
    },
    "kernelspec": {
      "display_name": "Python 3",
      "name": "python3"
    },
    "language_info": {
      "name": "python"
    },
    "widgets": {
      "application/vnd.jupyter.widget-state+json": {
        "04ef8fb0d5c4477daaa445d1f9bdc4a8": {
          "model_module": "@jupyter-widgets/controls",
          "model_module_version": "1.5.0",
          "model_name": "HTMLModel",
          "state": {
            "_dom_classes": [],
            "_model_module": "@jupyter-widgets/controls",
            "_model_module_version": "1.5.0",
            "_model_name": "HTMLModel",
            "_view_count": null,
            "_view_module": "@jupyter-widgets/controls",
            "_view_module_version": "1.5.0",
            "_view_name": "HTMLView",
            "description": "",
            "description_tooltip": null,
            "layout": "IPY_MODEL_ef5764ef8b694af29bc4896e89c2f717",
            "placeholder": "​",
            "style": "IPY_MODEL_5529af23e82e4c5fbc1af250e12d43e4",
            "value": "config_sentence_transformers.json: 100%"
          }
        },
        "068d43d9eaf84d48b238eb9a84642707": {
          "model_module": "@jupyter-widgets/controls",
          "model_module_version": "1.5.0",
          "model_name": "HBoxModel",
          "state": {
            "_dom_classes": [],
            "_model_module": "@jupyter-widgets/controls",
            "_model_module_version": "1.5.0",
            "_model_name": "HBoxModel",
            "_view_count": null,
            "_view_module": "@jupyter-widgets/controls",
            "_view_module_version": "1.5.0",
            "_view_name": "HBoxView",
            "box_style": "",
            "children": [
              "IPY_MODEL_2341d9e4e4684f55b4e24e89a7b809eb",
              "IPY_MODEL_a5785008079c4f2b8c90af1ff8666ea0",
              "IPY_MODEL_a75a04c5f7634ea1882ffd46a953ed89"
            ],
            "layout": "IPY_MODEL_1c6830434bd64d768642f2e42e8bc6f7"
          }
        },
        "0ff5550f94644b4a9845cbfbf1abdc73": {
          "model_module": "@jupyter-widgets/controls",
          "model_module_version": "1.5.0",
          "model_name": "HTMLModel",
          "state": {
            "_dom_classes": [],
            "_model_module": "@jupyter-widgets/controls",
            "_model_module_version": "1.5.0",
            "_model_name": "HTMLModel",
            "_view_count": null,
            "_view_module": "@jupyter-widgets/controls",
            "_view_module_version": "1.5.0",
            "_view_name": "HTMLView",
            "description": "",
            "description_tooltip": null,
            "layout": "IPY_MODEL_3f9c18452fe141e6b997043054ae4fc5",
            "placeholder": "​",
            "style": "IPY_MODEL_8f19fc8d086645d284f84ffd67bcb07f",
            "value": "1_Pooling/config.json: 100%"
          }
        },
        "10eff86d892741e0b661e149d14eb3d8": {
          "model_module": "@jupyter-widgets/base",
          "model_module_version": "1.2.0",
          "model_name": "LayoutModel",
          "state": {
            "_model_module": "@jupyter-widgets/base",
            "_model_module_version": "1.2.0",
            "_model_name": "LayoutModel",
            "_view_count": null,
            "_view_module": "@jupyter-widgets/base",
            "_view_module_version": "1.2.0",
            "_view_name": "LayoutView",
            "align_content": null,
            "align_items": null,
            "align_self": null,
            "border": null,
            "bottom": null,
            "display": null,
            "flex": null,
            "flex_flow": null,
            "grid_area": null,
            "grid_auto_columns": null,
            "grid_auto_flow": null,
            "grid_auto_rows": null,
            "grid_column": null,
            "grid_gap": null,
            "grid_row": null,
            "grid_template_areas": null,
            "grid_template_columns": null,
            "grid_template_rows": null,
            "height": null,
            "justify_content": null,
            "justify_items": null,
            "left": null,
            "margin": null,
            "max_height": null,
            "max_width": null,
            "min_height": null,
            "min_width": null,
            "object_fit": null,
            "object_position": null,
            "order": null,
            "overflow": null,
            "overflow_x": null,
            "overflow_y": null,
            "padding": null,
            "right": null,
            "top": null,
            "visibility": null,
            "width": null
          }
        },
        "13b662f1a2de44a6a4ddd9ee33a8fd63": {
          "model_module": "@jupyter-widgets/controls",
          "model_module_version": "1.5.0",
          "model_name": "DescriptionStyleModel",
          "state": {
            "_model_module": "@jupyter-widgets/controls",
            "_model_module_version": "1.5.0",
            "_model_name": "DescriptionStyleModel",
            "_view_count": null,
            "_view_module": "@jupyter-widgets/base",
            "_view_module_version": "1.2.0",
            "_view_name": "StyleView",
            "description_width": ""
          }
        },
        "13cff46a290345d9bb69e60ee31660bf": {
          "model_module": "@jupyter-widgets/base",
          "model_module_version": "1.2.0",
          "model_name": "LayoutModel",
          "state": {
            "_model_module": "@jupyter-widgets/base",
            "_model_module_version": "1.2.0",
            "_model_name": "LayoutModel",
            "_view_count": null,
            "_view_module": "@jupyter-widgets/base",
            "_view_module_version": "1.2.0",
            "_view_name": "LayoutView",
            "align_content": null,
            "align_items": null,
            "align_self": null,
            "border": null,
            "bottom": null,
            "display": null,
            "flex": null,
            "flex_flow": null,
            "grid_area": null,
            "grid_auto_columns": null,
            "grid_auto_flow": null,
            "grid_auto_rows": null,
            "grid_column": null,
            "grid_gap": null,
            "grid_row": null,
            "grid_template_areas": null,
            "grid_template_columns": null,
            "grid_template_rows": null,
            "height": null,
            "justify_content": null,
            "justify_items": null,
            "left": null,
            "margin": null,
            "max_height": null,
            "max_width": null,
            "min_height": null,
            "min_width": null,
            "object_fit": null,
            "object_position": null,
            "order": null,
            "overflow": null,
            "overflow_x": null,
            "overflow_y": null,
            "padding": null,
            "right": null,
            "top": null,
            "visibility": null,
            "width": null
          }
        },
        "13e8f093262e4d9abb8d04e0d9754291": {
          "model_module": "@jupyter-widgets/base",
          "model_module_version": "1.2.0",
          "model_name": "LayoutModel",
          "state": {
            "_model_module": "@jupyter-widgets/base",
            "_model_module_version": "1.2.0",
            "_model_name": "LayoutModel",
            "_view_count": null,
            "_view_module": "@jupyter-widgets/base",
            "_view_module_version": "1.2.0",
            "_view_name": "LayoutView",
            "align_content": null,
            "align_items": null,
            "align_self": null,
            "border": null,
            "bottom": null,
            "display": null,
            "flex": null,
            "flex_flow": null,
            "grid_area": null,
            "grid_auto_columns": null,
            "grid_auto_flow": null,
            "grid_auto_rows": null,
            "grid_column": null,
            "grid_gap": null,
            "grid_row": null,
            "grid_template_areas": null,
            "grid_template_columns": null,
            "grid_template_rows": null,
            "height": null,
            "justify_content": null,
            "justify_items": null,
            "left": null,
            "margin": null,
            "max_height": null,
            "max_width": null,
            "min_height": null,
            "min_width": null,
            "object_fit": null,
            "object_position": null,
            "order": null,
            "overflow": null,
            "overflow_x": null,
            "overflow_y": null,
            "padding": null,
            "right": null,
            "top": null,
            "visibility": null,
            "width": null
          }
        },
        "184b8916aedb423e9e63a18698fc6339": {
          "model_module": "@jupyter-widgets/controls",
          "model_module_version": "1.5.0",
          "model_name": "FloatProgressModel",
          "state": {
            "_dom_classes": [],
            "_model_module": "@jupyter-widgets/controls",
            "_model_module_version": "1.5.0",
            "_model_name": "FloatProgressModel",
            "_view_count": null,
            "_view_module": "@jupyter-widgets/controls",
            "_view_module_version": "1.5.0",
            "_view_name": "ProgressView",
            "bar_style": "success",
            "description": "",
            "description_tooltip": null,
            "layout": "IPY_MODEL_a9289eebcac446b18f3a4827284c9dc1",
            "max": 363,
            "min": 0,
            "orientation": "horizontal",
            "style": "IPY_MODEL_2bef34011c0a4bf09247f39b045d228c",
            "value": 363
          }
        },
        "18feb0f00bd54e499fe42cb8fd3b7a1b": {
          "model_module": "@jupyter-widgets/base",
          "model_module_version": "1.2.0",
          "model_name": "LayoutModel",
          "state": {
            "_model_module": "@jupyter-widgets/base",
            "_model_module_version": "1.2.0",
            "_model_name": "LayoutModel",
            "_view_count": null,
            "_view_module": "@jupyter-widgets/base",
            "_view_module_version": "1.2.0",
            "_view_name": "LayoutView",
            "align_content": null,
            "align_items": null,
            "align_self": null,
            "border": null,
            "bottom": null,
            "display": null,
            "flex": null,
            "flex_flow": null,
            "grid_area": null,
            "grid_auto_columns": null,
            "grid_auto_flow": null,
            "grid_auto_rows": null,
            "grid_column": null,
            "grid_gap": null,
            "grid_row": null,
            "grid_template_areas": null,
            "grid_template_columns": null,
            "grid_template_rows": null,
            "height": null,
            "justify_content": null,
            "justify_items": null,
            "left": null,
            "margin": null,
            "max_height": null,
            "max_width": null,
            "min_height": null,
            "min_width": null,
            "object_fit": null,
            "object_position": null,
            "order": null,
            "overflow": null,
            "overflow_x": null,
            "overflow_y": null,
            "padding": null,
            "right": null,
            "top": null,
            "visibility": null,
            "width": null
          }
        },
        "1c6830434bd64d768642f2e42e8bc6f7": {
          "model_module": "@jupyter-widgets/base",
          "model_module_version": "1.2.0",
          "model_name": "LayoutModel",
          "state": {
            "_model_module": "@jupyter-widgets/base",
            "_model_module_version": "1.2.0",
            "_model_name": "LayoutModel",
            "_view_count": null,
            "_view_module": "@jupyter-widgets/base",
            "_view_module_version": "1.2.0",
            "_view_name": "LayoutView",
            "align_content": null,
            "align_items": null,
            "align_self": null,
            "border": null,
            "bottom": null,
            "display": null,
            "flex": null,
            "flex_flow": null,
            "grid_area": null,
            "grid_auto_columns": null,
            "grid_auto_flow": null,
            "grid_auto_rows": null,
            "grid_column": null,
            "grid_gap": null,
            "grid_row": null,
            "grid_template_areas": null,
            "grid_template_columns": null,
            "grid_template_rows": null,
            "height": null,
            "justify_content": null,
            "justify_items": null,
            "left": null,
            "margin": null,
            "max_height": null,
            "max_width": null,
            "min_height": null,
            "min_width": null,
            "object_fit": null,
            "object_position": null,
            "order": null,
            "overflow": null,
            "overflow_x": null,
            "overflow_y": null,
            "padding": null,
            "right": null,
            "top": null,
            "visibility": null,
            "width": null
          }
        },
        "1deeb280276f4020a39c35a9e8851671": {
          "model_module": "@jupyter-widgets/base",
          "model_module_version": "1.2.0",
          "model_name": "LayoutModel",
          "state": {
            "_model_module": "@jupyter-widgets/base",
            "_model_module_version": "1.2.0",
            "_model_name": "LayoutModel",
            "_view_count": null,
            "_view_module": "@jupyter-widgets/base",
            "_view_module_version": "1.2.0",
            "_view_name": "LayoutView",
            "align_content": null,
            "align_items": null,
            "align_self": null,
            "border": null,
            "bottom": null,
            "display": null,
            "flex": null,
            "flex_flow": null,
            "grid_area": null,
            "grid_auto_columns": null,
            "grid_auto_flow": null,
            "grid_auto_rows": null,
            "grid_column": null,
            "grid_gap": null,
            "grid_row": null,
            "grid_template_areas": null,
            "grid_template_columns": null,
            "grid_template_rows": null,
            "height": null,
            "justify_content": null,
            "justify_items": null,
            "left": null,
            "margin": null,
            "max_height": null,
            "max_width": null,
            "min_height": null,
            "min_width": null,
            "object_fit": null,
            "object_position": null,
            "order": null,
            "overflow": null,
            "overflow_x": null,
            "overflow_y": null,
            "padding": null,
            "right": null,
            "top": null,
            "visibility": null,
            "width": null
          }
        },
        "2098531cde27408795065d83b51dd547": {
          "model_module": "@jupyter-widgets/controls",
          "model_module_version": "1.5.0",
          "model_name": "HTMLModel",
          "state": {
            "_dom_classes": [],
            "_model_module": "@jupyter-widgets/controls",
            "_model_module_version": "1.5.0",
            "_model_name": "HTMLModel",
            "_view_count": null,
            "_view_module": "@jupyter-widgets/controls",
            "_view_module_version": "1.5.0",
            "_view_name": "HTMLView",
            "description": "",
            "description_tooltip": null,
            "layout": "IPY_MODEL_25516b0183bb42bab5c7e5b6680649d0",
            "placeholder": "​",
            "style": "IPY_MODEL_d74e417ad9ad4acc9c374e5f35fc8fb0",
            "value": " 363/363 [00:00&lt;00:00, 9.50kB/s]"
          }
        },
        "21b938337e394ea2b50bb6afd3566836": {
          "model_module": "@jupyter-widgets/controls",
          "model_module_version": "1.5.0",
          "model_name": "HBoxModel",
          "state": {
            "_dom_classes": [],
            "_model_module": "@jupyter-widgets/controls",
            "_model_module_version": "1.5.0",
            "_model_name": "HBoxModel",
            "_view_count": null,
            "_view_module": "@jupyter-widgets/controls",
            "_view_module_version": "1.5.0",
            "_view_name": "HBoxView",
            "box_style": "",
            "children": [
              "IPY_MODEL_3458fb8b2675469c8c6001e8e2b46bb2",
              "IPY_MODEL_527a98202538441181e47961dd7ceeb4",
              "IPY_MODEL_5af8c8b1d1ce40dbb720d9e1930cd800"
            ],
            "layout": "IPY_MODEL_50393354a61e45a7a8508c1174eb652a"
          }
        },
        "2341d9e4e4684f55b4e24e89a7b809eb": {
          "model_module": "@jupyter-widgets/controls",
          "model_module_version": "1.5.0",
          "model_name": "HTMLModel",
          "state": {
            "_dom_classes": [],
            "_model_module": "@jupyter-widgets/controls",
            "_model_module_version": "1.5.0",
            "_model_name": "HTMLModel",
            "_view_count": null,
            "_view_module": "@jupyter-widgets/controls",
            "_view_module_version": "1.5.0",
            "_view_name": "HTMLView",
            "description": "",
            "description_tooltip": null,
            "layout": "IPY_MODEL_6e921d5261724df19d1e97ddb0bcc234",
            "placeholder": "​",
            "style": "IPY_MODEL_ccbb06d373364745a9dd661b80440f75",
            "value": "modules.json: 100%"
          }
        },
        "245bce30bf5a47579c84c81eca6c1d62": {
          "model_module": "@jupyter-widgets/controls",
          "model_module_version": "1.5.0",
          "model_name": "FloatProgressModel",
          "state": {
            "_dom_classes": [],
            "_model_module": "@jupyter-widgets/controls",
            "_model_module_version": "1.5.0",
            "_model_name": "FloatProgressModel",
            "_view_count": null,
            "_view_module": "@jupyter-widgets/controls",
            "_view_module_version": "1.5.0",
            "_view_name": "ProgressView",
            "bar_style": "success",
            "description": "",
            "description_tooltip": null,
            "layout": "IPY_MODEL_8dcb6e658f9140e3943327380c4d38da",
            "max": 571,
            "min": 0,
            "orientation": "horizontal",
            "style": "IPY_MODEL_bb7dc061efbe4efd87cabc67b07b477c",
            "value": 571
          }
        },
        "25516b0183bb42bab5c7e5b6680649d0": {
          "model_module": "@jupyter-widgets/base",
          "model_module_version": "1.2.0",
          "model_name": "LayoutModel",
          "state": {
            "_model_module": "@jupyter-widgets/base",
            "_model_module_version": "1.2.0",
            "_model_name": "LayoutModel",
            "_view_count": null,
            "_view_module": "@jupyter-widgets/base",
            "_view_module_version": "1.2.0",
            "_view_name": "LayoutView",
            "align_content": null,
            "align_items": null,
            "align_self": null,
            "border": null,
            "bottom": null,
            "display": null,
            "flex": null,
            "flex_flow": null,
            "grid_area": null,
            "grid_auto_columns": null,
            "grid_auto_flow": null,
            "grid_auto_rows": null,
            "grid_column": null,
            "grid_gap": null,
            "grid_row": null,
            "grid_template_areas": null,
            "grid_template_columns": null,
            "grid_template_rows": null,
            "height": null,
            "justify_content": null,
            "justify_items": null,
            "left": null,
            "margin": null,
            "max_height": null,
            "max_width": null,
            "min_height": null,
            "min_width": null,
            "object_fit": null,
            "object_position": null,
            "order": null,
            "overflow": null,
            "overflow_x": null,
            "overflow_y": null,
            "padding": null,
            "right": null,
            "top": null,
            "visibility": null,
            "width": null
          }
        },
        "29e9abc374f9439788053a7cee76473a": {
          "model_module": "@jupyter-widgets/controls",
          "model_module_version": "1.5.0",
          "model_name": "HTMLModel",
          "state": {
            "_dom_classes": [],
            "_model_module": "@jupyter-widgets/controls",
            "_model_module_version": "1.5.0",
            "_model_name": "HTMLModel",
            "_view_count": null,
            "_view_module": "@jupyter-widgets/controls",
            "_view_module_version": "1.5.0",
            "_view_name": "HTMLView",
            "description": "",
            "description_tooltip": null,
            "layout": "IPY_MODEL_b131f641c21d49f7a6d0b38efe6f09e9",
            "placeholder": "​",
            "style": "IPY_MODEL_c903f217942541c68311a9514de084c0",
            "value": "README.md: 100%"
          }
        },
        "2b363f846dfe4dbc963acc163f4472d4": {
          "model_module": "@jupyter-widgets/controls",
          "model_module_version": "1.5.0",
          "model_name": "DescriptionStyleModel",
          "state": {
            "_model_module": "@jupyter-widgets/controls",
            "_model_module_version": "1.5.0",
            "_model_name": "DescriptionStyleModel",
            "_view_count": null,
            "_view_module": "@jupyter-widgets/base",
            "_view_module_version": "1.2.0",
            "_view_name": "StyleView",
            "description_width": ""
          }
        },
        "2be7b1bd67814fb484f9ec976958ae8a": {
          "model_module": "@jupyter-widgets/controls",
          "model_module_version": "1.5.0",
          "model_name": "DescriptionStyleModel",
          "state": {
            "_model_module": "@jupyter-widgets/controls",
            "_model_module_version": "1.5.0",
            "_model_name": "DescriptionStyleModel",
            "_view_count": null,
            "_view_module": "@jupyter-widgets/base",
            "_view_module_version": "1.2.0",
            "_view_name": "StyleView",
            "description_width": ""
          }
        },
        "2bef34011c0a4bf09247f39b045d228c": {
          "model_module": "@jupyter-widgets/controls",
          "model_module_version": "1.5.0",
          "model_name": "ProgressStyleModel",
          "state": {
            "_model_module": "@jupyter-widgets/controls",
            "_model_module_version": "1.5.0",
            "_model_name": "ProgressStyleModel",
            "_view_count": null,
            "_view_module": "@jupyter-widgets/base",
            "_view_module_version": "1.2.0",
            "_view_name": "StyleView",
            "bar_color": null,
            "description_width": ""
          }
        },
        "2dad084df0c74a7396aefc5ecb91a527": {
          "model_module": "@jupyter-widgets/base",
          "model_module_version": "1.2.0",
          "model_name": "LayoutModel",
          "state": {
            "_model_module": "@jupyter-widgets/base",
            "_model_module_version": "1.2.0",
            "_model_name": "LayoutModel",
            "_view_count": null,
            "_view_module": "@jupyter-widgets/base",
            "_view_module_version": "1.2.0",
            "_view_name": "LayoutView",
            "align_content": null,
            "align_items": null,
            "align_self": null,
            "border": null,
            "bottom": null,
            "display": null,
            "flex": null,
            "flex_flow": null,
            "grid_area": null,
            "grid_auto_columns": null,
            "grid_auto_flow": null,
            "grid_auto_rows": null,
            "grid_column": null,
            "grid_gap": null,
            "grid_row": null,
            "grid_template_areas": null,
            "grid_template_columns": null,
            "grid_template_rows": null,
            "height": null,
            "justify_content": null,
            "justify_items": null,
            "left": null,
            "margin": null,
            "max_height": null,
            "max_width": null,
            "min_height": null,
            "min_width": null,
            "object_fit": null,
            "object_position": null,
            "order": null,
            "overflow": null,
            "overflow_x": null,
            "overflow_y": null,
            "padding": null,
            "right": null,
            "top": null,
            "visibility": null,
            "width": null
          }
        },
        "33b56dbc866e4b9ab1959341f20aa3e5": {
          "model_module": "@jupyter-widgets/controls",
          "model_module_version": "1.5.0",
          "model_name": "HTMLModel",
          "state": {
            "_dom_classes": [],
            "_model_module": "@jupyter-widgets/controls",
            "_model_module_version": "1.5.0",
            "_model_name": "HTMLModel",
            "_view_count": null,
            "_view_module": "@jupyter-widgets/controls",
            "_view_module_version": "1.5.0",
            "_view_name": "HTMLView",
            "description": "",
            "description_tooltip": null,
            "layout": "IPY_MODEL_85e667a7b9db41aaaa20288f83239e0f",
            "placeholder": "​",
            "style": "IPY_MODEL_a5a0810cba7445adba41547f5a25747a",
            "value": " 239/239 [00:00&lt;00:00, 6.44kB/s]"
          }
        },
        "3458fb8b2675469c8c6001e8e2b46bb2": {
          "model_module": "@jupyter-widgets/controls",
          "model_module_version": "1.5.0",
          "model_name": "HTMLModel",
          "state": {
            "_dom_classes": [],
            "_model_module": "@jupyter-widgets/controls",
            "_model_module_version": "1.5.0",
            "_model_name": "HTMLModel",
            "_view_count": null,
            "_view_module": "@jupyter-widgets/controls",
            "_view_module_version": "1.5.0",
            "_view_name": "HTMLView",
            "description": "",
            "description_tooltip": null,
            "layout": "IPY_MODEL_83897523e9ee4ea38308b1183b3afbc0",
            "placeholder": "​",
            "style": "IPY_MODEL_f0b051baf9964ab99ea82dea0f0dd4f8",
            "value": "tokenizer.json: 100%"
          }
        },
        "34af75d5000743eaae651d2c966d9ffb": {
          "model_module": "@jupyter-widgets/base",
          "model_module_version": "1.2.0",
          "model_name": "LayoutModel",
          "state": {
            "_model_module": "@jupyter-widgets/base",
            "_model_module_version": "1.2.0",
            "_model_name": "LayoutModel",
            "_view_count": null,
            "_view_module": "@jupyter-widgets/base",
            "_view_module_version": "1.2.0",
            "_view_name": "LayoutView",
            "align_content": null,
            "align_items": null,
            "align_self": null,
            "border": null,
            "bottom": null,
            "display": null,
            "flex": null,
            "flex_flow": null,
            "grid_area": null,
            "grid_auto_columns": null,
            "grid_auto_flow": null,
            "grid_auto_rows": null,
            "grid_column": null,
            "grid_gap": null,
            "grid_row": null,
            "grid_template_areas": null,
            "grid_template_columns": null,
            "grid_template_rows": null,
            "height": null,
            "justify_content": null,
            "justify_items": null,
            "left": null,
            "margin": null,
            "max_height": null,
            "max_width": null,
            "min_height": null,
            "min_width": null,
            "object_fit": null,
            "object_position": null,
            "order": null,
            "overflow": null,
            "overflow_x": null,
            "overflow_y": null,
            "padding": null,
            "right": null,
            "top": null,
            "visibility": null,
            "width": null
          }
        },
        "383f949f45984752b0f023cacf22efaf": {
          "model_module": "@jupyter-widgets/controls",
          "model_module_version": "1.5.0",
          "model_name": "HTMLModel",
          "state": {
            "_dom_classes": [],
            "_model_module": "@jupyter-widgets/controls",
            "_model_module_version": "1.5.0",
            "_model_name": "HTMLModel",
            "_view_count": null,
            "_view_module": "@jupyter-widgets/controls",
            "_view_module_version": "1.5.0",
            "_view_name": "HTMLView",
            "description": "",
            "description_tooltip": null,
            "layout": "IPY_MODEL_eb2fced7e58440fa97dd710c4cd42c3f",
            "placeholder": "​",
            "style": "IPY_MODEL_62b387ad26224f01851a97db9017ccbe",
            "value": "tokenizer_config.json: 100%"
          }
        },
        "38d7b87b21324fd39f23226d8895d43d": {
          "model_module": "@jupyter-widgets/controls",
          "model_module_version": "1.5.0",
          "model_name": "FloatProgressModel",
          "state": {
            "_dom_classes": [],
            "_model_module": "@jupyter-widgets/controls",
            "_model_module_version": "1.5.0",
            "_model_name": "FloatProgressModel",
            "_view_count": null,
            "_view_module": "@jupyter-widgets/controls",
            "_view_module_version": "1.5.0",
            "_view_name": "ProgressView",
            "bar_style": "success",
            "description": "",
            "description_tooltip": null,
            "layout": "IPY_MODEL_a794fb9528d34568a0d125864028baa0",
            "max": 116,
            "min": 0,
            "orientation": "horizontal",
            "style": "IPY_MODEL_7f1ac2ccaa78494a8937bbe1b4e99cbb",
            "value": 116
          }
        },
        "3f9c18452fe141e6b997043054ae4fc5": {
          "model_module": "@jupyter-widgets/base",
          "model_module_version": "1.2.0",
          "model_name": "LayoutModel",
          "state": {
            "_model_module": "@jupyter-widgets/base",
            "_model_module_version": "1.2.0",
            "_model_name": "LayoutModel",
            "_view_count": null,
            "_view_module": "@jupyter-widgets/base",
            "_view_module_version": "1.2.0",
            "_view_name": "LayoutView",
            "align_content": null,
            "align_items": null,
            "align_self": null,
            "border": null,
            "bottom": null,
            "display": null,
            "flex": null,
            "flex_flow": null,
            "grid_area": null,
            "grid_auto_columns": null,
            "grid_auto_flow": null,
            "grid_auto_rows": null,
            "grid_column": null,
            "grid_gap": null,
            "grid_row": null,
            "grid_template_areas": null,
            "grid_template_columns": null,
            "grid_template_rows": null,
            "height": null,
            "justify_content": null,
            "justify_items": null,
            "left": null,
            "margin": null,
            "max_height": null,
            "max_width": null,
            "min_height": null,
            "min_width": null,
            "object_fit": null,
            "object_position": null,
            "order": null,
            "overflow": null,
            "overflow_x": null,
            "overflow_y": null,
            "padding": null,
            "right": null,
            "top": null,
            "visibility": null,
            "width": null
          }
        },
        "3fbe7557b9674f879b5f28e97de87f73": {
          "model_module": "@jupyter-widgets/controls",
          "model_module_version": "1.5.0",
          "model_name": "HTMLModel",
          "state": {
            "_dom_classes": [],
            "_model_module": "@jupyter-widgets/controls",
            "_model_module_version": "1.5.0",
            "_model_name": "HTMLModel",
            "_view_count": null,
            "_view_module": "@jupyter-widgets/controls",
            "_view_module_version": "1.5.0",
            "_view_name": "HTMLView",
            "description": "",
            "description_tooltip": null,
            "layout": "IPY_MODEL_bf1ebbbf5a254573898175637eaa10f2",
            "placeholder": "​",
            "style": "IPY_MODEL_bd05fcab58c94abfbbe4973354d5d092",
            "value": " 232k/232k [00:00&lt;00:00, 9.67MB/s]"
          }
        },
        "42bae274c4a84f539d444164077ed60a": {
          "model_module": "@jupyter-widgets/base",
          "model_module_version": "1.2.0",
          "model_name": "LayoutModel",
          "state": {
            "_model_module": "@jupyter-widgets/base",
            "_model_module_version": "1.2.0",
            "_model_name": "LayoutModel",
            "_view_count": null,
            "_view_module": "@jupyter-widgets/base",
            "_view_module_version": "1.2.0",
            "_view_name": "LayoutView",
            "align_content": null,
            "align_items": null,
            "align_self": null,
            "border": null,
            "bottom": null,
            "display": null,
            "flex": null,
            "flex_flow": null,
            "grid_area": null,
            "grid_auto_columns": null,
            "grid_auto_flow": null,
            "grid_auto_rows": null,
            "grid_column": null,
            "grid_gap": null,
            "grid_row": null,
            "grid_template_areas": null,
            "grid_template_columns": null,
            "grid_template_rows": null,
            "height": null,
            "justify_content": null,
            "justify_items": null,
            "left": null,
            "margin": null,
            "max_height": null,
            "max_width": null,
            "min_height": null,
            "min_width": null,
            "object_fit": null,
            "object_position": null,
            "order": null,
            "overflow": null,
            "overflow_x": null,
            "overflow_y": null,
            "padding": null,
            "right": null,
            "top": null,
            "visibility": null,
            "width": null
          }
        },
        "453c2c1885974cbf81d30cdbdd0bbff5": {
          "model_module": "@jupyter-widgets/base",
          "model_module_version": "1.2.0",
          "model_name": "LayoutModel",
          "state": {
            "_model_module": "@jupyter-widgets/base",
            "_model_module_version": "1.2.0",
            "_model_name": "LayoutModel",
            "_view_count": null,
            "_view_module": "@jupyter-widgets/base",
            "_view_module_version": "1.2.0",
            "_view_name": "LayoutView",
            "align_content": null,
            "align_items": null,
            "align_self": null,
            "border": null,
            "bottom": null,
            "display": null,
            "flex": null,
            "flex_flow": null,
            "grid_area": null,
            "grid_auto_columns": null,
            "grid_auto_flow": null,
            "grid_auto_rows": null,
            "grid_column": null,
            "grid_gap": null,
            "grid_row": null,
            "grid_template_areas": null,
            "grid_template_columns": null,
            "grid_template_rows": null,
            "height": null,
            "justify_content": null,
            "justify_items": null,
            "left": null,
            "margin": null,
            "max_height": null,
            "max_width": null,
            "min_height": null,
            "min_width": null,
            "object_fit": null,
            "object_position": null,
            "order": null,
            "overflow": null,
            "overflow_x": null,
            "overflow_y": null,
            "padding": null,
            "right": null,
            "top": null,
            "visibility": null,
            "width": null
          }
        },
        "4dc569307f1e40f2b937712c14eb52da": {
          "model_module": "@jupyter-widgets/controls",
          "model_module_version": "1.5.0",
          "model_name": "ProgressStyleModel",
          "state": {
            "_model_module": "@jupyter-widgets/controls",
            "_model_module_version": "1.5.0",
            "_model_name": "ProgressStyleModel",
            "_view_count": null,
            "_view_module": "@jupyter-widgets/base",
            "_view_module_version": "1.2.0",
            "_view_name": "StyleView",
            "bar_color": null,
            "description_width": ""
          }
        },
        "4f57cb39207c4849a42f09cd24b4b43b": {
          "model_module": "@jupyter-widgets/base",
          "model_module_version": "1.2.0",
          "model_name": "LayoutModel",
          "state": {
            "_model_module": "@jupyter-widgets/base",
            "_model_module_version": "1.2.0",
            "_model_name": "LayoutModel",
            "_view_count": null,
            "_view_module": "@jupyter-widgets/base",
            "_view_module_version": "1.2.0",
            "_view_name": "LayoutView",
            "align_content": null,
            "align_items": null,
            "align_self": null,
            "border": null,
            "bottom": null,
            "display": null,
            "flex": null,
            "flex_flow": null,
            "grid_area": null,
            "grid_auto_columns": null,
            "grid_auto_flow": null,
            "grid_auto_rows": null,
            "grid_column": null,
            "grid_gap": null,
            "grid_row": null,
            "grid_template_areas": null,
            "grid_template_columns": null,
            "grid_template_rows": null,
            "height": null,
            "justify_content": null,
            "justify_items": null,
            "left": null,
            "margin": null,
            "max_height": null,
            "max_width": null,
            "min_height": null,
            "min_width": null,
            "object_fit": null,
            "object_position": null,
            "order": null,
            "overflow": null,
            "overflow_x": null,
            "overflow_y": null,
            "padding": null,
            "right": null,
            "top": null,
            "visibility": null,
            "width": null
          }
        },
        "4fb49ebe3ee94193aed64f26a5b08536": {
          "model_module": "@jupyter-widgets/controls",
          "model_module_version": "1.5.0",
          "model_name": "HTMLModel",
          "state": {
            "_dom_classes": [],
            "_model_module": "@jupyter-widgets/controls",
            "_model_module_version": "1.5.0",
            "_model_name": "HTMLModel",
            "_view_count": null,
            "_view_module": "@jupyter-widgets/controls",
            "_view_module_version": "1.5.0",
            "_view_name": "HTMLView",
            "description": "",
            "description_tooltip": null,
            "layout": "IPY_MODEL_c8fbdacb88e842d7a96a668db808800a",
            "placeholder": "​",
            "style": "IPY_MODEL_2b363f846dfe4dbc963acc163f4472d4",
            "value": "model.safetensors: 100%"
          }
        },
        "50393354a61e45a7a8508c1174eb652a": {
          "model_module": "@jupyter-widgets/base",
          "model_module_version": "1.2.0",
          "model_name": "LayoutModel",
          "state": {
            "_model_module": "@jupyter-widgets/base",
            "_model_module_version": "1.2.0",
            "_model_name": "LayoutModel",
            "_view_count": null,
            "_view_module": "@jupyter-widgets/base",
            "_view_module_version": "1.2.0",
            "_view_name": "LayoutView",
            "align_content": null,
            "align_items": null,
            "align_self": null,
            "border": null,
            "bottom": null,
            "display": null,
            "flex": null,
            "flex_flow": null,
            "grid_area": null,
            "grid_auto_columns": null,
            "grid_auto_flow": null,
            "grid_auto_rows": null,
            "grid_column": null,
            "grid_gap": null,
            "grid_row": null,
            "grid_template_areas": null,
            "grid_template_columns": null,
            "grid_template_rows": null,
            "height": null,
            "justify_content": null,
            "justify_items": null,
            "left": null,
            "margin": null,
            "max_height": null,
            "max_width": null,
            "min_height": null,
            "min_width": null,
            "object_fit": null,
            "object_position": null,
            "order": null,
            "overflow": null,
            "overflow_x": null,
            "overflow_y": null,
            "padding": null,
            "right": null,
            "top": null,
            "visibility": null,
            "width": null
          }
        },
        "5195395573914c50bef6dadae38b0568": {
          "model_module": "@jupyter-widgets/controls",
          "model_module_version": "1.5.0",
          "model_name": "DescriptionStyleModel",
          "state": {
            "_model_module": "@jupyter-widgets/controls",
            "_model_module_version": "1.5.0",
            "_model_name": "DescriptionStyleModel",
            "_view_count": null,
            "_view_module": "@jupyter-widgets/base",
            "_view_module_version": "1.2.0",
            "_view_name": "StyleView",
            "description_width": ""
          }
        },
        "527a98202538441181e47961dd7ceeb4": {
          "model_module": "@jupyter-widgets/controls",
          "model_module_version": "1.5.0",
          "model_name": "FloatProgressModel",
          "state": {
            "_dom_classes": [],
            "_model_module": "@jupyter-widgets/controls",
            "_model_module_version": "1.5.0",
            "_model_name": "FloatProgressModel",
            "_view_count": null,
            "_view_module": "@jupyter-widgets/controls",
            "_view_module_version": "1.5.0",
            "_view_name": "ProgressView",
            "bar_style": "success",
            "description": "",
            "description_tooltip": null,
            "layout": "IPY_MODEL_13cff46a290345d9bb69e60ee31660bf",
            "max": 466021,
            "min": 0,
            "orientation": "horizontal",
            "style": "IPY_MODEL_c208c7ff48164dfba351f8e4a5ba6c62",
            "value": 466021
          }
        },
        "541148dfcf594e37928254370a98f9b8": {
          "model_module": "@jupyter-widgets/controls",
          "model_module_version": "1.5.0",
          "model_name": "HBoxModel",
          "state": {
            "_dom_classes": [],
            "_model_module": "@jupyter-widgets/controls",
            "_model_module_version": "1.5.0",
            "_model_name": "HBoxModel",
            "_view_count": null,
            "_view_module": "@jupyter-widgets/controls",
            "_view_module_version": "1.5.0",
            "_view_name": "HBoxView",
            "box_style": "",
            "children": [
              "IPY_MODEL_0ff5550f94644b4a9845cbfbf1abdc73",
              "IPY_MODEL_58623069096544698802e7151a92767a",
              "IPY_MODEL_83de697c98a343469800763b3fd859b7"
            ],
            "layout": "IPY_MODEL_9738e1e001f84ceba680f282bdc5902f"
          }
        },
        "5529af23e82e4c5fbc1af250e12d43e4": {
          "model_module": "@jupyter-widgets/controls",
          "model_module_version": "1.5.0",
          "model_name": "DescriptionStyleModel",
          "state": {
            "_model_module": "@jupyter-widgets/controls",
            "_model_module_version": "1.5.0",
            "_model_name": "DescriptionStyleModel",
            "_view_count": null,
            "_view_module": "@jupyter-widgets/base",
            "_view_module_version": "1.2.0",
            "_view_name": "StyleView",
            "description_width": ""
          }
        },
        "57b974765c0340dca6a9b0eb7809f02a": {
          "model_module": "@jupyter-widgets/controls",
          "model_module_version": "1.5.0",
          "model_name": "DescriptionStyleModel",
          "state": {
            "_model_module": "@jupyter-widgets/controls",
            "_model_module_version": "1.5.0",
            "_model_name": "DescriptionStyleModel",
            "_view_count": null,
            "_view_module": "@jupyter-widgets/base",
            "_view_module_version": "1.2.0",
            "_view_name": "StyleView",
            "description_width": ""
          }
        },
        "58623069096544698802e7151a92767a": {
          "model_module": "@jupyter-widgets/controls",
          "model_module_version": "1.5.0",
          "model_name": "FloatProgressModel",
          "state": {
            "_dom_classes": [],
            "_model_module": "@jupyter-widgets/controls",
            "_model_module_version": "1.5.0",
            "_model_name": "FloatProgressModel",
            "_view_count": null,
            "_view_module": "@jupyter-widgets/controls",
            "_view_module_version": "1.5.0",
            "_view_name": "ProgressView",
            "bar_style": "success",
            "description": "",
            "description_tooltip": null,
            "layout": "IPY_MODEL_10eff86d892741e0b661e149d14eb3d8",
            "max": 190,
            "min": 0,
            "orientation": "horizontal",
            "style": "IPY_MODEL_66a285698f7e42a88a0080697f201c77",
            "value": 190
          }
        },
        "5af8c8b1d1ce40dbb720d9e1930cd800": {
          "model_module": "@jupyter-widgets/controls",
          "model_module_version": "1.5.0",
          "model_name": "HTMLModel",
          "state": {
            "_dom_classes": [],
            "_model_module": "@jupyter-widgets/controls",
            "_model_module_version": "1.5.0",
            "_model_name": "HTMLModel",
            "_view_count": null,
            "_view_module": "@jupyter-widgets/controls",
            "_view_module_version": "1.5.0",
            "_view_name": "HTMLView",
            "description": "",
            "description_tooltip": null,
            "layout": "IPY_MODEL_95e387dee8574f7380a3cf48942115b3",
            "placeholder": "​",
            "style": "IPY_MODEL_f94818403bf740088165ebe86a406cc9",
            "value": " 466k/466k [00:00&lt;00:00, 1.96MB/s]"
          }
        },
        "5dd6ff131f234ce587e8a73f4cde3988": {
          "model_module": "@jupyter-widgets/base",
          "model_module_version": "1.2.0",
          "model_name": "LayoutModel",
          "state": {
            "_model_module": "@jupyter-widgets/base",
            "_model_module_version": "1.2.0",
            "_model_name": "LayoutModel",
            "_view_count": null,
            "_view_module": "@jupyter-widgets/base",
            "_view_module_version": "1.2.0",
            "_view_name": "LayoutView",
            "align_content": null,
            "align_items": null,
            "align_self": null,
            "border": null,
            "bottom": null,
            "display": null,
            "flex": null,
            "flex_flow": null,
            "grid_area": null,
            "grid_auto_columns": null,
            "grid_auto_flow": null,
            "grid_auto_rows": null,
            "grid_column": null,
            "grid_gap": null,
            "grid_row": null,
            "grid_template_areas": null,
            "grid_template_columns": null,
            "grid_template_rows": null,
            "height": null,
            "justify_content": null,
            "justify_items": null,
            "left": null,
            "margin": null,
            "max_height": null,
            "max_width": null,
            "min_height": null,
            "min_width": null,
            "object_fit": null,
            "object_position": null,
            "order": null,
            "overflow": null,
            "overflow_x": null,
            "overflow_y": null,
            "padding": null,
            "right": null,
            "top": null,
            "visibility": null,
            "width": null
          }
        },
        "612e8ad578d541988d6471729415aeec": {
          "model_module": "@jupyter-widgets/controls",
          "model_module_version": "1.5.0",
          "model_name": "HBoxModel",
          "state": {
            "_dom_classes": [],
            "_model_module": "@jupyter-widgets/controls",
            "_model_module_version": "1.5.0",
            "_model_name": "HBoxModel",
            "_view_count": null,
            "_view_module": "@jupyter-widgets/controls",
            "_view_module_version": "1.5.0",
            "_view_name": "HBoxView",
            "box_style": "",
            "children": [
              "IPY_MODEL_04ef8fb0d5c4477daaa445d1f9bdc4a8",
              "IPY_MODEL_38d7b87b21324fd39f23226d8895d43d",
              "IPY_MODEL_ba6dbc280fee4da3a89ca6201bdd1d69"
            ],
            "layout": "IPY_MODEL_42bae274c4a84f539d444164077ed60a"
          }
        },
        "62b387ad26224f01851a97db9017ccbe": {
          "model_module": "@jupyter-widgets/controls",
          "model_module_version": "1.5.0",
          "model_name": "DescriptionStyleModel",
          "state": {
            "_model_module": "@jupyter-widgets/controls",
            "_model_module_version": "1.5.0",
            "_model_name": "DescriptionStyleModel",
            "_view_count": null,
            "_view_module": "@jupyter-widgets/base",
            "_view_module_version": "1.2.0",
            "_view_name": "StyleView",
            "description_width": ""
          }
        },
        "631122464d3441198ad1408c51f387c4": {
          "model_module": "@jupyter-widgets/base",
          "model_module_version": "1.2.0",
          "model_name": "LayoutModel",
          "state": {
            "_model_module": "@jupyter-widgets/base",
            "_model_module_version": "1.2.0",
            "_model_name": "LayoutModel",
            "_view_count": null,
            "_view_module": "@jupyter-widgets/base",
            "_view_module_version": "1.2.0",
            "_view_name": "LayoutView",
            "align_content": null,
            "align_items": null,
            "align_self": null,
            "border": null,
            "bottom": null,
            "display": null,
            "flex": null,
            "flex_flow": null,
            "grid_area": null,
            "grid_auto_columns": null,
            "grid_auto_flow": null,
            "grid_auto_rows": null,
            "grid_column": null,
            "grid_gap": null,
            "grid_row": null,
            "grid_template_areas": null,
            "grid_template_columns": null,
            "grid_template_rows": null,
            "height": null,
            "justify_content": null,
            "justify_items": null,
            "left": null,
            "margin": null,
            "max_height": null,
            "max_width": null,
            "min_height": null,
            "min_width": null,
            "object_fit": null,
            "object_position": null,
            "order": null,
            "overflow": null,
            "overflow_x": null,
            "overflow_y": null,
            "padding": null,
            "right": null,
            "top": null,
            "visibility": null,
            "width": null
          }
        },
        "64d66550d74243a0a69ab8aa40dace80": {
          "model_module": "@jupyter-widgets/controls",
          "model_module_version": "1.5.0",
          "model_name": "ProgressStyleModel",
          "state": {
            "_model_module": "@jupyter-widgets/controls",
            "_model_module_version": "1.5.0",
            "_model_name": "ProgressStyleModel",
            "_view_count": null,
            "_view_module": "@jupyter-widgets/base",
            "_view_module_version": "1.2.0",
            "_view_name": "StyleView",
            "bar_color": null,
            "description_width": ""
          }
        },
        "65a03eb7408542789f5aec88fa7452a1": {
          "model_module": "@jupyter-widgets/controls",
          "model_module_version": "1.5.0",
          "model_name": "HTMLModel",
          "state": {
            "_dom_classes": [],
            "_model_module": "@jupyter-widgets/controls",
            "_model_module_version": "1.5.0",
            "_model_name": "HTMLModel",
            "_view_count": null,
            "_view_module": "@jupyter-widgets/controls",
            "_view_module_version": "1.5.0",
            "_view_name": "HTMLView",
            "description": "",
            "description_tooltip": null,
            "layout": "IPY_MODEL_7c13698837bb4708a9e93a3f4e97ddd2",
            "placeholder": "​",
            "style": "IPY_MODEL_2be7b1bd67814fb484f9ec976958ae8a",
            "value": " 53.0/53.0 [00:00&lt;00:00, 2.52kB/s]"
          }
        },
        "65c24149e62f403c928b8912045e545c": {
          "model_module": "@jupyter-widgets/controls",
          "model_module_version": "1.5.0",
          "model_name": "HTMLModel",
          "state": {
            "_dom_classes": [],
            "_model_module": "@jupyter-widgets/controls",
            "_model_module_version": "1.5.0",
            "_model_name": "HTMLModel",
            "_view_count": null,
            "_view_module": "@jupyter-widgets/controls",
            "_view_module_version": "1.5.0",
            "_view_name": "HTMLView",
            "description": "",
            "description_tooltip": null,
            "layout": "IPY_MODEL_a91c32e00ab64dec8ce03fec8ebfcd19",
            "placeholder": "​",
            "style": "IPY_MODEL_bf4abe14b6834087a638434c63965542",
            "value": "sentence_bert_config.json: 100%"
          }
        },
        "665448bef16b42909ffa8c8f2170f1dc": {
          "model_module": "@jupyter-widgets/controls",
          "model_module_version": "1.5.0",
          "model_name": "HTMLModel",
          "state": {
            "_dom_classes": [],
            "_model_module": "@jupyter-widgets/controls",
            "_model_module_version": "1.5.0",
            "_model_name": "HTMLModel",
            "_view_count": null,
            "_view_module": "@jupyter-widgets/controls",
            "_view_module_version": "1.5.0",
            "_view_name": "HTMLView",
            "description": "",
            "description_tooltip": null,
            "layout": "IPY_MODEL_2dad084df0c74a7396aefc5ecb91a527",
            "placeholder": "​",
            "style": "IPY_MODEL_b2f73aa5627e448fbed61f1a248fb3a1",
            "value": " 10.6k/10.6k [00:00&lt;00:00, 416kB/s]"
          }
        },
        "66a285698f7e42a88a0080697f201c77": {
          "model_module": "@jupyter-widgets/controls",
          "model_module_version": "1.5.0",
          "model_name": "ProgressStyleModel",
          "state": {
            "_model_module": "@jupyter-widgets/controls",
            "_model_module_version": "1.5.0",
            "_model_name": "ProgressStyleModel",
            "_view_count": null,
            "_view_module": "@jupyter-widgets/base",
            "_view_module_version": "1.2.0",
            "_view_name": "StyleView",
            "bar_color": null,
            "description_width": ""
          }
        },
        "6e921d5261724df19d1e97ddb0bcc234": {
          "model_module": "@jupyter-widgets/base",
          "model_module_version": "1.2.0",
          "model_name": "LayoutModel",
          "state": {
            "_model_module": "@jupyter-widgets/base",
            "_model_module_version": "1.2.0",
            "_model_name": "LayoutModel",
            "_view_count": null,
            "_view_module": "@jupyter-widgets/base",
            "_view_module_version": "1.2.0",
            "_view_name": "LayoutView",
            "align_content": null,
            "align_items": null,
            "align_self": null,
            "border": null,
            "bottom": null,
            "display": null,
            "flex": null,
            "flex_flow": null,
            "grid_area": null,
            "grid_auto_columns": null,
            "grid_auto_flow": null,
            "grid_auto_rows": null,
            "grid_column": null,
            "grid_gap": null,
            "grid_row": null,
            "grid_template_areas": null,
            "grid_template_columns": null,
            "grid_template_rows": null,
            "height": null,
            "justify_content": null,
            "justify_items": null,
            "left": null,
            "margin": null,
            "max_height": null,
            "max_width": null,
            "min_height": null,
            "min_width": null,
            "object_fit": null,
            "object_position": null,
            "order": null,
            "overflow": null,
            "overflow_x": null,
            "overflow_y": null,
            "padding": null,
            "right": null,
            "top": null,
            "visibility": null,
            "width": null
          }
        },
        "721f08a313744f50b4f25eaa77780e5d": {
          "model_module": "@jupyter-widgets/base",
          "model_module_version": "1.2.0",
          "model_name": "LayoutModel",
          "state": {
            "_model_module": "@jupyter-widgets/base",
            "_model_module_version": "1.2.0",
            "_model_name": "LayoutModel",
            "_view_count": null,
            "_view_module": "@jupyter-widgets/base",
            "_view_module_version": "1.2.0",
            "_view_name": "LayoutView",
            "align_content": null,
            "align_items": null,
            "align_self": null,
            "border": null,
            "bottom": null,
            "display": null,
            "flex": null,
            "flex_flow": null,
            "grid_area": null,
            "grid_auto_columns": null,
            "grid_auto_flow": null,
            "grid_auto_rows": null,
            "grid_column": null,
            "grid_gap": null,
            "grid_row": null,
            "grid_template_areas": null,
            "grid_template_columns": null,
            "grid_template_rows": null,
            "height": null,
            "justify_content": null,
            "justify_items": null,
            "left": null,
            "margin": null,
            "max_height": null,
            "max_width": null,
            "min_height": null,
            "min_width": null,
            "object_fit": null,
            "object_position": null,
            "order": null,
            "overflow": null,
            "overflow_x": null,
            "overflow_y": null,
            "padding": null,
            "right": null,
            "top": null,
            "visibility": null,
            "width": null
          }
        },
        "731afa7dca6d49df9800806b26dcb2bc": {
          "model_module": "@jupyter-widgets/controls",
          "model_module_version": "1.5.0",
          "model_name": "FloatProgressModel",
          "state": {
            "_dom_classes": [],
            "_model_module": "@jupyter-widgets/controls",
            "_model_module_version": "1.5.0",
            "_model_name": "FloatProgressModel",
            "_view_count": null,
            "_view_module": "@jupyter-widgets/controls",
            "_view_module_version": "1.5.0",
            "_view_name": "ProgressView",
            "bar_style": "success",
            "description": "",
            "description_tooltip": null,
            "layout": "IPY_MODEL_631122464d3441198ad1408c51f387c4",
            "max": 239,
            "min": 0,
            "orientation": "horizontal",
            "style": "IPY_MODEL_4dc569307f1e40f2b937712c14eb52da",
            "value": 239
          }
        },
        "746635ab72bf4ad5a69f26106aa54127": {
          "model_module": "@jupyter-widgets/controls",
          "model_module_version": "1.5.0",
          "model_name": "HBoxModel",
          "state": {
            "_dom_classes": [],
            "_model_module": "@jupyter-widgets/controls",
            "_model_module_version": "1.5.0",
            "_model_name": "HBoxModel",
            "_view_count": null,
            "_view_module": "@jupyter-widgets/controls",
            "_view_module_version": "1.5.0",
            "_view_name": "HBoxView",
            "box_style": "",
            "children": [
              "IPY_MODEL_ad8ded29e84546bc8105bb9250687687",
              "IPY_MODEL_245bce30bf5a47579c84c81eca6c1d62",
              "IPY_MODEL_a20473756a754af9be75284e64af1da8"
            ],
            "layout": "IPY_MODEL_1deeb280276f4020a39c35a9e8851671"
          }
        },
        "77a3382e45194a8e9d9a65df374adf2e": {
          "model_module": "@jupyter-widgets/base",
          "model_module_version": "1.2.0",
          "model_name": "LayoutModel",
          "state": {
            "_model_module": "@jupyter-widgets/base",
            "_model_module_version": "1.2.0",
            "_model_name": "LayoutModel",
            "_view_count": null,
            "_view_module": "@jupyter-widgets/base",
            "_view_module_version": "1.2.0",
            "_view_name": "LayoutView",
            "align_content": null,
            "align_items": null,
            "align_self": null,
            "border": null,
            "bottom": null,
            "display": null,
            "flex": null,
            "flex_flow": null,
            "grid_area": null,
            "grid_auto_columns": null,
            "grid_auto_flow": null,
            "grid_auto_rows": null,
            "grid_column": null,
            "grid_gap": null,
            "grid_row": null,
            "grid_template_areas": null,
            "grid_template_columns": null,
            "grid_template_rows": null,
            "height": null,
            "justify_content": null,
            "justify_items": null,
            "left": null,
            "margin": null,
            "max_height": null,
            "max_width": null,
            "min_height": null,
            "min_width": null,
            "object_fit": null,
            "object_position": null,
            "order": null,
            "overflow": null,
            "overflow_x": null,
            "overflow_y": null,
            "padding": null,
            "right": null,
            "top": null,
            "visibility": null,
            "width": null
          }
        },
        "7aa142973e31407c82f58d8655427f57": {
          "model_module": "@jupyter-widgets/controls",
          "model_module_version": "1.5.0",
          "model_name": "FloatProgressModel",
          "state": {
            "_dom_classes": [],
            "_model_module": "@jupyter-widgets/controls",
            "_model_module_version": "1.5.0",
            "_model_name": "FloatProgressModel",
            "_view_count": null,
            "_view_module": "@jupyter-widgets/controls",
            "_view_module_version": "1.5.0",
            "_view_name": "ProgressView",
            "bar_style": "success",
            "description": "",
            "description_tooltip": null,
            "layout": "IPY_MODEL_a76111bd77264e5e98a4d48d50323221",
            "max": 437971872,
            "min": 0,
            "orientation": "horizontal",
            "style": "IPY_MODEL_e2c5f8a6b5dc43f5a9b4924de7bf4648",
            "value": 437971872
          }
        },
        "7c13698837bb4708a9e93a3f4e97ddd2": {
          "model_module": "@jupyter-widgets/base",
          "model_module_version": "1.2.0",
          "model_name": "LayoutModel",
          "state": {
            "_model_module": "@jupyter-widgets/base",
            "_model_module_version": "1.2.0",
            "_model_name": "LayoutModel",
            "_view_count": null,
            "_view_module": "@jupyter-widgets/base",
            "_view_module_version": "1.2.0",
            "_view_name": "LayoutView",
            "align_content": null,
            "align_items": null,
            "align_self": null,
            "border": null,
            "bottom": null,
            "display": null,
            "flex": null,
            "flex_flow": null,
            "grid_area": null,
            "grid_auto_columns": null,
            "grid_auto_flow": null,
            "grid_auto_rows": null,
            "grid_column": null,
            "grid_gap": null,
            "grid_row": null,
            "grid_template_areas": null,
            "grid_template_columns": null,
            "grid_template_rows": null,
            "height": null,
            "justify_content": null,
            "justify_items": null,
            "left": null,
            "margin": null,
            "max_height": null,
            "max_width": null,
            "min_height": null,
            "min_width": null,
            "object_fit": null,
            "object_position": null,
            "order": null,
            "overflow": null,
            "overflow_x": null,
            "overflow_y": null,
            "padding": null,
            "right": null,
            "top": null,
            "visibility": null,
            "width": null
          }
        },
        "7f1ac2ccaa78494a8937bbe1b4e99cbb": {
          "model_module": "@jupyter-widgets/controls",
          "model_module_version": "1.5.0",
          "model_name": "ProgressStyleModel",
          "state": {
            "_model_module": "@jupyter-widgets/controls",
            "_model_module_version": "1.5.0",
            "_model_name": "ProgressStyleModel",
            "_view_count": null,
            "_view_module": "@jupyter-widgets/base",
            "_view_module_version": "1.2.0",
            "_view_name": "StyleView",
            "bar_color": null,
            "description_width": ""
          }
        },
        "7f21a9f3bb774fa4b8f5ef6e85e456d1": {
          "model_module": "@jupyter-widgets/base",
          "model_module_version": "1.2.0",
          "model_name": "LayoutModel",
          "state": {
            "_model_module": "@jupyter-widgets/base",
            "_model_module_version": "1.2.0",
            "_model_name": "LayoutModel",
            "_view_count": null,
            "_view_module": "@jupyter-widgets/base",
            "_view_module_version": "1.2.0",
            "_view_name": "LayoutView",
            "align_content": null,
            "align_items": null,
            "align_self": null,
            "border": null,
            "bottom": null,
            "display": null,
            "flex": null,
            "flex_flow": null,
            "grid_area": null,
            "grid_auto_columns": null,
            "grid_auto_flow": null,
            "grid_auto_rows": null,
            "grid_column": null,
            "grid_gap": null,
            "grid_row": null,
            "grid_template_areas": null,
            "grid_template_columns": null,
            "grid_template_rows": null,
            "height": null,
            "justify_content": null,
            "justify_items": null,
            "left": null,
            "margin": null,
            "max_height": null,
            "max_width": null,
            "min_height": null,
            "min_width": null,
            "object_fit": null,
            "object_position": null,
            "order": null,
            "overflow": null,
            "overflow_x": null,
            "overflow_y": null,
            "padding": null,
            "right": null,
            "top": null,
            "visibility": null,
            "width": null
          }
        },
        "81ba1ff263c64d0b8515a81d2ed8af9c": {
          "model_module": "@jupyter-widgets/controls",
          "model_module_version": "1.5.0",
          "model_name": "DescriptionStyleModel",
          "state": {
            "_model_module": "@jupyter-widgets/controls",
            "_model_module_version": "1.5.0",
            "_model_name": "DescriptionStyleModel",
            "_view_count": null,
            "_view_module": "@jupyter-widgets/base",
            "_view_module_version": "1.2.0",
            "_view_name": "StyleView",
            "description_width": ""
          }
        },
        "837befefb3564081ac37fb7e174aa6c9": {
          "model_module": "@jupyter-widgets/base",
          "model_module_version": "1.2.0",
          "model_name": "LayoutModel",
          "state": {
            "_model_module": "@jupyter-widgets/base",
            "_model_module_version": "1.2.0",
            "_model_name": "LayoutModel",
            "_view_count": null,
            "_view_module": "@jupyter-widgets/base",
            "_view_module_version": "1.2.0",
            "_view_name": "LayoutView",
            "align_content": null,
            "align_items": null,
            "align_self": null,
            "border": null,
            "bottom": null,
            "display": null,
            "flex": null,
            "flex_flow": null,
            "grid_area": null,
            "grid_auto_columns": null,
            "grid_auto_flow": null,
            "grid_auto_rows": null,
            "grid_column": null,
            "grid_gap": null,
            "grid_row": null,
            "grid_template_areas": null,
            "grid_template_columns": null,
            "grid_template_rows": null,
            "height": null,
            "justify_content": null,
            "justify_items": null,
            "left": null,
            "margin": null,
            "max_height": null,
            "max_width": null,
            "min_height": null,
            "min_width": null,
            "object_fit": null,
            "object_position": null,
            "order": null,
            "overflow": null,
            "overflow_x": null,
            "overflow_y": null,
            "padding": null,
            "right": null,
            "top": null,
            "visibility": null,
            "width": null
          }
        },
        "83897523e9ee4ea38308b1183b3afbc0": {
          "model_module": "@jupyter-widgets/base",
          "model_module_version": "1.2.0",
          "model_name": "LayoutModel",
          "state": {
            "_model_module": "@jupyter-widgets/base",
            "_model_module_version": "1.2.0",
            "_model_name": "LayoutModel",
            "_view_count": null,
            "_view_module": "@jupyter-widgets/base",
            "_view_module_version": "1.2.0",
            "_view_name": "LayoutView",
            "align_content": null,
            "align_items": null,
            "align_self": null,
            "border": null,
            "bottom": null,
            "display": null,
            "flex": null,
            "flex_flow": null,
            "grid_area": null,
            "grid_auto_columns": null,
            "grid_auto_flow": null,
            "grid_auto_rows": null,
            "grid_column": null,
            "grid_gap": null,
            "grid_row": null,
            "grid_template_areas": null,
            "grid_template_columns": null,
            "grid_template_rows": null,
            "height": null,
            "justify_content": null,
            "justify_items": null,
            "left": null,
            "margin": null,
            "max_height": null,
            "max_width": null,
            "min_height": null,
            "min_width": null,
            "object_fit": null,
            "object_position": null,
            "order": null,
            "overflow": null,
            "overflow_x": null,
            "overflow_y": null,
            "padding": null,
            "right": null,
            "top": null,
            "visibility": null,
            "width": null
          }
        },
        "83de697c98a343469800763b3fd859b7": {
          "model_module": "@jupyter-widgets/controls",
          "model_module_version": "1.5.0",
          "model_name": "HTMLModel",
          "state": {
            "_dom_classes": [],
            "_model_module": "@jupyter-widgets/controls",
            "_model_module_version": "1.5.0",
            "_model_name": "HTMLModel",
            "_view_count": null,
            "_view_module": "@jupyter-widgets/controls",
            "_view_module_version": "1.5.0",
            "_view_name": "HTMLView",
            "description": "",
            "description_tooltip": null,
            "layout": "IPY_MODEL_aec9d27b81924f7ea5f879e164978e0a",
            "placeholder": "​",
            "style": "IPY_MODEL_13b662f1a2de44a6a4ddd9ee33a8fd63",
            "value": " 190/190 [00:00&lt;00:00, 10.1kB/s]"
          }
        },
        "846b9460337748bbb58d29f8a59ab46f": {
          "model_module": "@jupyter-widgets/base",
          "model_module_version": "1.2.0",
          "model_name": "LayoutModel",
          "state": {
            "_model_module": "@jupyter-widgets/base",
            "_model_module_version": "1.2.0",
            "_model_name": "LayoutModel",
            "_view_count": null,
            "_view_module": "@jupyter-widgets/base",
            "_view_module_version": "1.2.0",
            "_view_name": "LayoutView",
            "align_content": null,
            "align_items": null,
            "align_self": null,
            "border": null,
            "bottom": null,
            "display": null,
            "flex": null,
            "flex_flow": null,
            "grid_area": null,
            "grid_auto_columns": null,
            "grid_auto_flow": null,
            "grid_auto_rows": null,
            "grid_column": null,
            "grid_gap": null,
            "grid_row": null,
            "grid_template_areas": null,
            "grid_template_columns": null,
            "grid_template_rows": null,
            "height": null,
            "justify_content": null,
            "justify_items": null,
            "left": null,
            "margin": null,
            "max_height": null,
            "max_width": null,
            "min_height": null,
            "min_width": null,
            "object_fit": null,
            "object_position": null,
            "order": null,
            "overflow": null,
            "overflow_x": null,
            "overflow_y": null,
            "padding": null,
            "right": null,
            "top": null,
            "visibility": null,
            "width": null
          }
        },
        "85e667a7b9db41aaaa20288f83239e0f": {
          "model_module": "@jupyter-widgets/base",
          "model_module_version": "1.2.0",
          "model_name": "LayoutModel",
          "state": {
            "_model_module": "@jupyter-widgets/base",
            "_model_module_version": "1.2.0",
            "_model_name": "LayoutModel",
            "_view_count": null,
            "_view_module": "@jupyter-widgets/base",
            "_view_module_version": "1.2.0",
            "_view_name": "LayoutView",
            "align_content": null,
            "align_items": null,
            "align_self": null,
            "border": null,
            "bottom": null,
            "display": null,
            "flex": null,
            "flex_flow": null,
            "grid_area": null,
            "grid_auto_columns": null,
            "grid_auto_flow": null,
            "grid_auto_rows": null,
            "grid_column": null,
            "grid_gap": null,
            "grid_row": null,
            "grid_template_areas": null,
            "grid_template_columns": null,
            "grid_template_rows": null,
            "height": null,
            "justify_content": null,
            "justify_items": null,
            "left": null,
            "margin": null,
            "max_height": null,
            "max_width": null,
            "min_height": null,
            "min_width": null,
            "object_fit": null,
            "object_position": null,
            "order": null,
            "overflow": null,
            "overflow_x": null,
            "overflow_y": null,
            "padding": null,
            "right": null,
            "top": null,
            "visibility": null,
            "width": null
          }
        },
        "8dcb6e658f9140e3943327380c4d38da": {
          "model_module": "@jupyter-widgets/base",
          "model_module_version": "1.2.0",
          "model_name": "LayoutModel",
          "state": {
            "_model_module": "@jupyter-widgets/base",
            "_model_module_version": "1.2.0",
            "_model_name": "LayoutModel",
            "_view_count": null,
            "_view_module": "@jupyter-widgets/base",
            "_view_module_version": "1.2.0",
            "_view_name": "LayoutView",
            "align_content": null,
            "align_items": null,
            "align_self": null,
            "border": null,
            "bottom": null,
            "display": null,
            "flex": null,
            "flex_flow": null,
            "grid_area": null,
            "grid_auto_columns": null,
            "grid_auto_flow": null,
            "grid_auto_rows": null,
            "grid_column": null,
            "grid_gap": null,
            "grid_row": null,
            "grid_template_areas": null,
            "grid_template_columns": null,
            "grid_template_rows": null,
            "height": null,
            "justify_content": null,
            "justify_items": null,
            "left": null,
            "margin": null,
            "max_height": null,
            "max_width": null,
            "min_height": null,
            "min_width": null,
            "object_fit": null,
            "object_position": null,
            "order": null,
            "overflow": null,
            "overflow_x": null,
            "overflow_y": null,
            "padding": null,
            "right": null,
            "top": null,
            "visibility": null,
            "width": null
          }
        },
        "8edbfa77020c496596df0fad9b4a912f": {
          "model_module": "@jupyter-widgets/controls",
          "model_module_version": "1.5.0",
          "model_name": "HBoxModel",
          "state": {
            "_dom_classes": [],
            "_model_module": "@jupyter-widgets/controls",
            "_model_module_version": "1.5.0",
            "_model_name": "HBoxModel",
            "_view_count": null,
            "_view_module": "@jupyter-widgets/controls",
            "_view_module_version": "1.5.0",
            "_view_name": "HBoxView",
            "box_style": "",
            "children": [
              "IPY_MODEL_383f949f45984752b0f023cacf22efaf",
              "IPY_MODEL_184b8916aedb423e9e63a18698fc6339",
              "IPY_MODEL_2098531cde27408795065d83b51dd547"
            ],
            "layout": "IPY_MODEL_e854dd62f95e4aa2bf6be6e1b43a29d5"
          }
        },
        "8f19fc8d086645d284f84ffd67bcb07f": {
          "model_module": "@jupyter-widgets/controls",
          "model_module_version": "1.5.0",
          "model_name": "DescriptionStyleModel",
          "state": {
            "_model_module": "@jupyter-widgets/controls",
            "_model_module_version": "1.5.0",
            "_model_name": "DescriptionStyleModel",
            "_view_count": null,
            "_view_module": "@jupyter-widgets/base",
            "_view_module_version": "1.2.0",
            "_view_name": "StyleView",
            "description_width": ""
          }
        },
        "93593b3cb98f4bf4aa6e84032ccf6ff7": {
          "model_module": "@jupyter-widgets/controls",
          "model_module_version": "1.5.0",
          "model_name": "HBoxModel",
          "state": {
            "_dom_classes": [],
            "_model_module": "@jupyter-widgets/controls",
            "_model_module_version": "1.5.0",
            "_model_name": "HBoxModel",
            "_view_count": null,
            "_view_module": "@jupyter-widgets/controls",
            "_view_module_version": "1.5.0",
            "_view_name": "HBoxView",
            "box_style": "",
            "children": [
              "IPY_MODEL_29e9abc374f9439788053a7cee76473a",
              "IPY_MODEL_bc29d3eb4c3e4a88b0c2d6c533083f95",
              "IPY_MODEL_665448bef16b42909ffa8c8f2170f1dc"
            ],
            "layout": "IPY_MODEL_837befefb3564081ac37fb7e174aa6c9"
          }
        },
        "95e387dee8574f7380a3cf48942115b3": {
          "model_module": "@jupyter-widgets/base",
          "model_module_version": "1.2.0",
          "model_name": "LayoutModel",
          "state": {
            "_model_module": "@jupyter-widgets/base",
            "_model_module_version": "1.2.0",
            "_model_name": "LayoutModel",
            "_view_count": null,
            "_view_module": "@jupyter-widgets/base",
            "_view_module_version": "1.2.0",
            "_view_name": "LayoutView",
            "align_content": null,
            "align_items": null,
            "align_self": null,
            "border": null,
            "bottom": null,
            "display": null,
            "flex": null,
            "flex_flow": null,
            "grid_area": null,
            "grid_auto_columns": null,
            "grid_auto_flow": null,
            "grid_auto_rows": null,
            "grid_column": null,
            "grid_gap": null,
            "grid_row": null,
            "grid_template_areas": null,
            "grid_template_columns": null,
            "grid_template_rows": null,
            "height": null,
            "justify_content": null,
            "justify_items": null,
            "left": null,
            "margin": null,
            "max_height": null,
            "max_width": null,
            "min_height": null,
            "min_width": null,
            "object_fit": null,
            "object_position": null,
            "order": null,
            "overflow": null,
            "overflow_x": null,
            "overflow_y": null,
            "padding": null,
            "right": null,
            "top": null,
            "visibility": null,
            "width": null
          }
        },
        "9738e1e001f84ceba680f282bdc5902f": {
          "model_module": "@jupyter-widgets/base",
          "model_module_version": "1.2.0",
          "model_name": "LayoutModel",
          "state": {
            "_model_module": "@jupyter-widgets/base",
            "_model_module_version": "1.2.0",
            "_model_name": "LayoutModel",
            "_view_count": null,
            "_view_module": "@jupyter-widgets/base",
            "_view_module_version": "1.2.0",
            "_view_name": "LayoutView",
            "align_content": null,
            "align_items": null,
            "align_self": null,
            "border": null,
            "bottom": null,
            "display": null,
            "flex": null,
            "flex_flow": null,
            "grid_area": null,
            "grid_auto_columns": null,
            "grid_auto_flow": null,
            "grid_auto_rows": null,
            "grid_column": null,
            "grid_gap": null,
            "grid_row": null,
            "grid_template_areas": null,
            "grid_template_columns": null,
            "grid_template_rows": null,
            "height": null,
            "justify_content": null,
            "justify_items": null,
            "left": null,
            "margin": null,
            "max_height": null,
            "max_width": null,
            "min_height": null,
            "min_width": null,
            "object_fit": null,
            "object_position": null,
            "order": null,
            "overflow": null,
            "overflow_x": null,
            "overflow_y": null,
            "padding": null,
            "right": null,
            "top": null,
            "visibility": null,
            "width": null
          }
        },
        "9a1eeb8104ec4cc589328e708997df3d": {
          "model_module": "@jupyter-widgets/controls",
          "model_module_version": "1.5.0",
          "model_name": "HBoxModel",
          "state": {
            "_dom_classes": [],
            "_model_module": "@jupyter-widgets/controls",
            "_model_module_version": "1.5.0",
            "_model_name": "HBoxModel",
            "_view_count": null,
            "_view_module": "@jupyter-widgets/controls",
            "_view_module_version": "1.5.0",
            "_view_name": "HBoxView",
            "box_style": "",
            "children": [
              "IPY_MODEL_e00644c643c64a14873784c427b16110",
              "IPY_MODEL_d8af7df07679461c9f02b18c13fb2d03",
              "IPY_MODEL_3fbe7557b9674f879b5f28e97de87f73"
            ],
            "layout": "IPY_MODEL_13e8f093262e4d9abb8d04e0d9754291"
          }
        },
        "9a526819553e4272903119821d1d34a5": {
          "model_module": "@jupyter-widgets/base",
          "model_module_version": "1.2.0",
          "model_name": "LayoutModel",
          "state": {
            "_model_module": "@jupyter-widgets/base",
            "_model_module_version": "1.2.0",
            "_model_name": "LayoutModel",
            "_view_count": null,
            "_view_module": "@jupyter-widgets/base",
            "_view_module_version": "1.2.0",
            "_view_name": "LayoutView",
            "align_content": null,
            "align_items": null,
            "align_self": null,
            "border": null,
            "bottom": null,
            "display": null,
            "flex": null,
            "flex_flow": null,
            "grid_area": null,
            "grid_auto_columns": null,
            "grid_auto_flow": null,
            "grid_auto_rows": null,
            "grid_column": null,
            "grid_gap": null,
            "grid_row": null,
            "grid_template_areas": null,
            "grid_template_columns": null,
            "grid_template_rows": null,
            "height": null,
            "justify_content": null,
            "justify_items": null,
            "left": null,
            "margin": null,
            "max_height": null,
            "max_width": null,
            "min_height": null,
            "min_width": null,
            "object_fit": null,
            "object_position": null,
            "order": null,
            "overflow": null,
            "overflow_x": null,
            "overflow_y": null,
            "padding": null,
            "right": null,
            "top": null,
            "visibility": null,
            "width": null
          }
        },
        "9fbd4502b774403185f8d8a10fdee076": {
          "model_module": "@jupyter-widgets/controls",
          "model_module_version": "1.5.0",
          "model_name": "DescriptionStyleModel",
          "state": {
            "_model_module": "@jupyter-widgets/controls",
            "_model_module_version": "1.5.0",
            "_model_name": "DescriptionStyleModel",
            "_view_count": null,
            "_view_module": "@jupyter-widgets/base",
            "_view_module_version": "1.2.0",
            "_view_name": "StyleView",
            "description_width": ""
          }
        },
        "a20473756a754af9be75284e64af1da8": {
          "model_module": "@jupyter-widgets/controls",
          "model_module_version": "1.5.0",
          "model_name": "HTMLModel",
          "state": {
            "_dom_classes": [],
            "_model_module": "@jupyter-widgets/controls",
            "_model_module_version": "1.5.0",
            "_model_name": "HTMLModel",
            "_view_count": null,
            "_view_module": "@jupyter-widgets/controls",
            "_view_module_version": "1.5.0",
            "_view_name": "HTMLView",
            "description": "",
            "description_tooltip": null,
            "layout": "IPY_MODEL_846b9460337748bbb58d29f8a59ab46f",
            "placeholder": "​",
            "style": "IPY_MODEL_81ba1ff263c64d0b8515a81d2ed8af9c",
            "value": " 571/571 [00:00&lt;00:00, 28.5kB/s]"
          }
        },
        "a5785008079c4f2b8c90af1ff8666ea0": {
          "model_module": "@jupyter-widgets/controls",
          "model_module_version": "1.5.0",
          "model_name": "FloatProgressModel",
          "state": {
            "_dom_classes": [],
            "_model_module": "@jupyter-widgets/controls",
            "_model_module_version": "1.5.0",
            "_model_name": "FloatProgressModel",
            "_view_count": null,
            "_view_module": "@jupyter-widgets/controls",
            "_view_module_version": "1.5.0",
            "_view_name": "ProgressView",
            "bar_style": "success",
            "description": "",
            "description_tooltip": null,
            "layout": "IPY_MODEL_5dd6ff131f234ce587e8a73f4cde3988",
            "max": 349,
            "min": 0,
            "orientation": "horizontal",
            "style": "IPY_MODEL_c898a3a8143d417a8856805d21ccc853",
            "value": 349
          }
        },
        "a5a0810cba7445adba41547f5a25747a": {
          "model_module": "@jupyter-widgets/controls",
          "model_module_version": "1.5.0",
          "model_name": "DescriptionStyleModel",
          "state": {
            "_model_module": "@jupyter-widgets/controls",
            "_model_module_version": "1.5.0",
            "_model_name": "DescriptionStyleModel",
            "_view_count": null,
            "_view_module": "@jupyter-widgets/base",
            "_view_module_version": "1.2.0",
            "_view_name": "StyleView",
            "description_width": ""
          }
        },
        "a6aed4b0a2e54809b3218a232464eacc": {
          "model_module": "@jupyter-widgets/controls",
          "model_module_version": "1.5.0",
          "model_name": "FloatProgressModel",
          "state": {
            "_dom_classes": [],
            "_model_module": "@jupyter-widgets/controls",
            "_model_module_version": "1.5.0",
            "_model_name": "FloatProgressModel",
            "_view_count": null,
            "_view_module": "@jupyter-widgets/controls",
            "_view_module_version": "1.5.0",
            "_view_name": "ProgressView",
            "bar_style": "success",
            "description": "",
            "description_tooltip": null,
            "layout": "IPY_MODEL_453c2c1885974cbf81d30cdbdd0bbff5",
            "max": 53,
            "min": 0,
            "orientation": "horizontal",
            "style": "IPY_MODEL_a6f5b7d018fb44488d537eb0a29134f8",
            "value": 53
          }
        },
        "a6f5b7d018fb44488d537eb0a29134f8": {
          "model_module": "@jupyter-widgets/controls",
          "model_module_version": "1.5.0",
          "model_name": "ProgressStyleModel",
          "state": {
            "_model_module": "@jupyter-widgets/controls",
            "_model_module_version": "1.5.0",
            "_model_name": "ProgressStyleModel",
            "_view_count": null,
            "_view_module": "@jupyter-widgets/base",
            "_view_module_version": "1.2.0",
            "_view_name": "StyleView",
            "bar_color": null,
            "description_width": ""
          }
        },
        "a75a04c5f7634ea1882ffd46a953ed89": {
          "model_module": "@jupyter-widgets/controls",
          "model_module_version": "1.5.0",
          "model_name": "HTMLModel",
          "state": {
            "_dom_classes": [],
            "_model_module": "@jupyter-widgets/controls",
            "_model_module_version": "1.5.0",
            "_model_name": "HTMLModel",
            "_view_count": null,
            "_view_module": "@jupyter-widgets/controls",
            "_view_module_version": "1.5.0",
            "_view_name": "HTMLView",
            "description": "",
            "description_tooltip": null,
            "layout": "IPY_MODEL_f782c39d592644db95916cdf825fafed",
            "placeholder": "​",
            "style": "IPY_MODEL_fa8fca4345694b49bc59266dface5308",
            "value": " 349/349 [00:00&lt;00:00, 12.4kB/s]"
          }
        },
        "a76111bd77264e5e98a4d48d50323221": {
          "model_module": "@jupyter-widgets/base",
          "model_module_version": "1.2.0",
          "model_name": "LayoutModel",
          "state": {
            "_model_module": "@jupyter-widgets/base",
            "_model_module_version": "1.2.0",
            "_model_name": "LayoutModel",
            "_view_count": null,
            "_view_module": "@jupyter-widgets/base",
            "_view_module_version": "1.2.0",
            "_view_name": "LayoutView",
            "align_content": null,
            "align_items": null,
            "align_self": null,
            "border": null,
            "bottom": null,
            "display": null,
            "flex": null,
            "flex_flow": null,
            "grid_area": null,
            "grid_auto_columns": null,
            "grid_auto_flow": null,
            "grid_auto_rows": null,
            "grid_column": null,
            "grid_gap": null,
            "grid_row": null,
            "grid_template_areas": null,
            "grid_template_columns": null,
            "grid_template_rows": null,
            "height": null,
            "justify_content": null,
            "justify_items": null,
            "left": null,
            "margin": null,
            "max_height": null,
            "max_width": null,
            "min_height": null,
            "min_width": null,
            "object_fit": null,
            "object_position": null,
            "order": null,
            "overflow": null,
            "overflow_x": null,
            "overflow_y": null,
            "padding": null,
            "right": null,
            "top": null,
            "visibility": null,
            "width": null
          }
        },
        "a794fb9528d34568a0d125864028baa0": {
          "model_module": "@jupyter-widgets/base",
          "model_module_version": "1.2.0",
          "model_name": "LayoutModel",
          "state": {
            "_model_module": "@jupyter-widgets/base",
            "_model_module_version": "1.2.0",
            "_model_name": "LayoutModel",
            "_view_count": null,
            "_view_module": "@jupyter-widgets/base",
            "_view_module_version": "1.2.0",
            "_view_name": "LayoutView",
            "align_content": null,
            "align_items": null,
            "align_self": null,
            "border": null,
            "bottom": null,
            "display": null,
            "flex": null,
            "flex_flow": null,
            "grid_area": null,
            "grid_auto_columns": null,
            "grid_auto_flow": null,
            "grid_auto_rows": null,
            "grid_column": null,
            "grid_gap": null,
            "grid_row": null,
            "grid_template_areas": null,
            "grid_template_columns": null,
            "grid_template_rows": null,
            "height": null,
            "justify_content": null,
            "justify_items": null,
            "left": null,
            "margin": null,
            "max_height": null,
            "max_width": null,
            "min_height": null,
            "min_width": null,
            "object_fit": null,
            "object_position": null,
            "order": null,
            "overflow": null,
            "overflow_x": null,
            "overflow_y": null,
            "padding": null,
            "right": null,
            "top": null,
            "visibility": null,
            "width": null
          }
        },
        "a91c32e00ab64dec8ce03fec8ebfcd19": {
          "model_module": "@jupyter-widgets/base",
          "model_module_version": "1.2.0",
          "model_name": "LayoutModel",
          "state": {
            "_model_module": "@jupyter-widgets/base",
            "_model_module_version": "1.2.0",
            "_model_name": "LayoutModel",
            "_view_count": null,
            "_view_module": "@jupyter-widgets/base",
            "_view_module_version": "1.2.0",
            "_view_name": "LayoutView",
            "align_content": null,
            "align_items": null,
            "align_self": null,
            "border": null,
            "bottom": null,
            "display": null,
            "flex": null,
            "flex_flow": null,
            "grid_area": null,
            "grid_auto_columns": null,
            "grid_auto_flow": null,
            "grid_auto_rows": null,
            "grid_column": null,
            "grid_gap": null,
            "grid_row": null,
            "grid_template_areas": null,
            "grid_template_columns": null,
            "grid_template_rows": null,
            "height": null,
            "justify_content": null,
            "justify_items": null,
            "left": null,
            "margin": null,
            "max_height": null,
            "max_width": null,
            "min_height": null,
            "min_width": null,
            "object_fit": null,
            "object_position": null,
            "order": null,
            "overflow": null,
            "overflow_x": null,
            "overflow_y": null,
            "padding": null,
            "right": null,
            "top": null,
            "visibility": null,
            "width": null
          }
        },
        "a9289eebcac446b18f3a4827284c9dc1": {
          "model_module": "@jupyter-widgets/base",
          "model_module_version": "1.2.0",
          "model_name": "LayoutModel",
          "state": {
            "_model_module": "@jupyter-widgets/base",
            "_model_module_version": "1.2.0",
            "_model_name": "LayoutModel",
            "_view_count": null,
            "_view_module": "@jupyter-widgets/base",
            "_view_module_version": "1.2.0",
            "_view_name": "LayoutView",
            "align_content": null,
            "align_items": null,
            "align_self": null,
            "border": null,
            "bottom": null,
            "display": null,
            "flex": null,
            "flex_flow": null,
            "grid_area": null,
            "grid_auto_columns": null,
            "grid_auto_flow": null,
            "grid_auto_rows": null,
            "grid_column": null,
            "grid_gap": null,
            "grid_row": null,
            "grid_template_areas": null,
            "grid_template_columns": null,
            "grid_template_rows": null,
            "height": null,
            "justify_content": null,
            "justify_items": null,
            "left": null,
            "margin": null,
            "max_height": null,
            "max_width": null,
            "min_height": null,
            "min_width": null,
            "object_fit": null,
            "object_position": null,
            "order": null,
            "overflow": null,
            "overflow_x": null,
            "overflow_y": null,
            "padding": null,
            "right": null,
            "top": null,
            "visibility": null,
            "width": null
          }
        },
        "ad8ded29e84546bc8105bb9250687687": {
          "model_module": "@jupyter-widgets/controls",
          "model_module_version": "1.5.0",
          "model_name": "HTMLModel",
          "state": {
            "_dom_classes": [],
            "_model_module": "@jupyter-widgets/controls",
            "_model_module_version": "1.5.0",
            "_model_name": "HTMLModel",
            "_view_count": null,
            "_view_module": "@jupyter-widgets/controls",
            "_view_module_version": "1.5.0",
            "_view_name": "HTMLView",
            "description": "",
            "description_tooltip": null,
            "layout": "IPY_MODEL_4f57cb39207c4849a42f09cd24b4b43b",
            "placeholder": "​",
            "style": "IPY_MODEL_9fbd4502b774403185f8d8a10fdee076",
            "value": "config.json: 100%"
          }
        },
        "adf03e446b084513832b53b521681e65": {
          "model_module": "@jupyter-widgets/controls",
          "model_module_version": "1.5.0",
          "model_name": "HTMLModel",
          "state": {
            "_dom_classes": [],
            "_model_module": "@jupyter-widgets/controls",
            "_model_module_version": "1.5.0",
            "_model_name": "HTMLModel",
            "_view_count": null,
            "_view_module": "@jupyter-widgets/controls",
            "_view_module_version": "1.5.0",
            "_view_name": "HTMLView",
            "description": "",
            "description_tooltip": null,
            "layout": "IPY_MODEL_721f08a313744f50b4f25eaa77780e5d",
            "placeholder": "​",
            "style": "IPY_MODEL_e26d9ec26eba4a1493007a1bd46b446c",
            "value": " 438M/438M [00:02&lt;00:00, 148MB/s]"
          }
        },
        "aec9d27b81924f7ea5f879e164978e0a": {
          "model_module": "@jupyter-widgets/base",
          "model_module_version": "1.2.0",
          "model_name": "LayoutModel",
          "state": {
            "_model_module": "@jupyter-widgets/base",
            "_model_module_version": "1.2.0",
            "_model_name": "LayoutModel",
            "_view_count": null,
            "_view_module": "@jupyter-widgets/base",
            "_view_module_version": "1.2.0",
            "_view_name": "LayoutView",
            "align_content": null,
            "align_items": null,
            "align_self": null,
            "border": null,
            "bottom": null,
            "display": null,
            "flex": null,
            "flex_flow": null,
            "grid_area": null,
            "grid_auto_columns": null,
            "grid_auto_flow": null,
            "grid_auto_rows": null,
            "grid_column": null,
            "grid_gap": null,
            "grid_row": null,
            "grid_template_areas": null,
            "grid_template_columns": null,
            "grid_template_rows": null,
            "height": null,
            "justify_content": null,
            "justify_items": null,
            "left": null,
            "margin": null,
            "max_height": null,
            "max_width": null,
            "min_height": null,
            "min_width": null,
            "object_fit": null,
            "object_position": null,
            "order": null,
            "overflow": null,
            "overflow_x": null,
            "overflow_y": null,
            "padding": null,
            "right": null,
            "top": null,
            "visibility": null,
            "width": null
          }
        },
        "b131f641c21d49f7a6d0b38efe6f09e9": {
          "model_module": "@jupyter-widgets/base",
          "model_module_version": "1.2.0",
          "model_name": "LayoutModel",
          "state": {
            "_model_module": "@jupyter-widgets/base",
            "_model_module_version": "1.2.0",
            "_model_name": "LayoutModel",
            "_view_count": null,
            "_view_module": "@jupyter-widgets/base",
            "_view_module_version": "1.2.0",
            "_view_name": "LayoutView",
            "align_content": null,
            "align_items": null,
            "align_self": null,
            "border": null,
            "bottom": null,
            "display": null,
            "flex": null,
            "flex_flow": null,
            "grid_area": null,
            "grid_auto_columns": null,
            "grid_auto_flow": null,
            "grid_auto_rows": null,
            "grid_column": null,
            "grid_gap": null,
            "grid_row": null,
            "grid_template_areas": null,
            "grid_template_columns": null,
            "grid_template_rows": null,
            "height": null,
            "justify_content": null,
            "justify_items": null,
            "left": null,
            "margin": null,
            "max_height": null,
            "max_width": null,
            "min_height": null,
            "min_width": null,
            "object_fit": null,
            "object_position": null,
            "order": null,
            "overflow": null,
            "overflow_x": null,
            "overflow_y": null,
            "padding": null,
            "right": null,
            "top": null,
            "visibility": null,
            "width": null
          }
        },
        "b2f73aa5627e448fbed61f1a248fb3a1": {
          "model_module": "@jupyter-widgets/controls",
          "model_module_version": "1.5.0",
          "model_name": "DescriptionStyleModel",
          "state": {
            "_model_module": "@jupyter-widgets/controls",
            "_model_module_version": "1.5.0",
            "_model_name": "DescriptionStyleModel",
            "_view_count": null,
            "_view_module": "@jupyter-widgets/base",
            "_view_module_version": "1.2.0",
            "_view_name": "StyleView",
            "description_width": ""
          }
        },
        "ba6dbc280fee4da3a89ca6201bdd1d69": {
          "model_module": "@jupyter-widgets/controls",
          "model_module_version": "1.5.0",
          "model_name": "HTMLModel",
          "state": {
            "_dom_classes": [],
            "_model_module": "@jupyter-widgets/controls",
            "_model_module_version": "1.5.0",
            "_model_name": "HTMLModel",
            "_view_count": null,
            "_view_module": "@jupyter-widgets/controls",
            "_view_module_version": "1.5.0",
            "_view_name": "HTMLView",
            "description": "",
            "description_tooltip": null,
            "layout": "IPY_MODEL_f0e98e6f61674fab9315b6f8c82ea81d",
            "placeholder": "​",
            "style": "IPY_MODEL_5195395573914c50bef6dadae38b0568",
            "value": " 116/116 [00:00&lt;00:00, 5.44kB/s]"
          }
        },
        "bb0d4c83476f44de96f0faecf94767a4": {
          "model_module": "@jupyter-widgets/controls",
          "model_module_version": "1.5.0",
          "model_name": "ProgressStyleModel",
          "state": {
            "_model_module": "@jupyter-widgets/controls",
            "_model_module_version": "1.5.0",
            "_model_name": "ProgressStyleModel",
            "_view_count": null,
            "_view_module": "@jupyter-widgets/base",
            "_view_module_version": "1.2.0",
            "_view_name": "StyleView",
            "bar_color": null,
            "description_width": ""
          }
        },
        "bb7dc061efbe4efd87cabc67b07b477c": {
          "model_module": "@jupyter-widgets/controls",
          "model_module_version": "1.5.0",
          "model_name": "ProgressStyleModel",
          "state": {
            "_model_module": "@jupyter-widgets/controls",
            "_model_module_version": "1.5.0",
            "_model_name": "ProgressStyleModel",
            "_view_count": null,
            "_view_module": "@jupyter-widgets/base",
            "_view_module_version": "1.2.0",
            "_view_name": "StyleView",
            "bar_color": null,
            "description_width": ""
          }
        },
        "bc29d3eb4c3e4a88b0c2d6c533083f95": {
          "model_module": "@jupyter-widgets/controls",
          "model_module_version": "1.5.0",
          "model_name": "FloatProgressModel",
          "state": {
            "_dom_classes": [],
            "_model_module": "@jupyter-widgets/controls",
            "_model_module_version": "1.5.0",
            "_model_name": "FloatProgressModel",
            "_view_count": null,
            "_view_module": "@jupyter-widgets/controls",
            "_view_module_version": "1.5.0",
            "_view_name": "ProgressView",
            "bar_style": "success",
            "description": "",
            "description_tooltip": null,
            "layout": "IPY_MODEL_77a3382e45194a8e9d9a65df374adf2e",
            "max": 10621,
            "min": 0,
            "orientation": "horizontal",
            "style": "IPY_MODEL_bb0d4c83476f44de96f0faecf94767a4",
            "value": 10621
          }
        },
        "bd05fcab58c94abfbbe4973354d5d092": {
          "model_module": "@jupyter-widgets/controls",
          "model_module_version": "1.5.0",
          "model_name": "DescriptionStyleModel",
          "state": {
            "_model_module": "@jupyter-widgets/controls",
            "_model_module_version": "1.5.0",
            "_model_name": "DescriptionStyleModel",
            "_view_count": null,
            "_view_module": "@jupyter-widgets/base",
            "_view_module_version": "1.2.0",
            "_view_name": "StyleView",
            "description_width": ""
          }
        },
        "bf1ebbbf5a254573898175637eaa10f2": {
          "model_module": "@jupyter-widgets/base",
          "model_module_version": "1.2.0",
          "model_name": "LayoutModel",
          "state": {
            "_model_module": "@jupyter-widgets/base",
            "_model_module_version": "1.2.0",
            "_model_name": "LayoutModel",
            "_view_count": null,
            "_view_module": "@jupyter-widgets/base",
            "_view_module_version": "1.2.0",
            "_view_name": "LayoutView",
            "align_content": null,
            "align_items": null,
            "align_self": null,
            "border": null,
            "bottom": null,
            "display": null,
            "flex": null,
            "flex_flow": null,
            "grid_area": null,
            "grid_auto_columns": null,
            "grid_auto_flow": null,
            "grid_auto_rows": null,
            "grid_column": null,
            "grid_gap": null,
            "grid_row": null,
            "grid_template_areas": null,
            "grid_template_columns": null,
            "grid_template_rows": null,
            "height": null,
            "justify_content": null,
            "justify_items": null,
            "left": null,
            "margin": null,
            "max_height": null,
            "max_width": null,
            "min_height": null,
            "min_width": null,
            "object_fit": null,
            "object_position": null,
            "order": null,
            "overflow": null,
            "overflow_x": null,
            "overflow_y": null,
            "padding": null,
            "right": null,
            "top": null,
            "visibility": null,
            "width": null
          }
        },
        "bf4abe14b6834087a638434c63965542": {
          "model_module": "@jupyter-widgets/controls",
          "model_module_version": "1.5.0",
          "model_name": "DescriptionStyleModel",
          "state": {
            "_model_module": "@jupyter-widgets/controls",
            "_model_module_version": "1.5.0",
            "_model_name": "DescriptionStyleModel",
            "_view_count": null,
            "_view_module": "@jupyter-widgets/base",
            "_view_module_version": "1.2.0",
            "_view_name": "StyleView",
            "description_width": ""
          }
        },
        "c208c7ff48164dfba351f8e4a5ba6c62": {
          "model_module": "@jupyter-widgets/controls",
          "model_module_version": "1.5.0",
          "model_name": "ProgressStyleModel",
          "state": {
            "_model_module": "@jupyter-widgets/controls",
            "_model_module_version": "1.5.0",
            "_model_name": "ProgressStyleModel",
            "_view_count": null,
            "_view_module": "@jupyter-widgets/base",
            "_view_module_version": "1.2.0",
            "_view_name": "StyleView",
            "bar_color": null,
            "description_width": ""
          }
        },
        "c898a3a8143d417a8856805d21ccc853": {
          "model_module": "@jupyter-widgets/controls",
          "model_module_version": "1.5.0",
          "model_name": "ProgressStyleModel",
          "state": {
            "_model_module": "@jupyter-widgets/controls",
            "_model_module_version": "1.5.0",
            "_model_name": "ProgressStyleModel",
            "_view_count": null,
            "_view_module": "@jupyter-widgets/base",
            "_view_module_version": "1.2.0",
            "_view_name": "StyleView",
            "bar_color": null,
            "description_width": ""
          }
        },
        "c8fbdacb88e842d7a96a668db808800a": {
          "model_module": "@jupyter-widgets/base",
          "model_module_version": "1.2.0",
          "model_name": "LayoutModel",
          "state": {
            "_model_module": "@jupyter-widgets/base",
            "_model_module_version": "1.2.0",
            "_model_name": "LayoutModel",
            "_view_count": null,
            "_view_module": "@jupyter-widgets/base",
            "_view_module_version": "1.2.0",
            "_view_name": "LayoutView",
            "align_content": null,
            "align_items": null,
            "align_self": null,
            "border": null,
            "bottom": null,
            "display": null,
            "flex": null,
            "flex_flow": null,
            "grid_area": null,
            "grid_auto_columns": null,
            "grid_auto_flow": null,
            "grid_auto_rows": null,
            "grid_column": null,
            "grid_gap": null,
            "grid_row": null,
            "grid_template_areas": null,
            "grid_template_columns": null,
            "grid_template_rows": null,
            "height": null,
            "justify_content": null,
            "justify_items": null,
            "left": null,
            "margin": null,
            "max_height": null,
            "max_width": null,
            "min_height": null,
            "min_width": null,
            "object_fit": null,
            "object_position": null,
            "order": null,
            "overflow": null,
            "overflow_x": null,
            "overflow_y": null,
            "padding": null,
            "right": null,
            "top": null,
            "visibility": null,
            "width": null
          }
        },
        "c903f217942541c68311a9514de084c0": {
          "model_module": "@jupyter-widgets/controls",
          "model_module_version": "1.5.0",
          "model_name": "DescriptionStyleModel",
          "state": {
            "_model_module": "@jupyter-widgets/controls",
            "_model_module_version": "1.5.0",
            "_model_name": "DescriptionStyleModel",
            "_view_count": null,
            "_view_module": "@jupyter-widgets/base",
            "_view_module_version": "1.2.0",
            "_view_name": "StyleView",
            "description_width": ""
          }
        },
        "ccbb06d373364745a9dd661b80440f75": {
          "model_module": "@jupyter-widgets/controls",
          "model_module_version": "1.5.0",
          "model_name": "DescriptionStyleModel",
          "state": {
            "_model_module": "@jupyter-widgets/controls",
            "_model_module_version": "1.5.0",
            "_model_name": "DescriptionStyleModel",
            "_view_count": null,
            "_view_module": "@jupyter-widgets/base",
            "_view_module_version": "1.2.0",
            "_view_name": "StyleView",
            "description_width": ""
          }
        },
        "d4e45738eb1747dc9cadfd02e011d0bc": {
          "model_module": "@jupyter-widgets/controls",
          "model_module_version": "1.5.0",
          "model_name": "DescriptionStyleModel",
          "state": {
            "_model_module": "@jupyter-widgets/controls",
            "_model_module_version": "1.5.0",
            "_model_name": "DescriptionStyleModel",
            "_view_count": null,
            "_view_module": "@jupyter-widgets/base",
            "_view_module_version": "1.2.0",
            "_view_name": "StyleView",
            "description_width": ""
          }
        },
        "d74e417ad9ad4acc9c374e5f35fc8fb0": {
          "model_module": "@jupyter-widgets/controls",
          "model_module_version": "1.5.0",
          "model_name": "DescriptionStyleModel",
          "state": {
            "_model_module": "@jupyter-widgets/controls",
            "_model_module_version": "1.5.0",
            "_model_name": "DescriptionStyleModel",
            "_view_count": null,
            "_view_module": "@jupyter-widgets/base",
            "_view_module_version": "1.2.0",
            "_view_name": "StyleView",
            "description_width": ""
          }
        },
        "d8af7df07679461c9f02b18c13fb2d03": {
          "model_module": "@jupyter-widgets/controls",
          "model_module_version": "1.5.0",
          "model_name": "FloatProgressModel",
          "state": {
            "_dom_classes": [],
            "_model_module": "@jupyter-widgets/controls",
            "_model_module_version": "1.5.0",
            "_model_name": "FloatProgressModel",
            "_view_count": null,
            "_view_module": "@jupyter-widgets/controls",
            "_view_module_version": "1.5.0",
            "_view_name": "ProgressView",
            "bar_style": "success",
            "description": "",
            "description_tooltip": null,
            "layout": "IPY_MODEL_dbd1777d1d2c4cbfbfb120d31c3fbc4e",
            "max": 231536,
            "min": 0,
            "orientation": "horizontal",
            "style": "IPY_MODEL_64d66550d74243a0a69ab8aa40dace80",
            "value": 231536
          }
        },
        "dbd1777d1d2c4cbfbfb120d31c3fbc4e": {
          "model_module": "@jupyter-widgets/base",
          "model_module_version": "1.2.0",
          "model_name": "LayoutModel",
          "state": {
            "_model_module": "@jupyter-widgets/base",
            "_model_module_version": "1.2.0",
            "_model_name": "LayoutModel",
            "_view_count": null,
            "_view_module": "@jupyter-widgets/base",
            "_view_module_version": "1.2.0",
            "_view_name": "LayoutView",
            "align_content": null,
            "align_items": null,
            "align_self": null,
            "border": null,
            "bottom": null,
            "display": null,
            "flex": null,
            "flex_flow": null,
            "grid_area": null,
            "grid_auto_columns": null,
            "grid_auto_flow": null,
            "grid_auto_rows": null,
            "grid_column": null,
            "grid_gap": null,
            "grid_row": null,
            "grid_template_areas": null,
            "grid_template_columns": null,
            "grid_template_rows": null,
            "height": null,
            "justify_content": null,
            "justify_items": null,
            "left": null,
            "margin": null,
            "max_height": null,
            "max_width": null,
            "min_height": null,
            "min_width": null,
            "object_fit": null,
            "object_position": null,
            "order": null,
            "overflow": null,
            "overflow_x": null,
            "overflow_y": null,
            "padding": null,
            "right": null,
            "top": null,
            "visibility": null,
            "width": null
          }
        },
        "df5996edee534b3aacfba4586cf07b88": {
          "model_module": "@jupyter-widgets/controls",
          "model_module_version": "1.5.0",
          "model_name": "HBoxModel",
          "state": {
            "_dom_classes": [],
            "_model_module": "@jupyter-widgets/controls",
            "_model_module_version": "1.5.0",
            "_model_name": "HBoxModel",
            "_view_count": null,
            "_view_module": "@jupyter-widgets/controls",
            "_view_module_version": "1.5.0",
            "_view_name": "HBoxView",
            "box_style": "",
            "children": [
              "IPY_MODEL_4fb49ebe3ee94193aed64f26a5b08536",
              "IPY_MODEL_7aa142973e31407c82f58d8655427f57",
              "IPY_MODEL_adf03e446b084513832b53b521681e65"
            ],
            "layout": "IPY_MODEL_7f21a9f3bb774fa4b8f5ef6e85e456d1"
          }
        },
        "e00644c643c64a14873784c427b16110": {
          "model_module": "@jupyter-widgets/controls",
          "model_module_version": "1.5.0",
          "model_name": "HTMLModel",
          "state": {
            "_dom_classes": [],
            "_model_module": "@jupyter-widgets/controls",
            "_model_module_version": "1.5.0",
            "_model_name": "HTMLModel",
            "_view_count": null,
            "_view_module": "@jupyter-widgets/controls",
            "_view_module_version": "1.5.0",
            "_view_name": "HTMLView",
            "description": "",
            "description_tooltip": null,
            "layout": "IPY_MODEL_34af75d5000743eaae651d2c966d9ffb",
            "placeholder": "​",
            "style": "IPY_MODEL_d4e45738eb1747dc9cadfd02e011d0bc",
            "value": "vocab.txt: 100%"
          }
        },
        "e0a5290396f44c41911214230ce2c3d2": {
          "model_module": "@jupyter-widgets/controls",
          "model_module_version": "1.5.0",
          "model_name": "HTMLModel",
          "state": {
            "_dom_classes": [],
            "_model_module": "@jupyter-widgets/controls",
            "_model_module_version": "1.5.0",
            "_model_name": "HTMLModel",
            "_view_count": null,
            "_view_module": "@jupyter-widgets/controls",
            "_view_module_version": "1.5.0",
            "_view_name": "HTMLView",
            "description": "",
            "description_tooltip": null,
            "layout": "IPY_MODEL_9a526819553e4272903119821d1d34a5",
            "placeholder": "​",
            "style": "IPY_MODEL_57b974765c0340dca6a9b0eb7809f02a",
            "value": "special_tokens_map.json: 100%"
          }
        },
        "e26d9ec26eba4a1493007a1bd46b446c": {
          "model_module": "@jupyter-widgets/controls",
          "model_module_version": "1.5.0",
          "model_name": "DescriptionStyleModel",
          "state": {
            "_model_module": "@jupyter-widgets/controls",
            "_model_module_version": "1.5.0",
            "_model_name": "DescriptionStyleModel",
            "_view_count": null,
            "_view_module": "@jupyter-widgets/base",
            "_view_module_version": "1.2.0",
            "_view_name": "StyleView",
            "description_width": ""
          }
        },
        "e2c5f8a6b5dc43f5a9b4924de7bf4648": {
          "model_module": "@jupyter-widgets/controls",
          "model_module_version": "1.5.0",
          "model_name": "ProgressStyleModel",
          "state": {
            "_model_module": "@jupyter-widgets/controls",
            "_model_module_version": "1.5.0",
            "_model_name": "ProgressStyleModel",
            "_view_count": null,
            "_view_module": "@jupyter-widgets/base",
            "_view_module_version": "1.2.0",
            "_view_name": "StyleView",
            "bar_color": null,
            "description_width": ""
          }
        },
        "e3a87fbcd8794179b69f9160bb1b7f01": {
          "model_module": "@jupyter-widgets/controls",
          "model_module_version": "1.5.0",
          "model_name": "HBoxModel",
          "state": {
            "_dom_classes": [],
            "_model_module": "@jupyter-widgets/controls",
            "_model_module_version": "1.5.0",
            "_model_name": "HBoxModel",
            "_view_count": null,
            "_view_module": "@jupyter-widgets/controls",
            "_view_module_version": "1.5.0",
            "_view_name": "HBoxView",
            "box_style": "",
            "children": [
              "IPY_MODEL_65c24149e62f403c928b8912045e545c",
              "IPY_MODEL_a6aed4b0a2e54809b3218a232464eacc",
              "IPY_MODEL_65a03eb7408542789f5aec88fa7452a1"
            ],
            "layout": "IPY_MODEL_18feb0f00bd54e499fe42cb8fd3b7a1b"
          }
        },
        "e66a8e4d21c145c8947c4c743a4fc62a": {
          "model_module": "@jupyter-widgets/base",
          "model_module_version": "1.2.0",
          "model_name": "LayoutModel",
          "state": {
            "_model_module": "@jupyter-widgets/base",
            "_model_module_version": "1.2.0",
            "_model_name": "LayoutModel",
            "_view_count": null,
            "_view_module": "@jupyter-widgets/base",
            "_view_module_version": "1.2.0",
            "_view_name": "LayoutView",
            "align_content": null,
            "align_items": null,
            "align_self": null,
            "border": null,
            "bottom": null,
            "display": null,
            "flex": null,
            "flex_flow": null,
            "grid_area": null,
            "grid_auto_columns": null,
            "grid_auto_flow": null,
            "grid_auto_rows": null,
            "grid_column": null,
            "grid_gap": null,
            "grid_row": null,
            "grid_template_areas": null,
            "grid_template_columns": null,
            "grid_template_rows": null,
            "height": null,
            "justify_content": null,
            "justify_items": null,
            "left": null,
            "margin": null,
            "max_height": null,
            "max_width": null,
            "min_height": null,
            "min_width": null,
            "object_fit": null,
            "object_position": null,
            "order": null,
            "overflow": null,
            "overflow_x": null,
            "overflow_y": null,
            "padding": null,
            "right": null,
            "top": null,
            "visibility": null,
            "width": null
          }
        },
        "e854dd62f95e4aa2bf6be6e1b43a29d5": {
          "model_module": "@jupyter-widgets/base",
          "model_module_version": "1.2.0",
          "model_name": "LayoutModel",
          "state": {
            "_model_module": "@jupyter-widgets/base",
            "_model_module_version": "1.2.0",
            "_model_name": "LayoutModel",
            "_view_count": null,
            "_view_module": "@jupyter-widgets/base",
            "_view_module_version": "1.2.0",
            "_view_name": "LayoutView",
            "align_content": null,
            "align_items": null,
            "align_self": null,
            "border": null,
            "bottom": null,
            "display": null,
            "flex": null,
            "flex_flow": null,
            "grid_area": null,
            "grid_auto_columns": null,
            "grid_auto_flow": null,
            "grid_auto_rows": null,
            "grid_column": null,
            "grid_gap": null,
            "grid_row": null,
            "grid_template_areas": null,
            "grid_template_columns": null,
            "grid_template_rows": null,
            "height": null,
            "justify_content": null,
            "justify_items": null,
            "left": null,
            "margin": null,
            "max_height": null,
            "max_width": null,
            "min_height": null,
            "min_width": null,
            "object_fit": null,
            "object_position": null,
            "order": null,
            "overflow": null,
            "overflow_x": null,
            "overflow_y": null,
            "padding": null,
            "right": null,
            "top": null,
            "visibility": null,
            "width": null
          }
        },
        "eb2fced7e58440fa97dd710c4cd42c3f": {
          "model_module": "@jupyter-widgets/base",
          "model_module_version": "1.2.0",
          "model_name": "LayoutModel",
          "state": {
            "_model_module": "@jupyter-widgets/base",
            "_model_module_version": "1.2.0",
            "_model_name": "LayoutModel",
            "_view_count": null,
            "_view_module": "@jupyter-widgets/base",
            "_view_module_version": "1.2.0",
            "_view_name": "LayoutView",
            "align_content": null,
            "align_items": null,
            "align_self": null,
            "border": null,
            "bottom": null,
            "display": null,
            "flex": null,
            "flex_flow": null,
            "grid_area": null,
            "grid_auto_columns": null,
            "grid_auto_flow": null,
            "grid_auto_rows": null,
            "grid_column": null,
            "grid_gap": null,
            "grid_row": null,
            "grid_template_areas": null,
            "grid_template_columns": null,
            "grid_template_rows": null,
            "height": null,
            "justify_content": null,
            "justify_items": null,
            "left": null,
            "margin": null,
            "max_height": null,
            "max_width": null,
            "min_height": null,
            "min_width": null,
            "object_fit": null,
            "object_position": null,
            "order": null,
            "overflow": null,
            "overflow_x": null,
            "overflow_y": null,
            "padding": null,
            "right": null,
            "top": null,
            "visibility": null,
            "width": null
          }
        },
        "ef5764ef8b694af29bc4896e89c2f717": {
          "model_module": "@jupyter-widgets/base",
          "model_module_version": "1.2.0",
          "model_name": "LayoutModel",
          "state": {
            "_model_module": "@jupyter-widgets/base",
            "_model_module_version": "1.2.0",
            "_model_name": "LayoutModel",
            "_view_count": null,
            "_view_module": "@jupyter-widgets/base",
            "_view_module_version": "1.2.0",
            "_view_name": "LayoutView",
            "align_content": null,
            "align_items": null,
            "align_self": null,
            "border": null,
            "bottom": null,
            "display": null,
            "flex": null,
            "flex_flow": null,
            "grid_area": null,
            "grid_auto_columns": null,
            "grid_auto_flow": null,
            "grid_auto_rows": null,
            "grid_column": null,
            "grid_gap": null,
            "grid_row": null,
            "grid_template_areas": null,
            "grid_template_columns": null,
            "grid_template_rows": null,
            "height": null,
            "justify_content": null,
            "justify_items": null,
            "left": null,
            "margin": null,
            "max_height": null,
            "max_width": null,
            "min_height": null,
            "min_width": null,
            "object_fit": null,
            "object_position": null,
            "order": null,
            "overflow": null,
            "overflow_x": null,
            "overflow_y": null,
            "padding": null,
            "right": null,
            "top": null,
            "visibility": null,
            "width": null
          }
        },
        "f0b051baf9964ab99ea82dea0f0dd4f8": {
          "model_module": "@jupyter-widgets/controls",
          "model_module_version": "1.5.0",
          "model_name": "DescriptionStyleModel",
          "state": {
            "_model_module": "@jupyter-widgets/controls",
            "_model_module_version": "1.5.0",
            "_model_name": "DescriptionStyleModel",
            "_view_count": null,
            "_view_module": "@jupyter-widgets/base",
            "_view_module_version": "1.2.0",
            "_view_name": "StyleView",
            "description_width": ""
          }
        },
        "f0e98e6f61674fab9315b6f8c82ea81d": {
          "model_module": "@jupyter-widgets/base",
          "model_module_version": "1.2.0",
          "model_name": "LayoutModel",
          "state": {
            "_model_module": "@jupyter-widgets/base",
            "_model_module_version": "1.2.0",
            "_model_name": "LayoutModel",
            "_view_count": null,
            "_view_module": "@jupyter-widgets/base",
            "_view_module_version": "1.2.0",
            "_view_name": "LayoutView",
            "align_content": null,
            "align_items": null,
            "align_self": null,
            "border": null,
            "bottom": null,
            "display": null,
            "flex": null,
            "flex_flow": null,
            "grid_area": null,
            "grid_auto_columns": null,
            "grid_auto_flow": null,
            "grid_auto_rows": null,
            "grid_column": null,
            "grid_gap": null,
            "grid_row": null,
            "grid_template_areas": null,
            "grid_template_columns": null,
            "grid_template_rows": null,
            "height": null,
            "justify_content": null,
            "justify_items": null,
            "left": null,
            "margin": null,
            "max_height": null,
            "max_width": null,
            "min_height": null,
            "min_width": null,
            "object_fit": null,
            "object_position": null,
            "order": null,
            "overflow": null,
            "overflow_x": null,
            "overflow_y": null,
            "padding": null,
            "right": null,
            "top": null,
            "visibility": null,
            "width": null
          }
        },
        "f3b09f3c52314167896b31609c2bf0ed": {
          "model_module": "@jupyter-widgets/controls",
          "model_module_version": "1.5.0",
          "model_name": "HBoxModel",
          "state": {
            "_dom_classes": [],
            "_model_module": "@jupyter-widgets/controls",
            "_model_module_version": "1.5.0",
            "_model_name": "HBoxModel",
            "_view_count": null,
            "_view_module": "@jupyter-widgets/controls",
            "_view_module_version": "1.5.0",
            "_view_name": "HBoxView",
            "box_style": "",
            "children": [
              "IPY_MODEL_e0a5290396f44c41911214230ce2c3d2",
              "IPY_MODEL_731afa7dca6d49df9800806b26dcb2bc",
              "IPY_MODEL_33b56dbc866e4b9ab1959341f20aa3e5"
            ],
            "layout": "IPY_MODEL_e66a8e4d21c145c8947c4c743a4fc62a"
          }
        },
        "f782c39d592644db95916cdf825fafed": {
          "model_module": "@jupyter-widgets/base",
          "model_module_version": "1.2.0",
          "model_name": "LayoutModel",
          "state": {
            "_model_module": "@jupyter-widgets/base",
            "_model_module_version": "1.2.0",
            "_model_name": "LayoutModel",
            "_view_count": null,
            "_view_module": "@jupyter-widgets/base",
            "_view_module_version": "1.2.0",
            "_view_name": "LayoutView",
            "align_content": null,
            "align_items": null,
            "align_self": null,
            "border": null,
            "bottom": null,
            "display": null,
            "flex": null,
            "flex_flow": null,
            "grid_area": null,
            "grid_auto_columns": null,
            "grid_auto_flow": null,
            "grid_auto_rows": null,
            "grid_column": null,
            "grid_gap": null,
            "grid_row": null,
            "grid_template_areas": null,
            "grid_template_columns": null,
            "grid_template_rows": null,
            "height": null,
            "justify_content": null,
            "justify_items": null,
            "left": null,
            "margin": null,
            "max_height": null,
            "max_width": null,
            "min_height": null,
            "min_width": null,
            "object_fit": null,
            "object_position": null,
            "order": null,
            "overflow": null,
            "overflow_x": null,
            "overflow_y": null,
            "padding": null,
            "right": null,
            "top": null,
            "visibility": null,
            "width": null
          }
        },
        "f94818403bf740088165ebe86a406cc9": {
          "model_module": "@jupyter-widgets/controls",
          "model_module_version": "1.5.0",
          "model_name": "DescriptionStyleModel",
          "state": {
            "_model_module": "@jupyter-widgets/controls",
            "_model_module_version": "1.5.0",
            "_model_name": "DescriptionStyleModel",
            "_view_count": null,
            "_view_module": "@jupyter-widgets/base",
            "_view_module_version": "1.2.0",
            "_view_name": "StyleView",
            "description_width": ""
          }
        },
        "fa8fca4345694b49bc59266dface5308": {
          "model_module": "@jupyter-widgets/controls",
          "model_module_version": "1.5.0",
          "model_name": "DescriptionStyleModel",
          "state": {
            "_model_module": "@jupyter-widgets/controls",
            "_model_module_version": "1.5.0",
            "_model_name": "DescriptionStyleModel",
            "_view_count": null,
            "_view_module": "@jupyter-widgets/base",
            "_view_module_version": "1.2.0",
            "_view_name": "StyleView",
            "description_width": ""
          }
        }
      }
    }
  },
  "nbformat": 4,
  "nbformat_minor": 0
}
