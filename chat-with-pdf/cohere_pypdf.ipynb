{
 "cells": [
  {
   "cell_type": "code",
   "execution_count": 1,
   "metadata": {},
   "outputs": [
    {
     "name": "stdout",
     "output_type": "stream",
     "text": [
      "\u001b[31mERROR: pip's dependency resolver does not currently take into account all the packages that are installed. This behaviour is the source of the following dependency conflicts.\n",
      "tox 4.13.0 requires filelock>=3.13.1, but you have filelock 3.9.0 which is incompatible.\u001b[0m\u001b[31m\n",
      "\u001b[0m"
     ]
    }
   ],
   "source": [
    "!pip install langchain-cohere -q\n",
    "!pip install langchain-community langchain-core langchain -q\n",
    "!pip install faiss-cpu -q\n",
    "!pip install pypdf -q"
   ]
  },
  {
   "cell_type": "code",
   "execution_count": 8,
   "metadata": {},
   "outputs": [
    {
     "data": {
      "text/plain": [
       "True"
      ]
     },
     "execution_count": 8,
     "metadata": {},
     "output_type": "execute_result"
    }
   ],
   "source": []
  },
  {
   "cell_type": "code",
   "execution_count": 9,
   "metadata": {},
   "outputs": [
    {
     "name": "stdout",
     "output_type": "stream",
     "text": [
      "loading PDF...\n",
      "Number of documents: 15\n",
      "splitting text...\n",
      "creating embedding...\n",
      "creating vector store...\n"
     ]
    },
    {
     "name": "stderr",
     "output_type": "stream",
     "text": [
      "/home/anon/mambaforge/envs/machine_env/lib/python3.10/site-packages/langchain_core/_api/deprecation.py:139: LangChainDeprecationWarning: The class `Cohere` was deprecated in LangChain 0.1.14 and will be removed in 0.3.0. An updated version of the class exists in the langchain-cohere package and should be used instead. To use it run `pip install -U langchain-cohere` and import as `from langchain_cohere import Cohere`.\n",
      "  warn_deprecated(\n"
     ]
    },
    {
     "name": "stdout",
     "output_type": "stream",
     "text": [
      "initializing Cohere model...\n",
      "creating retrieval-based QA chain...\n"
     ]
    },
    {
     "name": "stderr",
     "output_type": "stream",
     "text": [
      "/home/anon/mambaforge/envs/machine_env/lib/python3.10/site-packages/langchain_core/_api/deprecation.py:139: LangChainDeprecationWarning: The method `Chain.run` was deprecated in langchain 0.1.0 and will be removed in 0.3.0. Use invoke instead.\n",
      "  warn_deprecated(\n"
     ]
    },
    {
     "name": "stdout",
     "output_type": "stream",
     "text": [
      " This paper describes the results of the authors' experimentation with Transformer models, first introduced in Vaswani et al.'s paper \"Attention Is All You Need\" in 2017. The experiments exceed expectations and establish new state-of-the-art results on WMT 2014 English-to-German and English-to-French translation tasks. The authors claim that their best model outperforms even all previously reported ensembles on the English-to-German task. \n",
      "\n",
      "Would you like more information on this paper? \n",
      " The context provided does not indicate the answer to this question, but I can attempt to answer anyway. It is possible that the authors utilized code or techniques from prior works and adapted them for their research. Alternatively, the authors may have used code available to them through their employment at Google Brain or Google Research. \n"
     ]
    }
   ],
   "source": [
    "import os\n",
    "from langchain.document_loaders import PyPDFLoader\n",
    "from langchain.text_splitter import RecursiveCharacterTextSplitter\n",
    "from langchain.embeddings import CohereEmbeddings\n",
    "from langchain.vectorstores import FAISS\n",
    "from langchain.chains import RetrievalQA\n",
    "from langchain_community.llms import Cohere\n",
    "\n",
    "# Set Cohere API key\n",
    "# os.environ[\"COHERE_API_KEY\"] = userdata.get('COHERE_API_KEY')\n",
    "# from google.colab import userdata\n",
    "from dotenv import load_dotenv\n",
    "load_dotenv()\n",
    "\n",
    "# Load PDF\n",
    "print('loading PDF...')\n",
    "loader = PyPDFLoader(\"1706.03762v7.pdf\")\n",
    "documents = loader.load() # Each document is seperate page of pdf\n",
    "print(f\"Number of documents: {len(documents)}\")\n",
    "\n",
    "# Split text into chunks\n",
    "print('splitting text...')\n",
    "text_splitter = RecursiveCharacterTextSplitter(chunk_size=1000, chunk_overlap=200)\n",
    "texts = text_splitter.split_documents(documents)\n",
    "\n",
    "# Create embeddings using Cohere\n",
    "print('creating embedding...')\n",
    "embeddings = CohereEmbeddings()\n",
    "\n",
    "# Create vector store\n",
    "print('creating vector store...')\n",
    "db = FAISS.from_documents(texts, embeddings)\n",
    "\n",
    "# Initialize Cohere model\n",
    "print('initializing Cohere model...')\n",
    "llm = Cohere(model=\"command\")  # You can also use \"command-light\" for a smaller model\n",
    "\n",
    "# Create retrieval-based QA chain\n",
    "print('creating retrieval-based QA chain...')\n",
    "qa_chain = RetrievalQA.from_chain_type(llm=llm, chain_type=\"stuff\", retriever=db.as_retriever())\n",
    "\n",
    "# Chat loop\n",
    "while True:\n",
    "    query = input(\"Ask a question about your PDF (or type 'quit' to exit): \")\n",
    "    if query.lower() == 'quit':\n",
    "        break\n",
    "    response = qa_chain.run(query)\n",
    "    print(response)"
   ]
  }
 ],
 "metadata": {
  "kernelspec": {
   "display_name": "machine_env",
   "language": "python",
   "name": "python3"
  },
  "language_info": {
   "codemirror_mode": {
    "name": "ipython",
    "version": 3
   },
   "file_extension": ".py",
   "mimetype": "text/x-python",
   "name": "python",
   "nbconvert_exporter": "python",
   "pygments_lexer": "ipython3",
   "version": "3.10.12"
  }
 },
 "nbformat": 4,
 "nbformat_minor": 2
}
