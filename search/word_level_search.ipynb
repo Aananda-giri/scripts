{
 "cells": [
  {
   "cell_type": "markdown",
   "metadata": {},
   "source": [
    "* O(log(n)) Word-level Search:\n",
    "* we have list of sentences sentences\n",
    "* we want to search query word.\n",
    "\n",
    "* Naive sentence-structure give us O(n) complexity\n",
    "* can we search it in O(log(n)) time complexity?"
   ]
  },
  {
   "cell_type": "code",
   "execution_count": 11,
   "metadata": {},
   "outputs": [
    {
     "name": "stdout",
     "output_type": "stream",
     "text": [
      "n_operations: 2 \n",
      "n_Sentences:2 \n",
      "results: ['I love cats']\n"
     ]
    }
   ],
   "source": [
    "# O(n) time complexity\n",
    "sentences = [\"I love cats\", \"I love dogs too\"]\n",
    "\n",
    "def search(sentences, query):\n",
    "    results = []\n",
    "\n",
    "    # For checking complexity\n",
    "    n_operations = 0\n",
    "    for sentence in sentences:\n",
    "        n_operations += 1\n",
    "        if query in sentence.lower():\n",
    "            results.append(sentence)\n",
    "    return results, n_operations\n",
    "\n",
    "results, n_operations = search(sentences, 'cats')\n",
    "print(f\"n_operations: {n_operations} \\nn_Sentences:{len(sentences)} \\nresults: {results}\") # ['I love cats']"
   ]
  },
  {
   "cell_type": "markdown",
   "metadata": {},
   "source": [
    "# Inverted Index:\n",
    "* O(log(n)) time complexity\n",
    "1. Create an inverted index\n",
    "2. Sort the word lists in the inverted index\n",
    "3. qUse binary search to find matching sentences"
   ]
  },
  {
   "cell_type": "code",
   "execution_count": 37,
   "metadata": {},
   "outputs": [
    {
     "name": "stdout",
     "output_type": "stream",
     "text": [
      "Results for 'I love': ['I love cats', 'I love dogs too'] \n",
      "n_operations: 1\n",
      "\n",
      "Results for 'cats': ['I love cats', 'Cats are cute'] \n",
      "n_operations: 0\n",
      "\n",
      "Results for 'I love cats and dogs': [{'sentence': 'I love cats', 'score': 3}, {'sentence': 'I love dogs too', 'score': 3}, {'sentence': 'Cats are cute', 'score': 1}, {'sentence': 'Dogs are loyal', 'score': 1}] \n",
      "n_operations: 5\n"
     ]
    }
   ],
   "source": [
    "from collections import defaultdict\n",
    "import bisect\n",
    "\n",
    "class SentenceSearch:\n",
    "    def __init__(self, sentences):\n",
    "        self.sentences = sentences\n",
    "        self.inverted_index = self._create_inverted_index()\n",
    "\n",
    "    def _create_inverted_index(self):\n",
    "        '''\n",
    "        e.g.\n",
    "        ```\n",
    "        sentences = [\"I love cats\", \"I love dogs too\", \"Cats are cute\", \"Dogs are loyal\"]\n",
    "        searcher = SentenceSearch(sentences)\n",
    "        searcher.inverted_index\n",
    "        \n",
    "        # ----------------------------------\n",
    "        #               Output:\n",
    "        # ----------------------------------\n",
    "            defaultdict(list,\n",
    "                        {'i': [0, 1],\n",
    "                        'love': [0, 1],\n",
    "                        'cats': [0, 2],\n",
    "                        'dogs': [1, 3],\n",
    "                        'too': [1],\n",
    "                        'are': [2, 3],\n",
    "                        'cute': [2],\n",
    "                        'loyal': [3]})\n",
    "        ```\n",
    "        '''\n",
    "        \n",
    "        \n",
    "        inverted_index = defaultdict(list)\n",
    "        for idx, sentence in enumerate(self.sentences):\n",
    "            words = sentence.lower().split()\n",
    "            for word in words:\n",
    "                inverted_index[word].append(idx)\n",
    "        \n",
    "        # Sort the lists for each word\n",
    "        for word in inverted_index:\n",
    "            inverted_index[word].sort()\n",
    "        \n",
    "        return inverted_index\n",
    "\n",
    "    def search(self, query):\n",
    "        # Search sentences that contain all words in the query\n",
    "        query_words = query.lower().split() # ['i', 'love']\n",
    "        \n",
    "        if not query_words:\n",
    "            return []\n",
    "\n",
    "        # Start with the first word's sentence indices\n",
    "        result_indices = set(self.inverted_index.get(query_words[0], []))   # {0, 1}\n",
    "        n_operations = 0\n",
    "\n",
    "\n",
    "        # Intersect with other words' sentence indices\n",
    "        for word in query_words[1:]:\n",
    "            n_operations += 1\n",
    "            word_indices = set(self.inverted_index.get(word, []))\n",
    "            result_indices.intersection_update(word_indices)        \n",
    "\n",
    "        return [self.sentences[idx] for idx in result_indices], n_operations\n",
    "\n",
    "    def search2(self, query):\n",
    "        # Search sentences that contain at least one word in the query\n",
    "        '''\n",
    "        # count number of words from query the sentence contains\n",
    "        # counts 1 even if the sentence same contains query word twice. \n",
    "            e.g. \n",
    "                ```\n",
    "                    sentence = \"I love cats and I love cats\"\n",
    "                    query = \"love\"\n",
    "                    retults = [{\n",
    "                        sentence : \"I love cats and I love cats\",\n",
    "                        score:1\n",
    "                    }]\n",
    "        \n",
    "        e.g2.\n",
    "        ```\n",
    "        sentences = [\"I love cats\", \"I love dogs too\", \"Cats are cute\", \"Dogs are loyal\"]\n",
    "        searcher = SentenceSearch(sentences)\n",
    "        query = \"I love cats and dogs\"\n",
    "        searcher.search(query)\n",
    "\n",
    "        # Output:\n",
    "        ([\n",
    "            {\n",
    "                sentence:'I love cats'\n",
    "                score : 3\n",
    "            },\n",
    "            {\n",
    "                sentence:'I love dogs too'\n",
    "                score: 3\n",
    "            },\n",
    "            {\n",
    "                sentence:'Cats are cute'\n",
    "                score: 1\n",
    "            },\n",
    "            {\n",
    "                sentence:'Dogs are loyal'\n",
    "                score: 1\n",
    "            }\n",
    "            )\n",
    "        ```\n",
    "        '''\n",
    "        query_words = query.lower().split()\n",
    "        \n",
    "        if not query_words:\n",
    "            return []\n",
    "        \n",
    "        # Initialize a dictionary to store the score of each sentence\n",
    "        sentence_scores = defaultdict(int)\n",
    "        n_operations = 0\n",
    "\n",
    "        # Count the number of words from the query the sentence contains\n",
    "        for word in query_words:\n",
    "            n_operations += 1\n",
    "            for idx in self.inverted_index.get(word, []):\n",
    "                sentence_scores[idx] += 1\n",
    "        \n",
    "        # Sort the sentences by score\n",
    "        results = []\n",
    "        for idx, score in sorted(sentence_scores.items(), key=lambda x: x[1], reverse=True):\n",
    "            results.append({\n",
    "                'sentence': self.sentences[idx],\n",
    "                'score': score\n",
    "            })\n",
    "        \n",
    "        return results, n_operations\n",
    "\n",
    "\n",
    "# Example usage\n",
    "sentences = [\"I love cats\", \"I love dogs too\", \"Cats are cute\", \"Dogs are loyal\"]\n",
    "searcher = SentenceSearch(sentences)\n",
    "\n",
    "query = \"I love\"\n",
    "results, n_operations = searcher.search(query)\n",
    "print(f\"Results for '{query}':\", results, '\\nn_operations:', n_operations)\n",
    "\n",
    "\n",
    "query = \"cats\"\n",
    "results, n_operations = searcher.search(query)\n",
    "print(f\"\\nResults for '{query}':\", results, '\\nn_operations:', n_operations)\n",
    "\n",
    "query = \"I love cats and dogs\"\n",
    "results, n_operations = searcher.search2(query)\n",
    "print(f\"\\nResults for '{query}':\", results, '\\nn_operations:', n_operations)\n",
    "\n"
   ]
  },
  {
   "cell_type": "code",
   "execution_count": 12,
   "metadata": {},
   "outputs": [
    {
     "data": {
      "text/plain": [
       "defaultdict(list,\n",
       "            {'i': [0, 1],\n",
       "             'love': [0, 1],\n",
       "             'cats': [0, 2],\n",
       "             'dogs': [1, 3],\n",
       "             'too': [1],\n",
       "             'are': [2, 3],\n",
       "             'cute': [2],\n",
       "             'loyal': [3]})"
      ]
     },
     "execution_count": 12,
     "metadata": {},
     "output_type": "execute_result"
    }
   ],
   "source": [
    "searcher.inverted_index"
   ]
  },
  {
   "cell_type": "code",
   "execution_count": 28,
   "metadata": {},
   "outputs": [
    {
     "data": {
      "text/plain": [
       "{0, 1}"
      ]
     },
     "execution_count": 28,
     "metadata": {},
     "output_type": "execute_result"
    }
   ],
   "source": [
    "query_words = \"I love\".lower().split()\n",
    "query_words\n",
    "result_indices = set(searcher.inverted_index.get(query_words[0], []))\n",
    "result_indices"
   ]
  },
  {
   "cell_type": "code",
   "execution_count": 29,
   "metadata": {},
   "outputs": [
    {
     "data": {
      "text/plain": [
       "{0, 1}"
      ]
     },
     "execution_count": 29,
     "metadata": {},
     "output_type": "execute_result"
    }
   ],
   "source": [
    "set(searcher.inverted_index.get(query_words[1], []))"
   ]
  },
  {
   "cell_type": "markdown",
   "metadata": {},
   "source": [
    "# Mongo db built in full text search\n",
    "* time complexity: O(log(n))\n",
    "* Uses full-text search capabilities\n",
    "* Performs stemming (reducing words to their root form)\n",
    "* Ignores stop words (common words like \"the\", \"a\", \"an\")\n",
    "* Supports phrase searches and negation"
   ]
  }
 ],
 "metadata": {
  "kernelspec": {
   "display_name": "machine_env",
   "language": "python",
   "name": "python3"
  },
  "language_info": {
   "codemirror_mode": {
    "name": "ipython",
    "version": 3
   },
   "file_extension": ".py",
   "mimetype": "text/x-python",
   "name": "python",
   "nbconvert_exporter": "python",
   "pygments_lexer": "ipython3",
   "version": "3.1.undefined"
  }
 },
 "nbformat": 4,
 "nbformat_minor": 2
}
