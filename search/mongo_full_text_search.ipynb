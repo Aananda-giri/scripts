{
 "cells": [
  {
   "cell_type": "markdown",
   "metadata": {},
   "source": [
    "# Mongo db built in full text search\n",
    "* time complexity: O(log(n))\n",
    "* Uses full-text search capabilities\n",
    "* Performs stemming (reducing words to their root form)\n",
    "* Ignores stop words (common words like \"the\", \"a\", \"an\")\n",
    "* Supports phrase searches and negation"
   ]
  },
  {
   "cell_type": "code",
   "execution_count": null,
   "metadata": {},
   "outputs": [],
   "source": [
    "from mongo import Mongo\n",
    "\n",
    "from pymongo import MongoClient\n",
    "\n",
    "class MongoSentenceSearch:\n",
    "    def __init__(self, db_name='sentence_search', collection_name='sentences'):\n",
    "        mongo = Mongo()\n",
    "        self.collection = mongo.db['test']\n",
    "        \n",
    "        # Ensure text index is created\n",
    "        self.collection.create_index([('text', 'text')])\n",
    "    def add_sentences(self, sentences):\n",
    "        docs = [{'text': sentence} for sentence in sentences]\n",
    "        self.collection.insert_many(docs)\n",
    "    def search(self, query):\n",
    "        results = self.collection.find(\n",
    "            {'$text': {'$search': query}},\n",
    "            {'score': {'$meta': 'textScore'}, 'text': 1}\n",
    "        ).sort([('score', {'$meta': 'textScore'})])\n",
    "        return [(doc['text'], doc['score']) for doc in results]\n",
    "\n",
    "# Example usage\n",
    "searcher = MongoSentenceSearch()\n",
    "\n",
    "# Add sentences to MongoDB\n",
    "sentences = [\"I love cats\", \"I love dogs too\", \"Cats are cute\", \"Dogs are loyal\"]\n",
    "searcher.add_sentences(sentences)\n",
    "\n",
    "# Perform search\n",
    "query = \"love dogs\"\n",
    "results = searcher.search(query)\n",
    "print(f\"Results for '{query}':\")\n",
    "for text, score in results:\n",
    "    print(f\"Score: {score:.2f} - Text: {text}\")\n",
    "\n",
    "'''\n",
    "# Output:\n",
    "Score: 1.50 - Text: I love dogs too\n",
    "Score: 1.50 - Text: I love dogs too\n",
    "Score: 1.50 - Text: I love dogs too\n",
    "Score: 0.75 - Text: Dogs are loyal\n",
    "Score: 0.75 - Text: I love cats\n",
    "Score: 0.75 - Text: Dogs are loyal\n",
    "Score: 0.75 - Text: I love cats\n",
    "Score: 0.75 - Text: Dogs are loyal\n",
    "Score: 0.75 - Text: I love cats\n",
    "'''"
   ]
  }
 ],
 "metadata": {
  "language_info": {
   "name": "python"
  }
 },
 "nbformat": 4,
 "nbformat_minor": 2
}
